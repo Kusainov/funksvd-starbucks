{
 "cells": [
  {
   "cell_type": "markdown",
   "metadata": {},
   "source": [
    "# Starbucks Capstone Project\n",
    "\n",
    "<img src=\"coffee.jpg\"/>\n",
    "\n",
    "\n",
    "\n",
    "### Introduction\n",
    "\n",
    "This data set contains simulated data that mimics customer behavior on the Starbucks rewards mobile app. Once every few days, Starbucks sends out an offer to users of the mobile app. An offer can be merely an advertisement for a drink or an actual offer such as a discount or BOGO (buy one get one free). Some users might not receive any offer during certain weeks. \n",
    "\n",
    "Not all users receive the same offer, and that is the challenge to solve with this data set.\n",
    "\n",
    "Your task is to combine transaction, demographic and offer data to determine which demographic groups respond best to which offer type. This data set is a simplified version of the real Starbucks app because the underlying simulator only has one product whereas Starbucks actually sells dozens of products.\n",
    "\n",
    "Every offer has a validity period before the offer expires. As an example, a BOGO offer might be valid for only 5 days. You'll see in the data set that informational offers have a validity period even though these ads are merely providing information about a product; for example, if an informational offer has 7 days of validity, you can assume the customer is feeling the influence of the offer for 7 days after receiving the advertisement.\n",
    "\n",
    "You'll be given transactional data showing user purchases made on the app including the timestamp of purchase and the amount of money spent on a purchase. This transactional data also has a record for each offer that a user receives as well as a record for when a user actually views the offer. There are also records for when a user completes an offer. \n",
    "\n",
    "Keep in mind as well that someone using the app might make a purchase through the app without having received an offer or seen an offer.\n",
    "\n",
    "### Example\n",
    "\n",
    "To give an example, a user could receive a discount offer buy 10 dollars get 2 off on Monday. The offer is valid for 10 days from receipt. If the customer accumulates at least 10 dollars in purchases during the validity period, the customer completes the offer.\n",
    "\n",
    "However, there are a few things to watch out for in this data set. Customers do not opt into the offers that they receive; in other words, a user can receive an offer, never actually view the offer, and still complete the offer. For example, a user might receive the \"buy 10 dollars get 2 dollars off offer\", but the user never opens the offer during the 10 day validity period. The customer spends 15 dollars during those ten days. There will be an offer completion record in the data set; however, the customer was not influenced by the offer because the customer never viewed the offer.\n",
    "\n",
    "### Cleaning\n",
    "\n",
    "This makes data cleaning especially important and tricky.\n",
    "\n",
    "You'll also want to take into account that some demographic groups will make purchases even if they don't receive an offer. From a business perspective, if a customer is going to make a 10 dollar purchase without an offer anyway, you wouldn't want to send a buy 10 dollars get 2 dollars off offer. You'll want to try to assess what a certain demographic group will buy when not receiving any offers.\n",
    "\n",
    "\n",
    "#### Metrcis and estimators\n",
    "\n",
    "As estimator for FunkSVD function Mean Squared Error (MSE) was selected. MSE measures the average of the squares of the errors — that is, the average squared difference between the estimated values and what is estimated. It shows how well squared difference decreased for all predictions with more iterations. \n",
    "Accuracy was choosen as a metric for performance evaluation since both positive and negative reaction to offers are equally import to us and the classes are not imbalanced, then accuracy considered to be acceptable choice.  "
   ]
  },
  {
   "cell_type": "markdown",
   "metadata": {},
   "source": [
    "# Data Sets\n",
    "\n",
    "The data is contained in three files:\n",
    "\n",
    "* portfolio.json - containing offer ids and meta data about each offer (duration, type, etc.)\n",
    "* profile.json - demographic data for each customer\n",
    "* transcript.json - records for transactions, offers received, offers viewed, and offers completed\n",
    "\n",
    "Here is the schema and explanation of each variable in the files:\n",
    "\n",
    "**portfolio.json**\n",
    "* id (string) - offer id\n",
    "* offer_type (string) - type of offer ie BOGO, discount, informational\n",
    "* difficulty (int) - minimum required spend to complete an offer\n",
    "* reward (int) - reward given for completing an offer\n",
    "* duration (int) - time for offer to be open, in days\n",
    "* channels (list of strings)\n",
    "\n",
    "**profile.json**\n",
    "* age (int) - age of the customer \n",
    "* became_member_on (int) - date when customer created an app account\n",
    "* gender (str) - gender of the customer (note some entries contain 'O' for other rather than M or F)\n",
    "* id (str) - customer id\n",
    "* income (float) - customer's income\n",
    "\n",
    "**transcript.json**\n",
    "* event (str) - record description (ie transaction, offer received, offer viewed, etc.)\n",
    "* person (str) - customer id\n",
    "* time (int) - time in hours since start of test. The data begins at time t=0\n",
    "* value - (dict of strings) - either an offer id or transaction amount depending on the record\n",
    "\n"
   ]
  },
  {
   "cell_type": "code",
   "execution_count": 129,
   "metadata": {},
   "outputs": [
    {
     "data": {
      "text/html": [
       "<script type=\"text/javascript\">window.PlotlyConfig = {MathJaxConfig: 'local'};</script><script type=\"text/javascript\">if (window.MathJax) {MathJax.Hub.Config({SVG: {font: \"STIX-Web\"}});}</script><script>requirejs.config({paths: { 'plotly': ['https://cdn.plot.ly/plotly-latest.min']},});if(!window._Plotly) {require(['plotly'],function(plotly) {window._Plotly=plotly;});}</script>"
      ],
      "text/vnd.plotly.v1+html": [
       "<script type=\"text/javascript\">window.PlotlyConfig = {MathJaxConfig: 'local'};</script><script type=\"text/javascript\">if (window.MathJax) {MathJax.Hub.Config({SVG: {font: \"STIX-Web\"}});}</script><script>requirejs.config({paths: { 'plotly': ['https://cdn.plot.ly/plotly-latest.min']},});if(!window._Plotly) {require(['plotly'],function(plotly) {window._Plotly=plotly;});}</script>"
      ]
     },
     "metadata": {},
     "output_type": "display_data"
    }
   ],
   "source": [
    "import matplotlib.pyplot as plt\n",
    "import seaborn as sns\n",
    "color = sns.color_palette()\n",
    "\n",
    "%matplotlib inline\n",
    "import pandas as pd\n",
    "import numpy as np\n",
    "import math\n",
    "import json\n",
    "import pandasql as ps\n",
    "from tqdm import tqdm_notebook as tqdm\n",
    "import plotly.offline as py\n",
    "py.init_notebook_mode(connected=True)\n",
    "import plotly.graph_objs as go\n",
    "sns.set()\n",
    "\n",
    "from surprise import NormalPredictor\n",
    "from surprise import Dataset\n",
    "from surprise import Reader\n",
    "from surprise.model_selection import cross_validate\n",
    "from surprise import SVD, accuracy\n",
    "from surprise import evaluate, print_perf\n",
    "from math import sqrt"
   ]
  },
  {
   "cell_type": "code",
   "execution_count": 130,
   "metadata": {},
   "outputs": [],
   "source": [
    "# read in the json files\n",
    "portfolio = pd.read_json('data/portfolio.json', orient='records', lines=True)\n",
    "profile = pd.read_json('data/profile.json', orient='records', lines=True)\n",
    "transcript = pd.read_json('data/transcript.json', orient='records', lines=True)\n",
    "pd.set_option('display.max_columns', None)"
   ]
  },
  {
   "cell_type": "markdown",
   "metadata": {},
   "source": [
    "#### Defining all necessary functions"
   ]
  },
  {
   "cell_type": "code",
   "execution_count": 131,
   "metadata": {},
   "outputs": [],
   "source": [
    "#defining all necessary functions\n",
    "def define_reward (value):\n",
    "    \"\"\"Data cleaning and preparation function. Returns reward amount from raw text line of value column in transcript dataframe.\n",
    "    \"\"\"\n",
    "    line = str (value)\n",
    "    if line [50:56] == 'reward':\n",
    "        if line [-5] == ':':\n",
    "            return int ((line [-3:-1]))\n",
    "        else:     \n",
    "            return int (line [-2])\n",
    "    else: \n",
    "        return np.nan\n",
    "    \n",
    "def define_offer (value):\n",
    "    \"\"\"Data cleaning and preparation function. Returns offer id from raw text line of value column in transcript dataframe.\n",
    "    \"\"\"\n",
    "    line = str (value)\n",
    "    if line [2:7] == 'offer': \n",
    "        return line [14:46]\n",
    "    else: \n",
    "        return np.nan\n",
    "    \n",
    "def define_amount (value):\n",
    "    \"\"\"Data cleaning and preparation function. Returns amount from raw text line of value column in transcript dataframe.\n",
    "    \"\"\"\n",
    "    line = str (value)\n",
    "    if line [2:8] == 'amount': \n",
    "        return round (float (line [11:-1]), 2)\n",
    "    else: \n",
    "        return np.nan\n",
    "\n",
    "def define_subtype (value):\n",
    "    \"\"\"Data cleaning and preparation function. Returns offer subtype when receive offer_id as value.\n",
    "    \"\"\"\n",
    "    if portfolio [portfolio['id'] == value].shape[0] != 0:\n",
    "        return np.array(portfolio [portfolio['id'] == value] ['subtype'])[0]\n",
    "    else:\n",
    "        return np.nan\n",
    "\n",
    "def userid_mapper():\n",
    "    \"\"\"Function that prepares mapping between actual person iDs and the integer values. Returns both dictionary with \n",
    "    mapping and the list of encoded users.\n",
    "    \"\"\"\n",
    "    coded_dict = dict()\n",
    "    cter = 1\n",
    "    userid_encoded = []\n",
    "    \n",
    "    for val in df['person']:\n",
    "        if val not in coded_dict:\n",
    "            coded_dict[val] = cter\n",
    "            cter+=1\n",
    "        \n",
    "        userid_encoded.append(coded_dict[val])\n",
    "    return userid_encoded, coded_dict\n",
    "\n",
    "\n",
    "def validation_func (test_matrix, predict_train_matrix, is_train =False, verbose=True):\n",
    "    \"\"\"Function that runs validation of predicted user item matrix (predict_train_matrix) on the given user item matrix \n",
    "    (test or train matrix). \n",
    "    \n",
    "    INPUT: \n",
    "    Test user item matrix, predicted user item matrix, is_train sign (if validation done on train), verbose sign (whether to print results)\n",
    "    OUTPUT: \n",
    "    MSE error value, Accuracy value. If verbose equals True then results just printed. Nothing returned.\n",
    "       \n",
    "    \"\"\"\n",
    "        \n",
    "    #will be looping over common customers only\n",
    "    test_idx = test_matrix.index.intersection (predict_train_matrix.index)\n",
    "    test_cols = test_matrix.columns\n",
    "\n",
    "    sse_accum = 0\n",
    "    diff = 0\n",
    "    acc = []\n",
    "\n",
    "    for i in test_idx: \n",
    "        for j in test_cols: \n",
    "            if test_matrix.at [i,j]>=0:\n",
    "                # compute the error as the actual minus the dot product of the user and offer latent features\n",
    "                diff = test_matrix.at [i,j] - predict_train_matrix.at [i,j]\n",
    "                        \n",
    "                # Keep track of the sum of squared errors for the matrix\n",
    "                sse_accum += diff**2\n",
    "                acc.append (abs (diff))\n",
    "\n",
    "    #deviding on the overall not null values in test_matrix\n",
    "    mse_error = sse_accum/(test_matrix.notnull().sum ().sum())\n",
    "    acc_test = 1 - sum (acc)/(test_matrix.notnull().sum ().sum())\n",
    "\n",
    "    if (is_train == False)&(verbose): \n",
    "        print ('\\n')\n",
    "        print ('MSE on the test set is: ', mse_error)\n",
    "        print ('RMSE on the test set is: ', sqrt(mse_error))\n",
    "        print ('Accuracy on the test set is: ', acc_test)\n",
    "        print ('\\n')\n",
    "    if (is_train == True)&(verbose): \n",
    "        print ('\\n')\n",
    "        print ('MSE on the train set is: ', mse_error)\n",
    "        print ('RMSE on the train set is: ', sqrt(mse_error))\n",
    "        print ('Accuracy on the train set is: ', acc_test)\n",
    "        print ('\\n')\n",
    "    #if no need for printing just return values of MSE and Accuracy\n",
    "    if verbose == False: \n",
    "        return mse_error, acc_test\n",
    "    \n",
    "def trans_affected_func (df): \n",
    "    \"\"\"Function that takes transactions reflected in the original dataframe and marks those that were done \n",
    "    as a result of promo offers.  \n",
    "    For transactions that were affected by any offer following fields filled: \n",
    "    'offer_id',\n",
    "    'offer_type'\n",
    "    INPUT: a df produced as a result of merging transcript, portfolio and profile.\n",
    "    OUTPUT: a dataframe with the same structure with 'offer_id','offer_type' columns updated.\n",
    "    \"\"\"\n",
    "    #slice subsets with offers received, viewed, completed and transactions\n",
    "    offer_rec_df = df [df ['event'] =='offer received'].copy ()\n",
    "    offer_view_df = df [df ['event'] =='offer viewed'].copy ()\n",
    "    offer_compl_df = df [df ['event'] =='offer completed'].copy ()\n",
    "    trans_df = df[df['event'] == 'transaction'].copy ()\n",
    "    \n",
    "    #adding a column with a date (in hours) when offer's affect is ending\n",
    "    offer_rec_df ['offer_end_time'] = offer_rec_df ['time'] + offer_rec_df ['duration']*24 \n",
    "    \n",
    "    #firstly running through informational offers\n",
    "    for i in tqdm (offer_view_df [offer_view_df['offer_type']=='informational'].index): \n",
    "    \n",
    "        #saving parameters\n",
    "        person = offer_view_df.at [i, 'person']\n",
    "        offer_id = offer_view_df.at [i, 'offer_id']\n",
    "        time_view = offer_view_df.at [i, 'time']\n",
    "        \n",
    "        #finding offers received by this person with the same offer id\n",
    "        #taking only offers that were recieved before the offer view time\n",
    "        #sorting by the time from the newest to the oldest\n",
    "        offers_received = offer_rec_df [(offer_rec_df ['person'] == person)&\\\n",
    "                                        (offer_rec_df ['offer_id'] == offer_id) &\\\n",
    "                                        (offer_rec_df ['time'] <= time_view) & \\\n",
    "                                        (offer_rec_df ['offer_end_time'] >= time_view)].copy ().\\\n",
    "                                        sort_values (by = ['time'], ascending = False)\n",
    "        \n",
    "        #if no such offers were received by this person or viewed post the affect time then skip\n",
    "        if offers_received.shape [0] == 0: \n",
    "            continue \n",
    "            \n",
    "        offers_received.reset_index (drop = True, inplace = True)\n",
    "            \n",
    "        criteria =  (trans_df ['time'] >= offers_received.at [0, 'time']) &\\\n",
    "                    (trans_df ['time'] >= time_view)&\\\n",
    "                    (trans_df ['time'] <= offers_received.at [0, 'offer_end_time'])&\\\n",
    "                    (trans_df ['person'] == person)\n",
    "        \n",
    "        trans_df.at [criteria, 'offer_type'] =  'informational'   \n",
    "        trans_df.at [criteria, 'offer_id'] = offer_id\n",
    "            \n",
    "    #now running through bogo and discount and if by chance a transaction happened within informational offer \n",
    "    #affect time and at the same time it was done so to complete discount or bogo and the completion happened\n",
    "    #then we shall consider transaction affected by bogo or discount rather than informational \n",
    "    for i in tqdm (offer_view_df [offer_view_df['offer_type']!='informational'].index): \n",
    "    \n",
    "        #saving parameters\n",
    "        person = offer_view_df.at [i, 'person']\n",
    "        offer_id = offer_view_df.at [i, 'offer_id']\n",
    "        time_view = offer_view_df.at [i, 'time']\n",
    "        \n",
    "        #finding offers received by this person with the same offer id\n",
    "        #taking only offers that were recieved before the offer view time\n",
    "        #sorting by the time from the newest to the oldest\n",
    "        offers_received = offer_rec_df [(offer_rec_df ['person'] == person)&\\\n",
    "                                        (offer_rec_df ['offer_id'] == offer_id) &\\\n",
    "                                        (offer_rec_df ['time'] <= time_view) & \\\n",
    "                                        (offer_rec_df ['offer_end_time'] >= time_view)].copy ().\\\n",
    "                                        sort_values (by = ['time'], ascending = False)\n",
    "        \n",
    "        #if no such offers were received by this person or viewed post the affect time then skip\n",
    "        if offers_received.shape [0] == 0: \n",
    "            continue \n",
    "        \n",
    "        #taking received offer that is the closest by time to the time of offer completed\n",
    "        #in condition that there is a transaction between them\n",
    "        #and checking if offer was completed within offer deadline\n",
    "        \n",
    "        offers_received.reset_index (drop = True, inplace = True)\n",
    "        time_rec = offers_received.at [0, 'time']\n",
    "        time_rec_end = offers_received.at [0, 'offer_end_time']\n",
    "        \n",
    "        #finding offers completed by this person with the same offer id\n",
    "        #taking only offers that were completed before deadline\n",
    "        #we will check transactions that were done to make offer completed. partial completion will not be taken\n",
    "        #into consideration as we consider that if offer was not completed fully then it did not affect customer\n",
    "        #sorting by the time so to fine closest completed offer\n",
    "        offers_completed=offer_compl_df[(offer_compl_df ['person'] == person)&\\\n",
    "                                        (offer_compl_df ['offer_id'] == offer_id) &\\\n",
    "                                        (offer_compl_df ['time'] >= time_rec) & \\\n",
    "                                        (offer_compl_df ['time'] <= time_rec_end)&\\\n",
    "                                        (offer_compl_df ['time'] >= time_view)].copy ().\\\n",
    "                                        sort_values (by = ['time'], ascending = True)\n",
    "        \n",
    "        #if no such offers were completed by this person then we don't have transactions affected\n",
    "        if offers_completed.shape [0] == 0: \n",
    "            continue \n",
    "        \n",
    "        #reset index\n",
    "        offers_completed.reset_index (drop = True, inplace = True)\n",
    "        \n",
    "        #criteria for the transactions to be marked as affected\n",
    "        criteria = (trans_df ['time'] >= time_rec) &\\\n",
    "                   (trans_df ['time'] >= time_view)&\\\n",
    "                   (trans_df ['time'] <= time_rec_end)&\\\n",
    "                   (trans_df ['time'] <= offers_completed.at [0, 'time'])&\\\n",
    "                   (trans_df ['person'] == person)\n",
    "        \n",
    "        trans_df.at [criteria, 'offer_type'] =  offers_completed.at [0, 'offer_type']   \n",
    "        trans_df.at [criteria, 'offer_id'] = offer_id\n",
    "        \n",
    "    return trans_df\n",
    "\n",
    "#then check trans_affect and do similar but for informational. count only if transactions happened with informational subtype\n",
    "def offer_inform_rate (): \n",
    "    \"\"\" Function that prepares preliminary dataframe out of which user_item_matrix will be formed for informational offers.\n",
    "    The dataframe will contain 3 columns: 'user_id', 'rate','off_subtype_id'\n",
    "    If particular user made a transaction affected by a particular informational offer at least once, then \n",
    "    a row added to the dataframe with userid, with rate equals 1 and offer subtype digital number as per subt_dict_inform \n",
    "    dictionary. If never made transactions affected by particular informational offer then a row added to the dataframe\n",
    "    with userid, with rate equals 0 and offer subtype digital number. \n",
    "    \n",
    "    INPUT: \n",
    "    trans_affect dataframe, a df produced as a result of merging transcript, portfolio and profile.\n",
    "    OUTPUT:\n",
    "    a dataframe that contains 3 columns: 'user_id', 'rate','off_subtype_id' with ratings for customers.\n",
    "    \"\"\"\n",
    "    \n",
    "    trans_inform = trans_affect [trans_affect ['offer_type'] =='informational'].copy ()\n",
    "    trans_inform ['user_id'] = trans_inform ['person']\n",
    "    trans_inform ['user_id'].replace (userid_dict, inplace = True)\n",
    "    trans_inform ['subtype'] =trans_inform ['offer_subtype'] \n",
    "    trans_inform = trans_inform [['event', 'user_id', 'subtype']]\n",
    "    \n",
    "    df_inform = df [df ['offer_type'] == 'informational'].copy ()\n",
    "    df_inform = df_inform [['event', 'user_id', 'subtype']]\n",
    "    \n",
    "    df_inform = pd.concat ([trans_inform, df_inform], ignore_index = True)\n",
    "       \n",
    "    #initializing empty dataframe that will be enriched with data\n",
    "    df_rate = pd.DataFrame (columns = ['user_id', 'rate','off_subtype_id'])\n",
    "    \n",
    "    #loop over informational subtypes\n",
    "    for subtype_id in subt_dict_inform: \n",
    "        \n",
    "        #taking slice from trans_inform with specific subtype\n",
    "        df_tmp = df_inform [df_inform ['subtype'] == subtype_id].copy ()\n",
    "    \n",
    "        #rate =1 if user completed offer else 0\n",
    "        df_tmp ['rate'] = df_tmp ['event'].apply (lambda x: 1 if x == 'transaction' else 0)\n",
    "        #grouping by user so that if a user at any time completed offer rate will be >0\n",
    "        df_rate_tmp = pd.DataFrame (df_tmp.groupby ('user_id') ['rate'].sum ()).reset_index ()\n",
    "        #saving offer subtype id\n",
    "        df_rate_tmp ['off_subtype_id'] = subtype_dict [subtype_id]\n",
    "    \n",
    "        #we should count only 1 and 0. 1 if ever used 0 if never completed such offer \n",
    "        df_rate_tmp ['rate'] = df_rate_tmp ['rate'].apply (lambda x: 1 if x>0 else 0)\n",
    "        \n",
    "        #print (df_rate_tmp)\n",
    "        df_rate = pd.concat ([df_rate, df_rate_tmp], ignore_index = True)\n",
    "        \n",
    "    return df_rate\n",
    "\n",
    "def trans_affected_func (df): \n",
    "    \"\"\"Function that takes transactions reflected in the original dataframe and marks those that were done \n",
    "    as a result of promo offers.  \n",
    "    For transactions that were affected by any offer following fields filled: \n",
    "    'offer_id',\n",
    "    'offer_type'\n",
    "    INPUT: a df produced as a result of merging transcript, portfolio and profile.\n",
    "    OUTPUT: a dataframe with the same structure with 'offer_id','offer_type' columns updated.\n",
    "    \"\"\"\n",
    "    #slice subsets with offers received, viewed, completed and transactions\n",
    "    offer_rec_df = df [df ['event'] =='offer received'].copy ()\n",
    "    offer_view_df = df [df ['event'] =='offer viewed'].copy ()\n",
    "    offer_compl_df = df [df ['event'] =='offer completed'].copy ()\n",
    "    trans_df = df[df['event'] == 'transaction'].copy ()\n",
    "    \n",
    "    #adding a column with a date (in hours) when offer's affect is ending\n",
    "    offer_rec_df ['offer_end_time'] = offer_rec_df ['time'] + offer_rec_df ['duration']*24 \n",
    "    \n",
    "    #firstly running through informational offers\n",
    "    for i in tqdm (offer_view_df [offer_view_df['offer_type']=='informational'].index): \n",
    "    \n",
    "        #saving parameters\n",
    "        person = offer_view_df.at [i, 'person']\n",
    "        offer_id = offer_view_df.at [i, 'offer_id']\n",
    "        time_view = offer_view_df.at [i, 'time']\n",
    "        \n",
    "        #finding offers received by this person with the same offer id\n",
    "        #taking only offers that were recieved before the offer view time\n",
    "        #sorting by the time from the newest to the oldest\n",
    "        offers_received = offer_rec_df [(offer_rec_df ['person'] == person)&\\\n",
    "                                        (offer_rec_df ['offer_id'] == offer_id) &\\\n",
    "                                        (offer_rec_df ['time'] <= time_view) & \\\n",
    "                                        (offer_rec_df ['offer_end_time'] >= time_view)].copy ().\\\n",
    "                                        sort_values (by = ['time'], ascending = False)\n",
    "        \n",
    "        #if no such offers were received by this person or viewed post the affect time then skip\n",
    "        if offers_received.shape [0] == 0: \n",
    "            continue \n",
    "            \n",
    "        offers_received.reset_index (drop = True, inplace = True)\n",
    "            \n",
    "        criteria =  (trans_df ['time'] >= offers_received.at [0, 'time']) &\\\n",
    "                    (trans_df ['time'] >= time_view)&\\\n",
    "                    (trans_df ['time'] <= offers_received.at [0, 'offer_end_time'])&\\\n",
    "                    (trans_df ['person'] == person)\n",
    "        \n",
    "        trans_df.at [criteria, 'offer_type'] =  'informational'   \n",
    "        trans_df.at [criteria, 'offer_id'] = offer_id\n",
    "            \n",
    "    #now running through bogo and discount and if by chance a transaction happened within informational offer \n",
    "    #affect time and at the same time it was done so to complete discount or bogo and the completion happened\n",
    "    #then we shall consider transaction affected by bogo or discount rather than informational \n",
    "    for i in tqdm (offer_view_df [offer_view_df['offer_type']!='informational'].index): \n",
    "    \n",
    "        #saving parameters\n",
    "        person = offer_view_df.at [i, 'person']\n",
    "        offer_id = offer_view_df.at [i, 'offer_id']\n",
    "        time_view = offer_view_df.at [i, 'time']\n",
    "        \n",
    "        #finding offers received by this person with the same offer id\n",
    "        #taking only offers that were recieved before the offer view time\n",
    "        #sorting by the time from the newest to the oldest\n",
    "        offers_received = offer_rec_df [(offer_rec_df ['person'] == person)&\\\n",
    "                                        (offer_rec_df ['offer_id'] == offer_id) &\\\n",
    "                                        (offer_rec_df ['time'] <= time_view) & \\\n",
    "                                        (offer_rec_df ['offer_end_time'] >= time_view)].copy ().\\\n",
    "                                        sort_values (by = ['time'], ascending = False)\n",
    "        \n",
    "        #if no such offers were received by this person or viewed post the affect time then skip\n",
    "        if offers_received.shape [0] == 0: \n",
    "            continue \n",
    "        \n",
    "        #taking received offer that is the closest by time to the time of offer completed\n",
    "        #in condition that there is a transaction between them\n",
    "        #and checking if offer was completed within offer deadline\n",
    "        \n",
    "        offers_received.reset_index (drop = True, inplace = True)\n",
    "        time_rec = offers_received.at [0, 'time']\n",
    "        time_rec_end = offers_received.at [0, 'offer_end_time']\n",
    "        \n",
    "        #finding offers completed by this person with the same offer id\n",
    "        #taking only offers that were completed before deadline\n",
    "        #we will check transactions that were done to make offer completed. partial completion will not be taken\n",
    "        #into consideration as we consider that if offer was not completed fully then it did not affect customer\n",
    "        #sorting by the time so to fine closest completed offer\n",
    "        offers_completed=offer_compl_df[(offer_compl_df ['person'] == person)&\\\n",
    "                                        (offer_compl_df ['offer_id'] == offer_id) &\\\n",
    "                                        (offer_compl_df ['time'] >= time_rec) & \\\n",
    "                                        (offer_compl_df ['time'] <= time_rec_end)&\\\n",
    "                                        (offer_compl_df ['time'] >= time_view)].copy ().\\\n",
    "                                        sort_values (by = ['time'], ascending = True)\n",
    "        \n",
    "        #if no such offers were completed by this person then we don't have transactions affected\n",
    "        if offers_completed.shape [0] == 0: \n",
    "            continue \n",
    "        \n",
    "        #reset index\n",
    "        offers_completed.reset_index (drop = True, inplace = True)\n",
    "        \n",
    "        #criteria for the transactions to be marked as affected\n",
    "        criteria = (trans_df ['time'] >= time_rec) &\\\n",
    "                   (trans_df ['time'] >= time_view)&\\\n",
    "                   (trans_df ['time'] <= time_rec_end)&\\\n",
    "                   (trans_df ['time'] <= offers_completed.at [0, 'time'])&\\\n",
    "                   (trans_df ['person'] == person)\n",
    "        \n",
    "        trans_df.at [criteria, 'offer_type'] =  offers_completed.at [0, 'offer_type']   \n",
    "        trans_df.at [criteria, 'offer_id'] = offer_id\n",
    "        \n",
    "    return trans_df\n",
    "\n",
    "#then check trans_affect and do similar but for informational. count only if transactions happened with informational subtype\n",
    "def offer_inform_rate (): \n",
    "    \"\"\" Function that prepares preliminary dataframe out of which user_item_matrix will be formed for informational offers.\n",
    "    The dataframe will contain 3 columns: 'user_id', 'rate','off_subtype_id'\n",
    "    If particular user made a transaction affected by a particular informational offer at least once, then \n",
    "    a row added to the dataframe with userid, with rate equals 1 and offer subtype digital number as per subt_dict_inform \n",
    "    dictionary. If never made transactions affected by particular informational offer then a row added to the dataframe\n",
    "    with userid, with rate equals 0 and offer subtype digital number. \n",
    "    \n",
    "    INPUT: \n",
    "    trans_affect dataframe, a df produced as a result of merging transcript, portfolio and profile.\n",
    "    OUTPUT:\n",
    "    a dataframe that contains 3 columns: 'user_id', 'rate','off_subtype_id' with ratings for customers.\n",
    "    \"\"\"\n",
    "    \n",
    "    trans_inform = trans_affect [trans_affect ['offer_type'] =='informational'].copy ()\n",
    "    trans_inform ['user_id'] = trans_inform ['person']\n",
    "    trans_inform ['user_id'].replace (userid_dict, inplace = True)\n",
    "    trans_inform ['subtype'] =trans_inform ['offer_subtype'] \n",
    "    trans_inform = trans_inform [['event', 'user_id', 'subtype']]\n",
    "    \n",
    "    df_inform = df [df ['offer_type'] == 'informational'].copy ()\n",
    "    df_inform = df_inform [['event', 'user_id', 'subtype']]\n",
    "    \n",
    "    df_inform = pd.concat ([trans_inform, df_inform], ignore_index = True)\n",
    "       \n",
    "    #initializing empty dataframe that will be enriched with data\n",
    "    df_rate = pd.DataFrame (columns = ['user_id', 'rate','off_subtype_id'])\n",
    "    \n",
    "    #loop over informational subtypes\n",
    "    for subtype_id in subt_dict_inform: \n",
    "        \n",
    "        #taking slice from trans_inform with specific subtype\n",
    "        df_tmp = df_inform [df_inform ['subtype'] == subtype_id].copy ()\n",
    "    \n",
    "        #rate =1 if user completed offer else 0\n",
    "        df_tmp ['rate'] = df_tmp ['event'].apply (lambda x: 1 if x == 'transaction' else 0)\n",
    "        #grouping by user so that if a user at any time completed offer rate will be >0\n",
    "        df_rate_tmp = pd.DataFrame (df_tmp.groupby ('user_id') ['rate'].sum ()).reset_index ()\n",
    "        #saving offer subtype id\n",
    "        df_rate_tmp ['off_subtype_id'] = subtype_dict [subtype_id]\n",
    "    \n",
    "        #we should count only 1 and 0. 1 if ever used 0 if never completed such offer \n",
    "        df_rate_tmp ['rate'] = df_rate_tmp ['rate'].apply (lambda x: 1 if x>0 else 0)\n",
    "        \n",
    "        #print (df_rate_tmp)\n",
    "        df_rate = pd.concat ([df_rate, df_rate_tmp], ignore_index = True)\n",
    "        \n",
    "    return df_rate\n",
    "\n",
    "def offer_rate (): \n",
    "    \"\"\"Function that prepares preliminary dataframe out of which user_item_matrix will be formed\n",
    "    The dataframe will contain 3 columns: 'user_id', 'rate','off_subtype_id'\n",
    "    If particular user completed particular offer at least once, then \n",
    "    a row added to the dataframe with userid, with rate equals 1 and offer subtype digital number as per subt_dict_bogo_disc \n",
    "    dictionary. If never completed any offer then a row added to the dataframe with userid, with rate equals 0 and \n",
    "    offer subtype digital number. \n",
    "    \n",
    "    INPUT: \n",
    "    a df produced as a result of merging transcript, portfolio and profile.\n",
    "    OUTPUT:\n",
    "    a dataframe that contains 3 columns: 'user_id', 'rate','off_subtype_id' with ratings for customers.\n",
    "    \"\"\"\n",
    "    #initializing empty dataframe that will be enriched with data\n",
    "    df_rate = pd.DataFrame (columns = ['user_id', 'rate','off_subtype_id'])\n",
    "    \n",
    "    #loop over subtypes (except informational)\n",
    "    for subtype_id in subt_dict_bogo_disc: \n",
    "        \n",
    "        #taking slice from df for specific subtype\n",
    "        df_tmp = df [df ['subtype'] == subtype_id].copy ()\n",
    "    \n",
    "        #rate =1 if user completed offer else 0\n",
    "        df_tmp ['rate'] = df_tmp ['event'].apply (lambda x: 1 if x == 'offer completed' else 0)\n",
    "        \n",
    "        #grouping by user so that if a user at any time completed offer rate will be >0\n",
    "        df_rate_tmp = pd.DataFrame (df_tmp.groupby ('user_id') ['rate'].sum ()).reset_index ()\n",
    "        \n",
    "        #saving offer subtype id\n",
    "        df_rate_tmp ['off_subtype_id'] = subtype_dict [subtype_id]\n",
    "    \n",
    "        #we should count only 1 and 0. 1 if ever used 0 if never completed such offer \n",
    "        df_rate_tmp ['rate'] = df_rate_tmp ['rate'].apply (lambda x: 1 if x>0 else 0)\n",
    "        \n",
    "        df_rate = pd.concat ([df_rate, df_rate_tmp], ignore_index = True)\n",
    "        \n",
    "    return df_rate\n",
    "\n",
    "#defining function to compare customers affected by offers and those who are not \n",
    "def comparison_func (df1, df2, column):\n",
    "    \"\"\"Plot two subplots from df1 and df2 for the values of column\n",
    "    \"\"\"\n",
    "    \n",
    "    fig, ax =plt.subplots(1,2)\n",
    "    sns.countplot(df1[column], ax=ax[0])\n",
    "    sns.countplot(df2[column], ax=ax[1])\n",
    "    plt.subplots_adjust(wspace= 0.5)\n",
    "    fig.show()\n",
    "    return \n",
    "\n",
    "def FunkSVD(ratings_mat, latent_features=4, learning_rate=0.0001, iters=100, random_seed=52, verbose=True):\n",
    "    '''This function performs matrix factorization using a basic form of FunkSVD with no regularization\n",
    "    \n",
    "    INPUT:\n",
    "    ratings_mat - (numpy array) a matrix with users as rows, offers (subtype) as columns, and ratings as values\n",
    "    latent_features - (int) the number of latent features used\n",
    "    learning_rate - (float) the learning rate \n",
    "    iters - (int) the number of iterations\n",
    "    \n",
    "    OUTPUT:\n",
    "    user_mat - (numpy array) a user by latent feature matrix\n",
    "    offer_mat - (numpy array) a latent feature by offer matrix\n",
    "    '''\n",
    "    \n",
    "    # Set up useful values to be used through the rest of the function\n",
    "    n_users = ratings_mat.shape[0]\n",
    "    n_offers = ratings_mat.shape[1]\n",
    "    num_ratings = np.count_nonzero(~np.isnan(ratings_mat))\n",
    "    \n",
    "    # initialize the user and offer matrices with random values\n",
    "    np.random.seed (random_seed)\n",
    "    user_mat = np.random.rand(n_users, latent_features)\n",
    "    offer_mat = np.random.rand(latent_features, n_offers)\n",
    "    \n",
    "    # initialize sse at 0 for first iteration\n",
    "    sse_accum = 0\n",
    "    \n",
    "    # header for running results\n",
    "    if verbose:\n",
    "        print(\"Optimizaiton Statistics\")\n",
    "        print(\"Iterations | Mean Squared Error \")\n",
    "    \n",
    "    # for each iteration\n",
    "    for iteration in range(iters):\n",
    "\n",
    "        # update our sse\n",
    "        old_sse = sse_accum\n",
    "        sse_accum = 0\n",
    "        \n",
    "        # For each user-offer pair\n",
    "        for i in range(n_users):\n",
    "            for j in range(n_offers):\n",
    "                \n",
    "                # if the rating exists\n",
    "                if (ratings_mat[i, j] == 0)|(ratings_mat[i, j] == 1):\n",
    "                    \n",
    "                    # compute the error as the actual minus the dot product of the user and offer latent features\n",
    "                    diff = ratings_mat[i, j] - np.dot(user_mat[i, :], offer_mat[:, j])\n",
    "                    \n",
    "                    # Keep track of the sum of squared errors for the matrix\n",
    "                    sse_accum += diff**2\n",
    "                    \n",
    "                    # update the values in each matrix in the direction of the gradient\n",
    "                    for k in range(latent_features):\n",
    "                        user_mat[i, k] += learning_rate * (2*diff*offer_mat[k, j])\n",
    "                        offer_mat[k, j] += learning_rate * (2*diff*user_mat[i, k])\n",
    "\n",
    "        # print results for iteration\n",
    "        if verbose: \n",
    "            print(\"%d \\t\\t %f\" % (iteration+1, sse_accum / num_ratings))\n",
    "    \n",
    "    return user_mat, offer_mat \n",
    "\n",
    "def user_item_train_test_split (df_rate_joint, test_size=0.1, random_seed = 22):\n",
    "    \"\"\"Function that prepares train and test user_item_matrices out of df_rate_joint.\n",
    "    \n",
    "    INPUT: \n",
    "    1.  dataframe with rates, should including following columns: user_id, rate, off_subtype_id \n",
    "    2.  test_size, default = 0.1\n",
    "    3.  random_seed, default = 22\n",
    "    OUTPUT:\n",
    "    1.  train user_item_matrix\n",
    "    2.  test user_item_matrix\n",
    "        \n",
    "    \"\"\"\n",
    "    \n",
    "    #saving a df to work with\n",
    "    rate_df = df_rate_joint.copy ()\n",
    "    \n",
    "    #taking part of ratings \n",
    "    test_tmp = rate_df.sample(frac =test_size, random_state =random_seed)\n",
    "    \n",
    "    #eliminating taken data from rate_df so to form train\n",
    "    train_tmp = rate_df.drop (index = test_tmp.index)\n",
    "    \n",
    "    #converting both into user_item format\n",
    "    train_matrix = train_tmp.groupby(['user_id', 'off_subtype_id'])['rate'].sum ().unstack()\n",
    "    test_matrix = test_tmp.groupby(['user_id', 'off_subtype_id'])['rate'].sum ().unstack()\n",
    "    \n",
    "    return train_matrix, test_matrix  \n",
    "\n",
    "def gridsearch_funkSVD (parameters): \n",
    "    \"\"\"Function that verifies MSE, accuracy on train and test sets for all given possible parameters of FunkSVD. \n",
    "    Results appened to a dataframe which printed on the screen.\n",
    "       \n",
    "    INPUT: \n",
    "    FunkSVD parameters\n",
    "    OUTPUT: \n",
    "    dataframe printed on the screen with following columns: \n",
    "    'num_latent_feat','learning_rate', 'number_of_iter','mse_on_train','acc_on_train','mse_on_test', 'acc_on_test',\n",
    "    'overfitting'.\n",
    "        \n",
    "    Column overfitting is filled with 'Yes' whenever number of predicted values for any column (subtype) is more than 2 (0 or 1), \n",
    "    which is a clear signal that model is overfitting on the train set.\n",
    "        \n",
    "    \"\"\"\n",
    "    #saving parameters\n",
    "    latent_feat_list = parameters ['latent_feat']\n",
    "    num_iter_list = parameters ['num_iter']\n",
    "    lrn_list = parameters ['learning_rate']\n",
    "        \n",
    "    results_df = pd.DataFrame ([], columns = ['num_latent_feat','learning_rate',\\\n",
    "                                                  'number_of_iter','mse_on_train','acc_on_train',\\\n",
    "                                                  'mse_on_test', 'acc_on_test', 'overfitting'])\n",
    "    #looping through all possible parameters    \n",
    "    for lat_feat in tqdm(latent_feat_list):\n",
    "        for num_iter in tqdm(num_iter_list):\n",
    "            for lrn_rate in tqdm (lrn_list):\n",
    "                model_overfit = 'No'\n",
    "                user_mat_train, offer_mat_train = FunkSVD (np.matrix (train_matrix), latent_features=lat_feat,\\\n",
    "                                                           learning_rate=lrn_rate, iters=num_iter, verbose=False)\n",
    "                train_predict_np= np.abs(np.round (np.dot(user_mat_train, offer_mat_train)))\n",
    "\n",
    "                #checking predicted values in each column\n",
    "                predict_train_matrix = pd.DataFrame (train_predict_np, index = train_matrix.index, columns = train_matrix.columns)\n",
    "                for j in predict_train_matrix.columns:\n",
    "                    if predict_train_matrix[j].nunique()>2:\n",
    "                        model_overfit = 'Yes'\n",
    "                        #no need to check other columns\n",
    "                        break\n",
    "    \n",
    "                train_mse, train_acc= validation_func (train_matrix, predict_train_matrix, is_train=True, verbose=False)\n",
    "                test_mse, test_acc= validation_func (test_matrix, predict_train_matrix, verbose=False)\n",
    "                    \n",
    "                results_df.loc[-1] = [lat_feat, lrn_rate,num_iter,train_mse,train_acc,test_mse,test_acc,model_overfit]\n",
    "                results_df.index =results_df.index+1\n",
    "                results_df.sort_index ()\n",
    "    display (results_df.reset_index())\n"
   ]
  },
  {
   "cell_type": "code",
   "execution_count": 132,
   "metadata": {},
   "outputs": [
    {
     "data": {
      "text/html": [
       "<div>\n",
       "<style scoped>\n",
       "    .dataframe tbody tr th:only-of-type {\n",
       "        vertical-align: middle;\n",
       "    }\n",
       "\n",
       "    .dataframe tbody tr th {\n",
       "        vertical-align: top;\n",
       "    }\n",
       "\n",
       "    .dataframe thead th {\n",
       "        text-align: right;\n",
       "    }\n",
       "</style>\n",
       "<table border=\"1\" class=\"dataframe\">\n",
       "  <thead>\n",
       "    <tr style=\"text-align: right;\">\n",
       "      <th></th>\n",
       "      <th>channels</th>\n",
       "      <th>difficulty</th>\n",
       "      <th>duration</th>\n",
       "      <th>id</th>\n",
       "      <th>offer_type</th>\n",
       "      <th>reward</th>\n",
       "    </tr>\n",
       "  </thead>\n",
       "  <tbody>\n",
       "    <tr>\n",
       "      <th>0</th>\n",
       "      <td>[email, mobile, social]</td>\n",
       "      <td>10</td>\n",
       "      <td>7</td>\n",
       "      <td>ae264e3637204a6fb9bb56bc8210ddfd</td>\n",
       "      <td>bogo</td>\n",
       "      <td>10</td>\n",
       "    </tr>\n",
       "    <tr>\n",
       "      <th>1</th>\n",
       "      <td>[web, email, mobile, social]</td>\n",
       "      <td>10</td>\n",
       "      <td>5</td>\n",
       "      <td>4d5c57ea9a6940dd891ad53e9dbe8da0</td>\n",
       "      <td>bogo</td>\n",
       "      <td>10</td>\n",
       "    </tr>\n",
       "    <tr>\n",
       "      <th>2</th>\n",
       "      <td>[web, email, mobile]</td>\n",
       "      <td>0</td>\n",
       "      <td>4</td>\n",
       "      <td>3f207df678b143eea3cee63160fa8bed</td>\n",
       "      <td>informational</td>\n",
       "      <td>0</td>\n",
       "    </tr>\n",
       "    <tr>\n",
       "      <th>3</th>\n",
       "      <td>[web, email, mobile]</td>\n",
       "      <td>5</td>\n",
       "      <td>7</td>\n",
       "      <td>9b98b8c7a33c4b65b9aebfe6a799e6d9</td>\n",
       "      <td>bogo</td>\n",
       "      <td>5</td>\n",
       "    </tr>\n",
       "    <tr>\n",
       "      <th>4</th>\n",
       "      <td>[web, email]</td>\n",
       "      <td>20</td>\n",
       "      <td>10</td>\n",
       "      <td>0b1e1539f2cc45b7b9fa7c272da2e1d7</td>\n",
       "      <td>discount</td>\n",
       "      <td>5</td>\n",
       "    </tr>\n",
       "    <tr>\n",
       "      <th>5</th>\n",
       "      <td>[web, email, mobile, social]</td>\n",
       "      <td>7</td>\n",
       "      <td>7</td>\n",
       "      <td>2298d6c36e964ae4a3e7e9706d1fb8c2</td>\n",
       "      <td>discount</td>\n",
       "      <td>3</td>\n",
       "    </tr>\n",
       "    <tr>\n",
       "      <th>6</th>\n",
       "      <td>[web, email, mobile, social]</td>\n",
       "      <td>10</td>\n",
       "      <td>10</td>\n",
       "      <td>fafdcd668e3743c1bb461111dcafc2a4</td>\n",
       "      <td>discount</td>\n",
       "      <td>2</td>\n",
       "    </tr>\n",
       "    <tr>\n",
       "      <th>7</th>\n",
       "      <td>[email, mobile, social]</td>\n",
       "      <td>0</td>\n",
       "      <td>3</td>\n",
       "      <td>5a8bc65990b245e5a138643cd4eb9837</td>\n",
       "      <td>informational</td>\n",
       "      <td>0</td>\n",
       "    </tr>\n",
       "    <tr>\n",
       "      <th>8</th>\n",
       "      <td>[web, email, mobile, social]</td>\n",
       "      <td>5</td>\n",
       "      <td>5</td>\n",
       "      <td>f19421c1d4aa40978ebb69ca19b0e20d</td>\n",
       "      <td>bogo</td>\n",
       "      <td>5</td>\n",
       "    </tr>\n",
       "    <tr>\n",
       "      <th>9</th>\n",
       "      <td>[web, email, mobile]</td>\n",
       "      <td>10</td>\n",
       "      <td>7</td>\n",
       "      <td>2906b810c7d4411798c6938adc9daaa5</td>\n",
       "      <td>discount</td>\n",
       "      <td>2</td>\n",
       "    </tr>\n",
       "  </tbody>\n",
       "</table>\n",
       "</div>"
      ],
      "text/plain": [
       "                       channels  difficulty  duration  \\\n",
       "0       [email, mobile, social]          10         7   \n",
       "1  [web, email, mobile, social]          10         5   \n",
       "2          [web, email, mobile]           0         4   \n",
       "3          [web, email, mobile]           5         7   \n",
       "4                  [web, email]          20        10   \n",
       "5  [web, email, mobile, social]           7         7   \n",
       "6  [web, email, mobile, social]          10        10   \n",
       "7       [email, mobile, social]           0         3   \n",
       "8  [web, email, mobile, social]           5         5   \n",
       "9          [web, email, mobile]          10         7   \n",
       "\n",
       "                                 id     offer_type  reward  \n",
       "0  ae264e3637204a6fb9bb56bc8210ddfd           bogo      10  \n",
       "1  4d5c57ea9a6940dd891ad53e9dbe8da0           bogo      10  \n",
       "2  3f207df678b143eea3cee63160fa8bed  informational       0  \n",
       "3  9b98b8c7a33c4b65b9aebfe6a799e6d9           bogo       5  \n",
       "4  0b1e1539f2cc45b7b9fa7c272da2e1d7       discount       5  \n",
       "5  2298d6c36e964ae4a3e7e9706d1fb8c2       discount       3  \n",
       "6  fafdcd668e3743c1bb461111dcafc2a4       discount       2  \n",
       "7  5a8bc65990b245e5a138643cd4eb9837  informational       0  \n",
       "8  f19421c1d4aa40978ebb69ca19b0e20d           bogo       5  \n",
       "9  2906b810c7d4411798c6938adc9daaa5       discount       2  "
      ]
     },
     "execution_count": 132,
     "metadata": {},
     "output_type": "execute_result"
    }
   ],
   "source": [
    "#review portfolio dataframe\n",
    "portfolio"
   ]
  },
  {
   "cell_type": "code",
   "execution_count": 133,
   "metadata": {},
   "outputs": [],
   "source": [
    "#adding column into portfolio that will define subtype\n",
    "portfolio ['subtype'] = portfolio['offer_type']+ '_'+portfolio['duration'].map (str)+'_'+portfolio['difficulty'].map(str)"
   ]
  },
  {
   "cell_type": "code",
   "execution_count": 134,
   "metadata": {},
   "outputs": [
    {
     "data": {
      "text/plain": [
       "(10, 7)"
      ]
     },
     "execution_count": 134,
     "metadata": {},
     "output_type": "execute_result"
    }
   ],
   "source": [
    "portfolio.shape "
   ]
  },
  {
   "cell_type": "code",
   "execution_count": 135,
   "metadata": {},
   "outputs": [
    {
     "data": {
      "text/plain": [
       "array(['bogo', 'informational', 'discount'], dtype=object)"
      ]
     },
     "execution_count": 135,
     "metadata": {},
     "output_type": "execute_result"
    }
   ],
   "source": [
    "#possible offer types\n",
    "portfolio ['offer_type'].unique()"
   ]
  },
  {
   "cell_type": "code",
   "execution_count": 136,
   "metadata": {},
   "outputs": [],
   "source": [
    "#converting \"became_member_on\" into a date format  \n",
    "profile ['became_member_on'] = pd.to_datetime (profile ['became_member_on'], format = '%Y%m%d', errors = 'coerce')"
   ]
  },
  {
   "cell_type": "code",
   "execution_count": 137,
   "metadata": {},
   "outputs": [],
   "source": [
    "#preparing data to review subscription timeline trends\n",
    "subscrip_df = profile.groupby(['became_member_on'], as_index=False).agg({'id':'count'})\n",
    "subscrip_df.set_index ('became_member_on', inplace = True)\n",
    "subscrip_Y_df = subscrip_df['id'].resample('Y').sum ()\n",
    "subscrip_M_df = subscrip_df['id'].resample('M').sum ()\n",
    "subscrip_D_df = subscrip_df['id'].resample('D').sum ()"
   ]
  },
  {
   "cell_type": "code",
   "execution_count": 138,
   "metadata": {},
   "outputs": [
    {
     "data": {
      "image/png": "[encoded data removed]",
      "text/plain": [
       "<Figure size 720x432 with 1 Axes>"
      ]
     },
     "metadata": {},
     "output_type": "display_data"
    }
   ],
   "source": [
    "#Years subscription\n",
    "x = subscrip_Y_df.index\n",
    "fig, ax = plt.subplots(figsize = (10,6))\n",
    "y1 = subscrip_Y_df \n",
    "ax.set_ylabel('Count')\n",
    "ax.plot(x, y1, label = 'Number of subsribed consumers')\n",
    "ax.set_title(\"Customers subscription (years)\")\n",
    "plt.legend (loc = 'best')\n",
    "plt.show()"
   ]
  },
  {
   "cell_type": "code",
   "execution_count": 139,
   "metadata": {},
   "outputs": [
    {
     "data": {
      "image/png": "[encoded data removed]",
      "text/plain": [
       "<Figure size 720x432 with 1 Axes>"
      ]
     },
     "metadata": {},
     "output_type": "display_data"
    }
   ],
   "source": [
    "#Months subscription\n",
    "x = subscrip_M_df.index\n",
    "fig, ax = plt.subplots(figsize = (10,6))\n",
    "y1 = subscrip_M_df \n",
    "ax.set_ylabel('Count')\n",
    "ax.plot(x, y1, label = 'Number of subscribed consumers')\n",
    "ax.set_title(\"Customers subscription (months)\")\n",
    "plt.legend (loc = 'best')\n",
    "plt.show()"
   ]
  },
  {
   "cell_type": "code",
   "execution_count": 140,
   "metadata": {},
   "outputs": [
    {
     "data": {
      "image/png": "[encoded data removed]",
      "text/plain": [
       "<Figure size 720x432 with 1 Axes>"
      ]
     },
     "metadata": {},
     "output_type": "display_data"
    }
   ],
   "source": [
    "#subscription in days\n",
    "x = subscrip_D_df.index\n",
    "fig, ax = plt.subplots(figsize = (10,6))\n",
    "y1 = subscrip_D_df \n",
    "ax.set_ylabel('Count')\n",
    "ax.plot(x, y1, label = 'Number of subsribed consumers')\n",
    "ax.set_title(\"Customers subscription (days)\")\n",
    "plt.legend (loc = 'best')\n",
    "plt.show()"
   ]
  },
  {
   "cell_type": "code",
   "execution_count": 141,
   "metadata": {},
   "outputs": [
    {
     "data": {
      "text/html": [
       "<div>\n",
       "<style scoped>\n",
       "    .dataframe tbody tr th:only-of-type {\n",
       "        vertical-align: middle;\n",
       "    }\n",
       "\n",
       "    .dataframe tbody tr th {\n",
       "        vertical-align: top;\n",
       "    }\n",
       "\n",
       "    .dataframe thead th {\n",
       "        text-align: right;\n",
       "    }\n",
       "</style>\n",
       "<table border=\"1\" class=\"dataframe\">\n",
       "  <thead>\n",
       "    <tr style=\"text-align: right;\">\n",
       "      <th></th>\n",
       "      <th>age</th>\n",
       "      <th>became_member_on</th>\n",
       "      <th>gender</th>\n",
       "      <th>id</th>\n",
       "      <th>income</th>\n",
       "    </tr>\n",
       "  </thead>\n",
       "  <tbody>\n",
       "    <tr>\n",
       "      <th>0</th>\n",
       "      <td>118</td>\n",
       "      <td>2017-02-12</td>\n",
       "      <td>None</td>\n",
       "      <td>68be06ca386d4c31939f3a4f0e3dd783</td>\n",
       "      <td>NaN</td>\n",
       "    </tr>\n",
       "    <tr>\n",
       "      <th>1</th>\n",
       "      <td>55</td>\n",
       "      <td>2017-07-15</td>\n",
       "      <td>F</td>\n",
       "      <td>0610b486422d4921ae7d2bf64640c50b</td>\n",
       "      <td>112000.0</td>\n",
       "    </tr>\n",
       "    <tr>\n",
       "      <th>2</th>\n",
       "      <td>118</td>\n",
       "      <td>2018-07-12</td>\n",
       "      <td>None</td>\n",
       "      <td>38fe809add3b4fcf9315a9694bb96ff5</td>\n",
       "      <td>NaN</td>\n",
       "    </tr>\n",
       "    <tr>\n",
       "      <th>3</th>\n",
       "      <td>75</td>\n",
       "      <td>2017-05-09</td>\n",
       "      <td>F</td>\n",
       "      <td>78afa995795e4d85b5d9ceeca43f5fef</td>\n",
       "      <td>100000.0</td>\n",
       "    </tr>\n",
       "    <tr>\n",
       "      <th>4</th>\n",
       "      <td>118</td>\n",
       "      <td>2017-08-04</td>\n",
       "      <td>None</td>\n",
       "      <td>a03223e636434f42ac4c3df47e8bac43</td>\n",
       "      <td>NaN</td>\n",
       "    </tr>\n",
       "    <tr>\n",
       "      <th>5</th>\n",
       "      <td>68</td>\n",
       "      <td>2018-04-26</td>\n",
       "      <td>M</td>\n",
       "      <td>e2127556f4f64592b11af22de27a7932</td>\n",
       "      <td>70000.0</td>\n",
       "    </tr>\n",
       "    <tr>\n",
       "      <th>6</th>\n",
       "      <td>118</td>\n",
       "      <td>2017-09-25</td>\n",
       "      <td>None</td>\n",
       "      <td>8ec6ce2a7e7949b1bf142def7d0e0586</td>\n",
       "      <td>NaN</td>\n",
       "    </tr>\n",
       "    <tr>\n",
       "      <th>7</th>\n",
       "      <td>118</td>\n",
       "      <td>2017-10-02</td>\n",
       "      <td>None</td>\n",
       "      <td>68617ca6246f4fbc85e91a2a49552598</td>\n",
       "      <td>NaN</td>\n",
       "    </tr>\n",
       "    <tr>\n",
       "      <th>8</th>\n",
       "      <td>65</td>\n",
       "      <td>2018-02-09</td>\n",
       "      <td>M</td>\n",
       "      <td>389bc3fa690240e798340f5a15918d5c</td>\n",
       "      <td>53000.0</td>\n",
       "    </tr>\n",
       "    <tr>\n",
       "      <th>9</th>\n",
       "      <td>118</td>\n",
       "      <td>2016-11-22</td>\n",
       "      <td>None</td>\n",
       "      <td>8974fc5686fe429db53ddde067b88302</td>\n",
       "      <td>NaN</td>\n",
       "    </tr>\n",
       "  </tbody>\n",
       "</table>\n",
       "</div>"
      ],
      "text/plain": [
       "   age became_member_on gender                                id    income\n",
       "0  118       2017-02-12   None  68be06ca386d4c31939f3a4f0e3dd783       NaN\n",
       "1   55       2017-07-15      F  0610b486422d4921ae7d2bf64640c50b  112000.0\n",
       "2  118       2018-07-12   None  38fe809add3b4fcf9315a9694bb96ff5       NaN\n",
       "3   75       2017-05-09      F  78afa995795e4d85b5d9ceeca43f5fef  100000.0\n",
       "4  118       2017-08-04   None  a03223e636434f42ac4c3df47e8bac43       NaN\n",
       "5   68       2018-04-26      M  e2127556f4f64592b11af22de27a7932   70000.0\n",
       "6  118       2017-09-25   None  8ec6ce2a7e7949b1bf142def7d0e0586       NaN\n",
       "7  118       2017-10-02   None  68617ca6246f4fbc85e91a2a49552598       NaN\n",
       "8   65       2018-02-09      M  389bc3fa690240e798340f5a15918d5c   53000.0\n",
       "9  118       2016-11-22   None  8974fc5686fe429db53ddde067b88302       NaN"
      ]
     },
     "execution_count": 141,
     "metadata": {},
     "output_type": "execute_result"
    }
   ],
   "source": [
    "profile.head (n=10)"
   ]
  },
  {
   "cell_type": "code",
   "execution_count": 142,
   "metadata": {},
   "outputs": [
    {
     "data": {
      "image/png": "[encoded data removed]",
      "text/plain": [
       "<Figure size 576x288 with 1 Axes>"
      ]
     },
     "metadata": {},
     "output_type": "display_data"
    }
   ],
   "source": [
    "#plotting gender distribution \n",
    "fig, ax = plt.subplots(figsize = (8,4))\n",
    "profile.gender.value_counts().plot(kind='bar', ax=ax)\n",
    "ax.set_xticklabels(ax.get_xticklabels(), rotation=0)\n",
    "ax.set_title('Gender Distribution')\n",
    "ax.set_ylabel('Count')\n",
    "plt.show ()"
   ]
  },
  {
   "cell_type": "code",
   "execution_count": 143,
   "metadata": {},
   "outputs": [
    {
     "data": {
      "image/png": "[encoded data removed]",
      "text/plain": [
       "<Figure size 576x288 with 1 Axes>"
      ]
     },
     "metadata": {},
     "output_type": "display_data"
    }
   ],
   "source": [
    "# plot income distribution histogram\n",
    "fig, ax = plt.subplots(figsize = (8,4))\n",
    "\n",
    "ax.hist(profile[profile.gender == 'F']['income'], alpha=0.76, label='F')\n",
    "ax.hist(profile[profile.gender == 'M']['income'], alpha=0.37, label='M')\n",
    "ax.hist(profile[profile.gender == 'O']['income'], alpha=0.78, label='O')\n",
    "ax.set_xlabel('Income value')\n",
    "ax.set_ylabel('Count')\n",
    "ax.set_title('Income distribution within different gender')\n",
    "ax.legend()\n",
    "plt.show ()"
   ]
  },
  {
   "cell_type": "code",
   "execution_count": 144,
   "metadata": {},
   "outputs": [
    {
     "data": {
      "text/plain": [
       "<matplotlib.axes._subplots.AxesSubplot at 0xe84d278>"
      ]
     },
     "execution_count": 144,
     "metadata": {},
     "output_type": "execute_result"
    },
    {
     "data": {
      "image/png": "[encoded data removed]",
      "text/plain": [
       "<Figure size 432x345.6 with 1 Axes>"
      ]
     },
     "metadata": {},
     "output_type": "display_data"
    }
   ],
   "source": [
    "#plotting customers distribution by age\n",
    "profile ['age'].plot (kind = 'hist',\n",
    "                    title = 'Clients distribution per age',\n",
    "                    figsize = (6, 4.8)\n",
    "                      )"
   ]
  },
  {
   "cell_type": "code",
   "execution_count": 145,
   "metadata": {},
   "outputs": [
    {
     "data": {
      "image/png": "[encoded data removed]",
      "text/plain": [
       "<Figure size 432x288 with 1 Axes>"
      ]
     },
     "metadata": {},
     "output_type": "display_data"
    }
   ],
   "source": [
    "#verifying income distribution. \n",
    "profile ['income'].hist ();"
   ]
  },
  {
   "cell_type": "code",
   "execution_count": 146,
   "metadata": {},
   "outputs": [
    {
     "data": {
      "image/png": "[encoded data removed]",
      "text/plain": [
       "<Figure size 432x288 with 1 Axes>"
      ]
     },
     "metadata": {},
     "output_type": "display_data"
    }
   ],
   "source": [
    "#As long as for income, for non-missing values nobody has income of zero \n",
    "#then let's fill NaNs for income with zeros and check how this affects the diagram\n",
    "\n",
    "#saving for future below use\n",
    "profile_income = profile.copy ()\n",
    "\n",
    "#let's make a temp copy of profile data so to check missing values\n",
    "profile_tmp = profile.copy ()\n",
    "profile_tmp ['income'].fillna (0, inplace =True)\n",
    "#let's mark missing gender as special - 'S'\n",
    "profile_tmp ['gender'].fillna ('S', inplace =True)\n",
    "\n",
    "\n",
    "profile_tmp ['income'].hist ();"
   ]
  },
  {
   "cell_type": "code",
   "execution_count": 147,
   "metadata": {},
   "outputs": [
    {
     "data": {
      "image/png": "[encoded data removed]",
      "text/plain": [
       "<Figure size 432x288 with 1 Axes>"
      ]
     },
     "metadata": {},
     "output_type": "display_data"
    }
   ],
   "source": [
    "#scatter plot for age and income distribution\n",
    "ax = sns.scatterplot (x = 'age', y= 'income', data = profile)\n",
    "plt.show ()"
   ]
  },
  {
   "cell_type": "markdown",
   "metadata": {},
   "source": [
    "Strict borders on the left and top side of the diagram above indicate artificial nature of the data where apparently there are income limits set for each age range."
   ]
  },
  {
   "cell_type": "code",
   "execution_count": 148,
   "metadata": {},
   "outputs": [
    {
     "data": {
      "image/png": "[encoded data removed]",
      "text/plain": [
       "<Figure size 432x288 with 1 Axes>"
      ]
     },
     "metadata": {},
     "output_type": "display_data"
    }
   ],
   "source": [
    "ax = sns.scatterplot (x='age', y='income', data = profile_tmp)"
   ]
  },
  {
   "cell_type": "markdown",
   "metadata": {},
   "source": [
    "We can see that for people of age 118 we don't have actual income figures. Kind of special group of customers."
   ]
  },
  {
   "cell_type": "code",
   "execution_count": 149,
   "metadata": {},
   "outputs": [
    {
     "name": "stdout",
     "output_type": "stream",
     "text": [
      "(2175, 5)\n",
      "(2175, 5)\n"
     ]
    },
    {
     "data": {
      "image/png": "[encoded data removed]",
      "text/plain": [
       "<Figure size 432x288 with 1 Axes>"
      ]
     },
     "metadata": {},
     "output_type": "display_data"
    }
   ],
   "source": [
    "#let's check out deeply if customers with missing values for gender are the same \n",
    "#customers with income missing \n",
    "print (profile_tmp [profile_tmp ['income'] == 0].shape)\n",
    "print (profile_tmp [profile_tmp ['gender'] == 'S'].shape)\n",
    "ax = sns.scatterplot (x= 'gender', y='income', data = profile_tmp)"
   ]
  },
  {
   "cell_type": "code",
   "execution_count": 150,
   "metadata": {},
   "outputs": [
    {
     "name": "stdout",
     "output_type": "stream",
     "text": [
      "   age became_member_on gender                                id  income\n",
      "0  118       2017-02-12      S  68be06ca386d4c31939f3a4f0e3dd783     0.0\n",
      "2  118       2018-07-12      S  38fe809add3b4fcf9315a9694bb96ff5     0.0\n",
      "4  118       2017-08-04      S  a03223e636434f42ac4c3df47e8bac43     0.0\n"
     ]
    }
   ],
   "source": [
    "print (profile_tmp [profile_tmp ['income'] == 0].head (n=3))"
   ]
  },
  {
   "cell_type": "code",
   "execution_count": 151,
   "metadata": {},
   "outputs": [
    {
     "data": {
      "image/png": "[encoded data removed]",
      "text/plain": [
       "<Figure size 432x288 with 1 Axes>"
      ]
     },
     "metadata": {},
     "output_type": "display_data"
    }
   ],
   "source": [
    "profile_tmp [profile_tmp ['income'] == 0] ['became_member_on'].hist();"
   ]
  },
  {
   "cell_type": "code",
   "execution_count": 152,
   "metadata": {},
   "outputs": [
    {
     "name": "stdout",
     "output_type": "stream",
     "text": [
      "Number of customers that have indicated income but at the same time they are at age 118:  0\n"
     ]
    }
   ],
   "source": [
    "#checking if in the datset we have people at age 118 but at the same time not in the special group\n",
    "print ('Number of customers that have indicated income but at the same time they are at age 118: ', \\\n",
    "       profile_tmp [(profile_tmp ['income'] != 0)& (profile_tmp ['age'] == 118)].shape [0])"
   ]
  },
  {
   "cell_type": "markdown",
   "metadata": {},
   "source": [
    "**Observations for the profile dataset**  \n",
    "From the above we can see that customers with missing values for gender are the same customers with income missing. \n",
    "They form a special group of customers. People with age 118 presented ***only*** in this group.  \n",
    "Subscription for them mostly done from 2016 onwards while in 2014 and 2015 only few of them subscribed.\n",
    "*****\n",
    "As a result of above analysis it appears that we may fullfill missing values in gender as 'S' and missing values in income with zeroes as it will not interfere with other group of customers."
   ]
  },
  {
   "cell_type": "code",
   "execution_count": 153,
   "metadata": {},
   "outputs": [
    {
     "data": {
      "text/html": [
       "<div>\n",
       "<style scoped>\n",
       "    .dataframe tbody tr th:only-of-type {\n",
       "        vertical-align: middle;\n",
       "    }\n",
       "\n",
       "    .dataframe tbody tr th {\n",
       "        vertical-align: top;\n",
       "    }\n",
       "\n",
       "    .dataframe thead th {\n",
       "        text-align: right;\n",
       "    }\n",
       "</style>\n",
       "<table border=\"1\" class=\"dataframe\">\n",
       "  <thead>\n",
       "    <tr style=\"text-align: right;\">\n",
       "      <th></th>\n",
       "      <th>age</th>\n",
       "      <th>became_member_on</th>\n",
       "      <th>gender</th>\n",
       "      <th>id</th>\n",
       "      <th>income</th>\n",
       "    </tr>\n",
       "  </thead>\n",
       "  <tbody>\n",
       "    <tr>\n",
       "      <th>0</th>\n",
       "      <td>118</td>\n",
       "      <td>2017-02-12</td>\n",
       "      <td>S</td>\n",
       "      <td>68be06ca386d4c31939f3a4f0e3dd783</td>\n",
       "      <td>0.0</td>\n",
       "    </tr>\n",
       "    <tr>\n",
       "      <th>1</th>\n",
       "      <td>55</td>\n",
       "      <td>2017-07-15</td>\n",
       "      <td>F</td>\n",
       "      <td>0610b486422d4921ae7d2bf64640c50b</td>\n",
       "      <td>112000.0</td>\n",
       "    </tr>\n",
       "    <tr>\n",
       "      <th>2</th>\n",
       "      <td>118</td>\n",
       "      <td>2018-07-12</td>\n",
       "      <td>S</td>\n",
       "      <td>38fe809add3b4fcf9315a9694bb96ff5</td>\n",
       "      <td>0.0</td>\n",
       "    </tr>\n",
       "    <tr>\n",
       "      <th>3</th>\n",
       "      <td>75</td>\n",
       "      <td>2017-05-09</td>\n",
       "      <td>F</td>\n",
       "      <td>78afa995795e4d85b5d9ceeca43f5fef</td>\n",
       "      <td>100000.0</td>\n",
       "    </tr>\n",
       "    <tr>\n",
       "      <th>4</th>\n",
       "      <td>118</td>\n",
       "      <td>2017-08-04</td>\n",
       "      <td>S</td>\n",
       "      <td>a03223e636434f42ac4c3df47e8bac43</td>\n",
       "      <td>0.0</td>\n",
       "    </tr>\n",
       "  </tbody>\n",
       "</table>\n",
       "</div>"
      ],
      "text/plain": [
       "   age became_member_on gender                                id    income\n",
       "0  118       2017-02-12      S  68be06ca386d4c31939f3a4f0e3dd783       0.0\n",
       "1   55       2017-07-15      F  0610b486422d4921ae7d2bf64640c50b  112000.0\n",
       "2  118       2018-07-12      S  38fe809add3b4fcf9315a9694bb96ff5       0.0\n",
       "3   75       2017-05-09      F  78afa995795e4d85b5d9ceeca43f5fef  100000.0\n",
       "4  118       2017-08-04      S  a03223e636434f42ac4c3df47e8bac43       0.0"
      ]
     },
     "execution_count": 153,
     "metadata": {},
     "output_type": "execute_result"
    }
   ],
   "source": [
    "#copying \n",
    "profile = profile_tmp.copy ()\n",
    "profile.head (n=5)"
   ]
  },
  {
   "cell_type": "code",
   "execution_count": 154,
   "metadata": {},
   "outputs": [
    {
     "data": {
      "text/html": [
       "<div>\n",
       "<style scoped>\n",
       "    .dataframe tbody tr th:only-of-type {\n",
       "        vertical-align: middle;\n",
       "    }\n",
       "\n",
       "    .dataframe tbody tr th {\n",
       "        vertical-align: top;\n",
       "    }\n",
       "\n",
       "    .dataframe thead th {\n",
       "        text-align: right;\n",
       "    }\n",
       "</style>\n",
       "<table border=\"1\" class=\"dataframe\">\n",
       "  <thead>\n",
       "    <tr style=\"text-align: right;\">\n",
       "      <th></th>\n",
       "      <th>age</th>\n",
       "      <th>income</th>\n",
       "    </tr>\n",
       "  </thead>\n",
       "  <tbody>\n",
       "    <tr>\n",
       "      <th>count</th>\n",
       "      <td>17000.000000</td>\n",
       "      <td>17000.000000</td>\n",
       "    </tr>\n",
       "    <tr>\n",
       "      <th>mean</th>\n",
       "      <td>62.531412</td>\n",
       "      <td>57037.000000</td>\n",
       "    </tr>\n",
       "    <tr>\n",
       "      <th>std</th>\n",
       "      <td>26.738580</td>\n",
       "      <td>29734.044501</td>\n",
       "    </tr>\n",
       "    <tr>\n",
       "      <th>min</th>\n",
       "      <td>18.000000</td>\n",
       "      <td>0.000000</td>\n",
       "    </tr>\n",
       "    <tr>\n",
       "      <th>25%</th>\n",
       "      <td>45.000000</td>\n",
       "      <td>40000.000000</td>\n",
       "    </tr>\n",
       "    <tr>\n",
       "      <th>50%</th>\n",
       "      <td>58.000000</td>\n",
       "      <td>59000.000000</td>\n",
       "    </tr>\n",
       "    <tr>\n",
       "      <th>75%</th>\n",
       "      <td>73.000000</td>\n",
       "      <td>76000.000000</td>\n",
       "    </tr>\n",
       "    <tr>\n",
       "      <th>max</th>\n",
       "      <td>118.000000</td>\n",
       "      <td>120000.000000</td>\n",
       "    </tr>\n",
       "  </tbody>\n",
       "</table>\n",
       "</div>"
      ],
      "text/plain": [
       "                age         income\n",
       "count  17000.000000   17000.000000\n",
       "mean      62.531412   57037.000000\n",
       "std       26.738580   29734.044501\n",
       "min       18.000000       0.000000\n",
       "25%       45.000000   40000.000000\n",
       "50%       58.000000   59000.000000\n",
       "75%       73.000000   76000.000000\n",
       "max      118.000000  120000.000000"
      ]
     },
     "execution_count": 154,
     "metadata": {},
     "output_type": "execute_result"
    }
   ],
   "source": [
    "profile.describe ()"
   ]
  },
  {
   "cell_type": "code",
   "execution_count": 155,
   "metadata": {},
   "outputs": [
    {
     "data": {
      "text/plain": [
       "(17000, 5)"
      ]
     },
     "execution_count": 155,
     "metadata": {},
     "output_type": "execute_result"
    }
   ],
   "source": [
    "#shape\n",
    "profile.shape"
   ]
  },
  {
   "cell_type": "code",
   "execution_count": 156,
   "metadata": {},
   "outputs": [
    {
     "data": {
      "text/plain": [
       "age                 0\n",
       "became_member_on    0\n",
       "gender              0\n",
       "id                  0\n",
       "income              0\n",
       "dtype: int64"
      ]
     },
     "execution_count": 156,
     "metadata": {},
     "output_type": "execute_result"
    }
   ],
   "source": [
    "#number of missing values. \n",
    "profile.isnull ().sum ()"
   ]
  },
  {
   "cell_type": "code",
   "execution_count": 157,
   "metadata": {},
   "outputs": [
    {
     "data": {
      "text/plain": [
       "array(['S', 'F', 'M', 'O'], dtype=object)"
      ]
     },
     "execution_count": 157,
     "metadata": {},
     "output_type": "execute_result"
    }
   ],
   "source": [
    "#now unique values for gender\n",
    "profile['gender'].unique ()"
   ]
  },
  {
   "cell_type": "code",
   "execution_count": 158,
   "metadata": {},
   "outputs": [
    {
     "data": {
      "text/html": [
       "<div>\n",
       "<style scoped>\n",
       "    .dataframe tbody tr th:only-of-type {\n",
       "        vertical-align: middle;\n",
       "    }\n",
       "\n",
       "    .dataframe tbody tr th {\n",
       "        vertical-align: top;\n",
       "    }\n",
       "\n",
       "    .dataframe thead th {\n",
       "        text-align: right;\n",
       "    }\n",
       "</style>\n",
       "<table border=\"1\" class=\"dataframe\">\n",
       "  <thead>\n",
       "    <tr style=\"text-align: right;\">\n",
       "      <th></th>\n",
       "      <th>event</th>\n",
       "      <th>person</th>\n",
       "      <th>time</th>\n",
       "      <th>value</th>\n",
       "    </tr>\n",
       "  </thead>\n",
       "  <tbody>\n",
       "    <tr>\n",
       "      <th>0</th>\n",
       "      <td>offer received</td>\n",
       "      <td>78afa995795e4d85b5d9ceeca43f5fef</td>\n",
       "      <td>0</td>\n",
       "      <td>{'offer id': '9b98b8c7a33c4b65b9aebfe6a799e6d9'}</td>\n",
       "    </tr>\n",
       "    <tr>\n",
       "      <th>1</th>\n",
       "      <td>offer received</td>\n",
       "      <td>a03223e636434f42ac4c3df47e8bac43</td>\n",
       "      <td>0</td>\n",
       "      <td>{'offer id': '0b1e1539f2cc45b7b9fa7c272da2e1d7'}</td>\n",
       "    </tr>\n",
       "    <tr>\n",
       "      <th>2</th>\n",
       "      <td>offer received</td>\n",
       "      <td>e2127556f4f64592b11af22de27a7932</td>\n",
       "      <td>0</td>\n",
       "      <td>{'offer id': '2906b810c7d4411798c6938adc9daaa5'}</td>\n",
       "    </tr>\n",
       "    <tr>\n",
       "      <th>3</th>\n",
       "      <td>offer received</td>\n",
       "      <td>8ec6ce2a7e7949b1bf142def7d0e0586</td>\n",
       "      <td>0</td>\n",
       "      <td>{'offer id': 'fafdcd668e3743c1bb461111dcafc2a4'}</td>\n",
       "    </tr>\n",
       "    <tr>\n",
       "      <th>4</th>\n",
       "      <td>offer received</td>\n",
       "      <td>68617ca6246f4fbc85e91a2a49552598</td>\n",
       "      <td>0</td>\n",
       "      <td>{'offer id': '4d5c57ea9a6940dd891ad53e9dbe8da0'}</td>\n",
       "    </tr>\n",
       "  </tbody>\n",
       "</table>\n",
       "</div>"
      ],
      "text/plain": [
       "            event                            person  time  \\\n",
       "0  offer received  78afa995795e4d85b5d9ceeca43f5fef     0   \n",
       "1  offer received  a03223e636434f42ac4c3df47e8bac43     0   \n",
       "2  offer received  e2127556f4f64592b11af22de27a7932     0   \n",
       "3  offer received  8ec6ce2a7e7949b1bf142def7d0e0586     0   \n",
       "4  offer received  68617ca6246f4fbc85e91a2a49552598     0   \n",
       "\n",
       "                                              value  \n",
       "0  {'offer id': '9b98b8c7a33c4b65b9aebfe6a799e6d9'}  \n",
       "1  {'offer id': '0b1e1539f2cc45b7b9fa7c272da2e1d7'}  \n",
       "2  {'offer id': '2906b810c7d4411798c6938adc9daaa5'}  \n",
       "3  {'offer id': 'fafdcd668e3743c1bb461111dcafc2a4'}  \n",
       "4  {'offer id': '4d5c57ea9a6940dd891ad53e9dbe8da0'}  "
      ]
     },
     "execution_count": 158,
     "metadata": {},
     "output_type": "execute_result"
    }
   ],
   "source": [
    "#now let's verify transcript\n",
    "transcript.head (n=5)"
   ]
  },
  {
   "cell_type": "code",
   "execution_count": 159,
   "metadata": {},
   "outputs": [
    {
     "data": {
      "text/plain": [
       "array(['offer received', 'offer viewed', 'transaction', 'offer completed'],\n",
       "      dtype=object)"
      ]
     },
     "execution_count": 159,
     "metadata": {},
     "output_type": "execute_result"
    }
   ],
   "source": [
    "#unique values of event\n",
    "transcript ['event'].unique ()"
   ]
  },
  {
   "cell_type": "code",
   "execution_count": 160,
   "metadata": {},
   "outputs": [
    {
     "data": {
      "text/plain": [
       "(306534, 4)"
      ]
     },
     "execution_count": 160,
     "metadata": {},
     "output_type": "execute_result"
    }
   ],
   "source": [
    "transcript.shape"
   ]
  },
  {
   "cell_type": "code",
   "execution_count": 161,
   "metadata": {},
   "outputs": [
    {
     "data": {
      "image/png": "[encoded data removed]",
      "text/plain": [
       "<Figure size 432x288 with 1 Axes>"
      ]
     },
     "metadata": {},
     "output_type": "display_data"
    }
   ],
   "source": [
    "transcript.hist ();"
   ]
  },
  {
   "cell_type": "code",
   "execution_count": 162,
   "metadata": {},
   "outputs": [
    {
     "data": {
      "text/plain": [
       "event     0\n",
       "person    0\n",
       "time      0\n",
       "value     0\n",
       "dtype: int64"
      ]
     },
     "execution_count": 162,
     "metadata": {},
     "output_type": "execute_result"
    }
   ],
   "source": [
    "#number of missing values\n",
    "transcript.isnull().sum()"
   ]
  },
  {
   "cell_type": "code",
   "execution_count": 163,
   "metadata": {},
   "outputs": [
    {
     "data": {
      "text/plain": [
       "<matplotlib.axes._subplots.AxesSubplot at 0xe1bbb00>"
      ]
     },
     "execution_count": 163,
     "metadata": {},
     "output_type": "execute_result"
    },
    {
     "data": {
      "image/png": "[encoded data removed]",
      "text/plain": [
       "<Figure size 432x288 with 1 Axes>"
      ]
     },
     "metadata": {},
     "output_type": "display_data"
    }
   ],
   "source": [
    "#checking distribution of events in the dataframe\n",
    "sns.countplot('event', data= transcript)"
   ]
  },
  {
   "cell_type": "code",
   "execution_count": 164,
   "metadata": {},
   "outputs": [],
   "source": [
    "#adding new columns to transcript\n",
    "transcript = transcript.join (pd.DataFrame ( { 'offer_id': np.nan, 'amount': np.nan,\\\n",
    "                                               'reward_received': np.nan}, index = transcript.index))"
   ]
  },
  {
   "cell_type": "code",
   "execution_count": 165,
   "metadata": {},
   "outputs": [
    {
     "data": {
      "text/plain": [
       "event                   0\n",
       "person                  0\n",
       "time                    0\n",
       "value                   0\n",
       "offer_id           138953\n",
       "amount             167581\n",
       "reward_received    272955\n",
       "dtype: int64"
      ]
     },
     "execution_count": 165,
     "metadata": {},
     "output_type": "execute_result"
    }
   ],
   "source": [
    "#data cleaning. we need to extract reward, offer_id and amount from raw test in value column\n",
    "transcript ['reward_received'] = transcript ['value'].apply (define_reward)\n",
    "transcript ['offer_id'] = transcript ['value'].apply (define_offer)\n",
    "transcript ['amount'] = transcript ['value'].apply (define_amount)\n",
    "transcript.isnull ().sum ()"
   ]
  },
  {
   "cell_type": "code",
   "execution_count": 166,
   "metadata": {},
   "outputs": [
    {
     "data": {
      "text/html": [
       "<div>\n",
       "<style scoped>\n",
       "    .dataframe tbody tr th:only-of-type {\n",
       "        vertical-align: middle;\n",
       "    }\n",
       "\n",
       "    .dataframe tbody tr th {\n",
       "        vertical-align: top;\n",
       "    }\n",
       "\n",
       "    .dataframe thead th {\n",
       "        text-align: right;\n",
       "    }\n",
       "</style>\n",
       "<table border=\"1\" class=\"dataframe\">\n",
       "  <thead>\n",
       "    <tr style=\"text-align: right;\">\n",
       "      <th></th>\n",
       "      <th>event</th>\n",
       "      <th>person</th>\n",
       "      <th>time</th>\n",
       "      <th>value</th>\n",
       "      <th>offer_id</th>\n",
       "      <th>amount</th>\n",
       "      <th>reward_received</th>\n",
       "    </tr>\n",
       "  </thead>\n",
       "  <tbody>\n",
       "    <tr>\n",
       "      <th>0</th>\n",
       "      <td>offer received</td>\n",
       "      <td>78afa995795e4d85b5d9ceeca43f5fef</td>\n",
       "      <td>0</td>\n",
       "      <td>{'offer id': '9b98b8c7a33c4b65b9aebfe6a799e6d9'}</td>\n",
       "      <td>9b98b8c7a33c4b65b9aebfe6a799e6d9</td>\n",
       "      <td>NaN</td>\n",
       "      <td>NaN</td>\n",
       "    </tr>\n",
       "    <tr>\n",
       "      <th>1</th>\n",
       "      <td>offer received</td>\n",
       "      <td>a03223e636434f42ac4c3df47e8bac43</td>\n",
       "      <td>0</td>\n",
       "      <td>{'offer id': '0b1e1539f2cc45b7b9fa7c272da2e1d7'}</td>\n",
       "      <td>0b1e1539f2cc45b7b9fa7c272da2e1d7</td>\n",
       "      <td>NaN</td>\n",
       "      <td>NaN</td>\n",
       "    </tr>\n",
       "    <tr>\n",
       "      <th>2</th>\n",
       "      <td>offer received</td>\n",
       "      <td>e2127556f4f64592b11af22de27a7932</td>\n",
       "      <td>0</td>\n",
       "      <td>{'offer id': '2906b810c7d4411798c6938adc9daaa5'}</td>\n",
       "      <td>2906b810c7d4411798c6938adc9daaa5</td>\n",
       "      <td>NaN</td>\n",
       "      <td>NaN</td>\n",
       "    </tr>\n",
       "    <tr>\n",
       "      <th>3</th>\n",
       "      <td>offer received</td>\n",
       "      <td>8ec6ce2a7e7949b1bf142def7d0e0586</td>\n",
       "      <td>0</td>\n",
       "      <td>{'offer id': 'fafdcd668e3743c1bb461111dcafc2a4'}</td>\n",
       "      <td>fafdcd668e3743c1bb461111dcafc2a4</td>\n",
       "      <td>NaN</td>\n",
       "      <td>NaN</td>\n",
       "    </tr>\n",
       "    <tr>\n",
       "      <th>4</th>\n",
       "      <td>offer received</td>\n",
       "      <td>68617ca6246f4fbc85e91a2a49552598</td>\n",
       "      <td>0</td>\n",
       "      <td>{'offer id': '4d5c57ea9a6940dd891ad53e9dbe8da0'}</td>\n",
       "      <td>4d5c57ea9a6940dd891ad53e9dbe8da0</td>\n",
       "      <td>NaN</td>\n",
       "      <td>NaN</td>\n",
       "    </tr>\n",
       "  </tbody>\n",
       "</table>\n",
       "</div>"
      ],
      "text/plain": [
       "            event                            person  time  \\\n",
       "0  offer received  78afa995795e4d85b5d9ceeca43f5fef     0   \n",
       "1  offer received  a03223e636434f42ac4c3df47e8bac43     0   \n",
       "2  offer received  e2127556f4f64592b11af22de27a7932     0   \n",
       "3  offer received  8ec6ce2a7e7949b1bf142def7d0e0586     0   \n",
       "4  offer received  68617ca6246f4fbc85e91a2a49552598     0   \n",
       "\n",
       "                                              value  \\\n",
       "0  {'offer id': '9b98b8c7a33c4b65b9aebfe6a799e6d9'}   \n",
       "1  {'offer id': '0b1e1539f2cc45b7b9fa7c272da2e1d7'}   \n",
       "2  {'offer id': '2906b810c7d4411798c6938adc9daaa5'}   \n",
       "3  {'offer id': 'fafdcd668e3743c1bb461111dcafc2a4'}   \n",
       "4  {'offer id': '4d5c57ea9a6940dd891ad53e9dbe8da0'}   \n",
       "\n",
       "                           offer_id  amount  reward_received  \n",
       "0  9b98b8c7a33c4b65b9aebfe6a799e6d9     NaN              NaN  \n",
       "1  0b1e1539f2cc45b7b9fa7c272da2e1d7     NaN              NaN  \n",
       "2  2906b810c7d4411798c6938adc9daaa5     NaN              NaN  \n",
       "3  fafdcd668e3743c1bb461111dcafc2a4     NaN              NaN  \n",
       "4  4d5c57ea9a6940dd891ad53e9dbe8da0     NaN              NaN  "
      ]
     },
     "execution_count": 166,
     "metadata": {},
     "output_type": "execute_result"
    }
   ],
   "source": [
    "#review results\n",
    "transcript .head (n=5)"
   ]
  },
  {
   "cell_type": "code",
   "execution_count": 167,
   "metadata": {},
   "outputs": [
    {
     "data": {
      "text/plain": [
       "count    138953.000000\n",
       "mean         12.777356\n",
       "std          30.250529\n",
       "min           0.050000\n",
       "25%           2.780000\n",
       "50%           8.890000\n",
       "75%          18.070000\n",
       "max        1062.280000\n",
       "Name: amount, dtype: float64"
      ]
     },
     "execution_count": 167,
     "metadata": {},
     "output_type": "execute_result"
    }
   ],
   "source": [
    "transcript['amount'].describe()"
   ]
  },
  {
   "cell_type": "code",
   "execution_count": 168,
   "metadata": {},
   "outputs": [
    {
     "data": {
      "text/plain": [
       "Text(0.5, 1.0, 'Ditribution of frequency of the overall amount spent by consumers')"
      ]
     },
     "execution_count": 168,
     "metadata": {},
     "output_type": "execute_result"
    },
    {
     "data": {
      "image/png": "[encoded data removed]",
      "text/plain": [
       "<Figure size 432x288 with 1 Axes>"
      ]
     },
     "metadata": {},
     "output_type": "display_data"
    }
   ],
   "source": [
    "transcript.groupby('person')['amount']. sum ().hist(bins=30)\n",
    "plt.xlabel('Amount')\n",
    "plt.ylabel('Count')\n",
    "plt.title('Ditribution of frequency of the overall amount spent by consumers')"
   ]
  },
  {
   "cell_type": "code",
   "execution_count": 169,
   "metadata": {},
   "outputs": [
    {
     "data": {
      "text/plain": [
       "Text(0.5, 1.0, 'Ditribution of mean of the amount spent by consumers')"
      ]
     },
     "execution_count": 169,
     "metadata": {},
     "output_type": "execute_result"
    },
    {
     "data": {
      "image/png": "[encoded data removed]",
      "text/plain": [
       "<Figure size 432x288 with 1 Axes>"
      ]
     },
     "metadata": {},
     "output_type": "display_data"
    }
   ],
   "source": [
    "transcript.groupby('person')['amount'].mean().hist(bins=30)\n",
    "plt.xlabel('Amount')\n",
    "plt.ylabel('Count')\n",
    "plt.title('Ditribution of mean of the amount spent by consumers')"
   ]
  },
  {
   "cell_type": "markdown",
   "metadata": {},
   "source": [
    "From the above we can see that majority of transactions were done for small amounts, mean value 12.7 and for 75% of transactions amount was not greater than 18.07"
   ]
  },
  {
   "cell_type": "code",
   "execution_count": 170,
   "metadata": {},
   "outputs": [
    {
     "name": "stdout",
     "output_type": "stream",
     "text": [
      "transcript shape:  (306534, 7)\n",
      "Number of unique customers in transcript:  17000\n",
      "Number of unique customers in profile:  17000\n"
     ]
    }
   ],
   "source": [
    "print ('transcript shape: ', transcript.shape) \n",
    "print ('Number of unique customers in transcript: ', transcript ['person'].nunique ())\n",
    "print ('Number of unique customers in profile: ', profile ['id'].nunique ())"
   ]
  },
  {
   "cell_type": "code",
   "execution_count": 171,
   "metadata": {},
   "outputs": [
    {
     "data": {
      "text/plain": [
       "17000"
      ]
     },
     "execution_count": 171,
     "metadata": {},
     "output_type": "execute_result"
    }
   ],
   "source": [
    "unique_cust_profile = set (profile ['id'].unique ())\n",
    "unique_cust_transcript = set (transcript ['person'].unique ())\n",
    "len (unique_cust_profile.intersection (unique_cust_transcript))"
   ]
  },
  {
   "cell_type": "markdown",
   "metadata": {},
   "source": [
    "We can conclude that all the customers from transcript have corresponding data in profile."
   ]
  },
  {
   "cell_type": "code",
   "execution_count": 172,
   "metadata": {},
   "outputs": [
    {
     "data": {
      "text/html": [
       "<div>\n",
       "<style scoped>\n",
       "    .dataframe tbody tr th:only-of-type {\n",
       "        vertical-align: middle;\n",
       "    }\n",
       "\n",
       "    .dataframe tbody tr th {\n",
       "        vertical-align: top;\n",
       "    }\n",
       "\n",
       "    .dataframe thead th {\n",
       "        text-align: right;\n",
       "    }\n",
       "</style>\n",
       "<table border=\"1\" class=\"dataframe\">\n",
       "  <thead>\n",
       "    <tr style=\"text-align: right;\">\n",
       "      <th></th>\n",
       "      <th>event</th>\n",
       "      <th>person</th>\n",
       "      <th>time</th>\n",
       "      <th>offer_id</th>\n",
       "      <th>amount</th>\n",
       "      <th>reward_received</th>\n",
       "      <th>channels</th>\n",
       "      <th>difficulty</th>\n",
       "      <th>duration</th>\n",
       "      <th>offer_type</th>\n",
       "      <th>reward</th>\n",
       "      <th>subtype</th>\n",
       "      <th>time_days</th>\n",
       "    </tr>\n",
       "  </thead>\n",
       "  <tbody>\n",
       "    <tr>\n",
       "      <th>0</th>\n",
       "      <td>offer received</td>\n",
       "      <td>78afa995795e4d85b5d9ceeca43f5fef</td>\n",
       "      <td>0</td>\n",
       "      <td>9b98b8c7a33c4b65b9aebfe6a799e6d9</td>\n",
       "      <td>NaN</td>\n",
       "      <td>NaN</td>\n",
       "      <td>[web, email, mobile]</td>\n",
       "      <td>5.0</td>\n",
       "      <td>7.0</td>\n",
       "      <td>bogo</td>\n",
       "      <td>5.0</td>\n",
       "      <td>bogo_7_5</td>\n",
       "      <td>0.0</td>\n",
       "    </tr>\n",
       "    <tr>\n",
       "      <th>1</th>\n",
       "      <td>offer received</td>\n",
       "      <td>a03223e636434f42ac4c3df47e8bac43</td>\n",
       "      <td>0</td>\n",
       "      <td>0b1e1539f2cc45b7b9fa7c272da2e1d7</td>\n",
       "      <td>NaN</td>\n",
       "      <td>NaN</td>\n",
       "      <td>[web, email]</td>\n",
       "      <td>20.0</td>\n",
       "      <td>10.0</td>\n",
       "      <td>discount</td>\n",
       "      <td>5.0</td>\n",
       "      <td>discount_10_20</td>\n",
       "      <td>0.0</td>\n",
       "    </tr>\n",
       "    <tr>\n",
       "      <th>2</th>\n",
       "      <td>offer received</td>\n",
       "      <td>e2127556f4f64592b11af22de27a7932</td>\n",
       "      <td>0</td>\n",
       "      <td>2906b810c7d4411798c6938adc9daaa5</td>\n",
       "      <td>NaN</td>\n",
       "      <td>NaN</td>\n",
       "      <td>[web, email, mobile]</td>\n",
       "      <td>10.0</td>\n",
       "      <td>7.0</td>\n",
       "      <td>discount</td>\n",
       "      <td>2.0</td>\n",
       "      <td>discount_7_10</td>\n",
       "      <td>0.0</td>\n",
       "    </tr>\n",
       "    <tr>\n",
       "      <th>3</th>\n",
       "      <td>offer received</td>\n",
       "      <td>8ec6ce2a7e7949b1bf142def7d0e0586</td>\n",
       "      <td>0</td>\n",
       "      <td>fafdcd668e3743c1bb461111dcafc2a4</td>\n",
       "      <td>NaN</td>\n",
       "      <td>NaN</td>\n",
       "      <td>[web, email, mobile, social]</td>\n",
       "      <td>10.0</td>\n",
       "      <td>10.0</td>\n",
       "      <td>discount</td>\n",
       "      <td>2.0</td>\n",
       "      <td>discount_10_10</td>\n",
       "      <td>0.0</td>\n",
       "    </tr>\n",
       "    <tr>\n",
       "      <th>4</th>\n",
       "      <td>offer received</td>\n",
       "      <td>68617ca6246f4fbc85e91a2a49552598</td>\n",
       "      <td>0</td>\n",
       "      <td>4d5c57ea9a6940dd891ad53e9dbe8da0</td>\n",
       "      <td>NaN</td>\n",
       "      <td>NaN</td>\n",
       "      <td>[web, email, mobile, social]</td>\n",
       "      <td>10.0</td>\n",
       "      <td>5.0</td>\n",
       "      <td>bogo</td>\n",
       "      <td>10.0</td>\n",
       "      <td>bogo_5_10</td>\n",
       "      <td>0.0</td>\n",
       "    </tr>\n",
       "  </tbody>\n",
       "</table>\n",
       "</div>"
      ],
      "text/plain": [
       "            event                            person  time  \\\n",
       "0  offer received  78afa995795e4d85b5d9ceeca43f5fef     0   \n",
       "1  offer received  a03223e636434f42ac4c3df47e8bac43     0   \n",
       "2  offer received  e2127556f4f64592b11af22de27a7932     0   \n",
       "3  offer received  8ec6ce2a7e7949b1bf142def7d0e0586     0   \n",
       "4  offer received  68617ca6246f4fbc85e91a2a49552598     0   \n",
       "\n",
       "                           offer_id  amount  reward_received  \\\n",
       "0  9b98b8c7a33c4b65b9aebfe6a799e6d9     NaN              NaN   \n",
       "1  0b1e1539f2cc45b7b9fa7c272da2e1d7     NaN              NaN   \n",
       "2  2906b810c7d4411798c6938adc9daaa5     NaN              NaN   \n",
       "3  fafdcd668e3743c1bb461111dcafc2a4     NaN              NaN   \n",
       "4  4d5c57ea9a6940dd891ad53e9dbe8da0     NaN              NaN   \n",
       "\n",
       "                       channels  difficulty  duration offer_type  reward  \\\n",
       "0          [web, email, mobile]         5.0       7.0       bogo     5.0   \n",
       "1                  [web, email]        20.0      10.0   discount     5.0   \n",
       "2          [web, email, mobile]        10.0       7.0   discount     2.0   \n",
       "3  [web, email, mobile, social]        10.0      10.0   discount     2.0   \n",
       "4  [web, email, mobile, social]        10.0       5.0       bogo    10.0   \n",
       "\n",
       "          subtype  time_days  \n",
       "0        bogo_7_5        0.0  \n",
       "1  discount_10_20        0.0  \n",
       "2   discount_7_10        0.0  \n",
       "3  discount_10_10        0.0  \n",
       "4       bogo_5_10        0.0  "
      ]
     },
     "execution_count": 172,
     "metadata": {},
     "output_type": "execute_result"
    }
   ],
   "source": [
    "#combining transcript and portfolio\n",
    "df = transcript.merge (portfolio, left_on= 'offer_id', right_on= 'id', how= 'left', validate= 'many_to_one')\n",
    "\n",
    "#dropping unnessary columns\n",
    "df.drop (columns = ['value', 'id'], inplace = True)\n",
    "\n",
    "#adding a column with time in days\n",
    "df ['time_days'] = (df ['time']/24).round (decimals = 2)\n",
    "\n",
    "df.head (n=5)"
   ]
  },
  {
   "cell_type": "code",
   "execution_count": 173,
   "metadata": {},
   "outputs": [
    {
     "data": {
      "text/html": [
       "<div>\n",
       "<style scoped>\n",
       "    .dataframe tbody tr th:only-of-type {\n",
       "        vertical-align: middle;\n",
       "    }\n",
       "\n",
       "    .dataframe tbody tr th {\n",
       "        vertical-align: top;\n",
       "    }\n",
       "\n",
       "    .dataframe thead th {\n",
       "        text-align: right;\n",
       "    }\n",
       "</style>\n",
       "<table border=\"1\" class=\"dataframe\">\n",
       "  <thead>\n",
       "    <tr style=\"text-align: right;\">\n",
       "      <th></th>\n",
       "      <th>event</th>\n",
       "      <th>person</th>\n",
       "      <th>time</th>\n",
       "      <th>offer_id</th>\n",
       "      <th>amount</th>\n",
       "      <th>reward_received</th>\n",
       "      <th>channels</th>\n",
       "      <th>difficulty</th>\n",
       "      <th>duration</th>\n",
       "      <th>offer_type</th>\n",
       "      <th>reward</th>\n",
       "      <th>subtype</th>\n",
       "      <th>time_days</th>\n",
       "    </tr>\n",
       "  </thead>\n",
       "  <tbody>\n",
       "  </tbody>\n",
       "</table>\n",
       "</div>"
      ],
      "text/plain": [
       "Empty DataFrame\n",
       "Columns: [event, person, time, offer_id, amount, reward_received, channels, difficulty, duration, offer_type, reward, subtype, time_days]\n",
       "Index: []"
      ]
     },
     "execution_count": 173,
     "metadata": {},
     "output_type": "execute_result"
    }
   ],
   "source": [
    "df [(df ['reward_received'] >0) & (df ['event'] != 'offer completed')] "
   ]
  },
  {
   "cell_type": "markdown",
   "metadata": {},
   "source": [
    "Which means that rewards can be gained only when offer completed."
   ]
  },
  {
   "cell_type": "code",
   "execution_count": 174,
   "metadata": {},
   "outputs": [
    {
     "data": {
      "text/html": [
       "<div>\n",
       "<style scoped>\n",
       "    .dataframe tbody tr th:only-of-type {\n",
       "        vertical-align: middle;\n",
       "    }\n",
       "\n",
       "    .dataframe tbody tr th {\n",
       "        vertical-align: top;\n",
       "    }\n",
       "\n",
       "    .dataframe thead th {\n",
       "        text-align: right;\n",
       "    }\n",
       "</style>\n",
       "<table border=\"1\" class=\"dataframe\">\n",
       "  <thead>\n",
       "    <tr style=\"text-align: right;\">\n",
       "      <th></th>\n",
       "      <th>event</th>\n",
       "      <th>person</th>\n",
       "      <th>time</th>\n",
       "      <th>offer_id</th>\n",
       "      <th>amount</th>\n",
       "      <th>reward_received</th>\n",
       "      <th>channels</th>\n",
       "      <th>difficulty</th>\n",
       "      <th>duration</th>\n",
       "      <th>offer_type</th>\n",
       "      <th>reward</th>\n",
       "      <th>subtype</th>\n",
       "      <th>time_days</th>\n",
       "      <th>age</th>\n",
       "      <th>became_member_on</th>\n",
       "      <th>gender</th>\n",
       "      <th>income</th>\n",
       "    </tr>\n",
       "  </thead>\n",
       "  <tbody>\n",
       "    <tr>\n",
       "      <th>0</th>\n",
       "      <td>offer received</td>\n",
       "      <td>78afa995795e4d85b5d9ceeca43f5fef</td>\n",
       "      <td>0</td>\n",
       "      <td>9b98b8c7a33c4b65b9aebfe6a799e6d9</td>\n",
       "      <td>NaN</td>\n",
       "      <td>NaN</td>\n",
       "      <td>[web, email, mobile]</td>\n",
       "      <td>5.0</td>\n",
       "      <td>7.0</td>\n",
       "      <td>bogo</td>\n",
       "      <td>5.0</td>\n",
       "      <td>bogo_7_5</td>\n",
       "      <td>0.0</td>\n",
       "      <td>75</td>\n",
       "      <td>2017-05-09</td>\n",
       "      <td>F</td>\n",
       "      <td>100000.0</td>\n",
       "    </tr>\n",
       "    <tr>\n",
       "      <th>1</th>\n",
       "      <td>offer received</td>\n",
       "      <td>a03223e636434f42ac4c3df47e8bac43</td>\n",
       "      <td>0</td>\n",
       "      <td>0b1e1539f2cc45b7b9fa7c272da2e1d7</td>\n",
       "      <td>NaN</td>\n",
       "      <td>NaN</td>\n",
       "      <td>[web, email]</td>\n",
       "      <td>20.0</td>\n",
       "      <td>10.0</td>\n",
       "      <td>discount</td>\n",
       "      <td>5.0</td>\n",
       "      <td>discount_10_20</td>\n",
       "      <td>0.0</td>\n",
       "      <td>118</td>\n",
       "      <td>2017-08-04</td>\n",
       "      <td>S</td>\n",
       "      <td>0.0</td>\n",
       "    </tr>\n",
       "    <tr>\n",
       "      <th>2</th>\n",
       "      <td>offer received</td>\n",
       "      <td>e2127556f4f64592b11af22de27a7932</td>\n",
       "      <td>0</td>\n",
       "      <td>2906b810c7d4411798c6938adc9daaa5</td>\n",
       "      <td>NaN</td>\n",
       "      <td>NaN</td>\n",
       "      <td>[web, email, mobile]</td>\n",
       "      <td>10.0</td>\n",
       "      <td>7.0</td>\n",
       "      <td>discount</td>\n",
       "      <td>2.0</td>\n",
       "      <td>discount_7_10</td>\n",
       "      <td>0.0</td>\n",
       "      <td>68</td>\n",
       "      <td>2018-04-26</td>\n",
       "      <td>M</td>\n",
       "      <td>70000.0</td>\n",
       "    </tr>\n",
       "    <tr>\n",
       "      <th>3</th>\n",
       "      <td>offer received</td>\n",
       "      <td>8ec6ce2a7e7949b1bf142def7d0e0586</td>\n",
       "      <td>0</td>\n",
       "      <td>fafdcd668e3743c1bb461111dcafc2a4</td>\n",
       "      <td>NaN</td>\n",
       "      <td>NaN</td>\n",
       "      <td>[web, email, mobile, social]</td>\n",
       "      <td>10.0</td>\n",
       "      <td>10.0</td>\n",
       "      <td>discount</td>\n",
       "      <td>2.0</td>\n",
       "      <td>discount_10_10</td>\n",
       "      <td>0.0</td>\n",
       "      <td>118</td>\n",
       "      <td>2017-09-25</td>\n",
       "      <td>S</td>\n",
       "      <td>0.0</td>\n",
       "    </tr>\n",
       "    <tr>\n",
       "      <th>4</th>\n",
       "      <td>offer received</td>\n",
       "      <td>68617ca6246f4fbc85e91a2a49552598</td>\n",
       "      <td>0</td>\n",
       "      <td>4d5c57ea9a6940dd891ad53e9dbe8da0</td>\n",
       "      <td>NaN</td>\n",
       "      <td>NaN</td>\n",
       "      <td>[web, email, mobile, social]</td>\n",
       "      <td>10.0</td>\n",
       "      <td>5.0</td>\n",
       "      <td>bogo</td>\n",
       "      <td>10.0</td>\n",
       "      <td>bogo_5_10</td>\n",
       "      <td>0.0</td>\n",
       "      <td>118</td>\n",
       "      <td>2017-10-02</td>\n",
       "      <td>S</td>\n",
       "      <td>0.0</td>\n",
       "    </tr>\n",
       "  </tbody>\n",
       "</table>\n",
       "</div>"
      ],
      "text/plain": [
       "            event                            person  time  \\\n",
       "0  offer received  78afa995795e4d85b5d9ceeca43f5fef     0   \n",
       "1  offer received  a03223e636434f42ac4c3df47e8bac43     0   \n",
       "2  offer received  e2127556f4f64592b11af22de27a7932     0   \n",
       "3  offer received  8ec6ce2a7e7949b1bf142def7d0e0586     0   \n",
       "4  offer received  68617ca6246f4fbc85e91a2a49552598     0   \n",
       "\n",
       "                           offer_id  amount  reward_received  \\\n",
       "0  9b98b8c7a33c4b65b9aebfe6a799e6d9     NaN              NaN   \n",
       "1  0b1e1539f2cc45b7b9fa7c272da2e1d7     NaN              NaN   \n",
       "2  2906b810c7d4411798c6938adc9daaa5     NaN              NaN   \n",
       "3  fafdcd668e3743c1bb461111dcafc2a4     NaN              NaN   \n",
       "4  4d5c57ea9a6940dd891ad53e9dbe8da0     NaN              NaN   \n",
       "\n",
       "                       channels  difficulty  duration offer_type  reward  \\\n",
       "0          [web, email, mobile]         5.0       7.0       bogo     5.0   \n",
       "1                  [web, email]        20.0      10.0   discount     5.0   \n",
       "2          [web, email, mobile]        10.0       7.0   discount     2.0   \n",
       "3  [web, email, mobile, social]        10.0      10.0   discount     2.0   \n",
       "4  [web, email, mobile, social]        10.0       5.0       bogo    10.0   \n",
       "\n",
       "          subtype  time_days  age became_member_on gender    income  \n",
       "0        bogo_7_5        0.0   75       2017-05-09      F  100000.0  \n",
       "1  discount_10_20        0.0  118       2017-08-04      S       0.0  \n",
       "2   discount_7_10        0.0   68       2018-04-26      M   70000.0  \n",
       "3  discount_10_10        0.0  118       2017-09-25      S       0.0  \n",
       "4       bogo_5_10        0.0  118       2017-10-02      S       0.0  "
      ]
     },
     "execution_count": 174,
     "metadata": {},
     "output_type": "execute_result"
    }
   ],
   "source": [
    "#merging with profile df\n",
    "df = df.merge (profile, left_on = 'person', right_on = 'id', how = 'left', validate= 'many_to_one')\n",
    "\n",
    "#dropping unnessary column\n",
    "df.drop (columns = ['id'], inplace = True)\n",
    "df.head (n=5)"
   ]
  },
  {
   "cell_type": "code",
   "execution_count": 175,
   "metadata": {},
   "outputs": [
    {
     "name": "stdout",
     "output_type": "stream",
     "text": [
      "Number of customers that received an offer at least once  16994\n",
      "Conclusion: 6 persons never recieved any offer but performed transactions\n"
     ]
    }
   ],
   "source": [
    "print ('Number of customers that received an offer at least once ', df [df ['event'] == 'offer received'] ['person'].nunique ())\n",
    "print ('Conclusion: 6 persons never recieved any offer but performed transactions')"
   ]
  },
  {
   "cell_type": "code",
   "execution_count": 176,
   "metadata": {},
   "outputs": [
    {
     "name": "stdout",
     "output_type": "stream",
     "text": [
      "(0, 17)\n",
      "(0, 17)\n"
     ]
    }
   ],
   "source": [
    "print (df [(df ['event'] == 'offer completed') & (df ['reward_received'] != df ['reward'])].shape)\n",
    "print (df [(df ['event'] == 'offer completed') & (df ['offer_type'] == 'informational')].shape)"
   ]
  },
  {
   "cell_type": "markdown",
   "metadata": {},
   "source": [
    "Which means that whenever an offer completed reward recieved in full and at the same time there are no offer completed transactions for informational offers."
   ]
  },
  {
   "cell_type": "code",
   "execution_count": 177,
   "metadata": {},
   "outputs": [
    {
     "data": {
      "image/png": "[encoded data removed]",
      "text/plain": [
       "<Figure size 576x288 with 1 Axes>"
      ]
     },
     "metadata": {},
     "output_type": "display_data"
    }
   ],
   "source": [
    "#let's visualize distribution of offer type within completed offers\n",
    "offers_completed = df[df ['event'] == 'offer completed']\n",
    "\n",
    "#plotting gender distribution \n",
    "fig, ax = plt.subplots(figsize = (8,4))\n",
    "offers_completed.offer_type.value_counts().plot(kind='bar', ax=ax)\n",
    "ax.set_xticklabels(ax.get_xticklabels(), rotation=0)\n",
    "ax.set_title('Completed offers distribution')\n",
    "ax.set_ylabel('Count')\n",
    "plt.show ()"
   ]
  },
  {
   "cell_type": "markdown",
   "metadata": {},
   "source": [
    "As we can see no entry for informational offers presented within completed offers."
   ]
  },
  {
   "cell_type": "markdown",
   "metadata": {},
   "source": [
    "### Data cleaning and transformation so to find transactions affected by offers (transactions done as a result of offers influence)"
   ]
  },
  {
   "cell_type": "markdown",
   "metadata": {},
   "source": [
    "**Tricky case with data cleaning for affected transactions and the way it can be solved**  \n",
    "It appears that a person may receive different offers simulatenesly, both offers can be viewed by a customer and if a transaction will happen when both offers were viewed and within timeline of them, then we should decide which offer actually led to the transaction.  As there is no clear direction from the dataset or background info I have assummed that the latest offer, closest in time to the transaction would be counted as an offer affected the transaction. In case one of the offers is informational and the second one gives reward then rewarding offer should prevail as I have assummed that customers would be more attracted by rewards as informational offers are not giving any additional benefits. \n"
   ]
  },
  {
   "cell_type": "code",
   "execution_count": 178,
   "metadata": {
    "scrolled": false
   },
   "outputs": [
    {
     "data": {
      "text/html": [
       "<div>\n",
       "<style scoped>\n",
       "    .dataframe tbody tr th:only-of-type {\n",
       "        vertical-align: middle;\n",
       "    }\n",
       "\n",
       "    .dataframe tbody tr th {\n",
       "        vertical-align: top;\n",
       "    }\n",
       "\n",
       "    .dataframe thead th {\n",
       "        text-align: right;\n",
       "    }\n",
       "</style>\n",
       "<table border=\"1\" class=\"dataframe\">\n",
       "  <thead>\n",
       "    <tr style=\"text-align: right;\">\n",
       "      <th></th>\n",
       "      <th>event</th>\n",
       "      <th>person</th>\n",
       "      <th>time</th>\n",
       "      <th>offer_id</th>\n",
       "      <th>amount</th>\n",
       "      <th>reward_received</th>\n",
       "      <th>channels</th>\n",
       "      <th>difficulty</th>\n",
       "      <th>duration</th>\n",
       "      <th>offer_type</th>\n",
       "      <th>reward</th>\n",
       "      <th>subtype</th>\n",
       "      <th>time_days</th>\n",
       "      <th>age</th>\n",
       "      <th>became_member_on</th>\n",
       "      <th>gender</th>\n",
       "      <th>income</th>\n",
       "    </tr>\n",
       "  </thead>\n",
       "  <tbody>\n",
       "    <tr>\n",
       "      <th>207877</th>\n",
       "      <td>offer received</td>\n",
       "      <td>24115a61df25473e84a8a03f3c98de1a</td>\n",
       "      <td>504</td>\n",
       "      <td>ae264e3637204a6fb9bb56bc8210ddfd</td>\n",
       "      <td>NaN</td>\n",
       "      <td>NaN</td>\n",
       "      <td>[email, mobile, social]</td>\n",
       "      <td>10.0</td>\n",
       "      <td>7.0</td>\n",
       "      <td>bogo</td>\n",
       "      <td>10.0</td>\n",
       "      <td>bogo_7_10</td>\n",
       "      <td>21.00</td>\n",
       "      <td>54</td>\n",
       "      <td>2018-05-23</td>\n",
       "      <td>M</td>\n",
       "      <td>39000.0</td>\n",
       "    </tr>\n",
       "    <tr>\n",
       "      <th>243312</th>\n",
       "      <td>offer viewed</td>\n",
       "      <td>24115a61df25473e84a8a03f3c98de1a</td>\n",
       "      <td>570</td>\n",
       "      <td>ae264e3637204a6fb9bb56bc8210ddfd</td>\n",
       "      <td>NaN</td>\n",
       "      <td>NaN</td>\n",
       "      <td>[email, mobile, social]</td>\n",
       "      <td>10.0</td>\n",
       "      <td>7.0</td>\n",
       "      <td>bogo</td>\n",
       "      <td>10.0</td>\n",
       "      <td>bogo_7_10</td>\n",
       "      <td>23.75</td>\n",
       "      <td>54</td>\n",
       "      <td>2018-05-23</td>\n",
       "      <td>M</td>\n",
       "      <td>39000.0</td>\n",
       "    </tr>\n",
       "    <tr>\n",
       "      <th>251425</th>\n",
       "      <td>offer received</td>\n",
       "      <td>24115a61df25473e84a8a03f3c98de1a</td>\n",
       "      <td>576</td>\n",
       "      <td>fafdcd668e3743c1bb461111dcafc2a4</td>\n",
       "      <td>NaN</td>\n",
       "      <td>NaN</td>\n",
       "      <td>[web, email, mobile, social]</td>\n",
       "      <td>10.0</td>\n",
       "      <td>10.0</td>\n",
       "      <td>discount</td>\n",
       "      <td>2.0</td>\n",
       "      <td>discount_10_10</td>\n",
       "      <td>24.00</td>\n",
       "      <td>54</td>\n",
       "      <td>2018-05-23</td>\n",
       "      <td>M</td>\n",
       "      <td>39000.0</td>\n",
       "    </tr>\n",
       "    <tr>\n",
       "      <th>265770</th>\n",
       "      <td>transaction</td>\n",
       "      <td>24115a61df25473e84a8a03f3c98de1a</td>\n",
       "      <td>588</td>\n",
       "      <td>NaN</td>\n",
       "      <td>8.92</td>\n",
       "      <td>NaN</td>\n",
       "      <td>NaN</td>\n",
       "      <td>NaN</td>\n",
       "      <td>NaN</td>\n",
       "      <td>NaN</td>\n",
       "      <td>NaN</td>\n",
       "      <td>NaN</td>\n",
       "      <td>24.50</td>\n",
       "      <td>54</td>\n",
       "      <td>2018-05-23</td>\n",
       "      <td>M</td>\n",
       "      <td>39000.0</td>\n",
       "    </tr>\n",
       "    <tr>\n",
       "      <th>274653</th>\n",
       "      <td>offer viewed</td>\n",
       "      <td>24115a61df25473e84a8a03f3c98de1a</td>\n",
       "      <td>606</td>\n",
       "      <td>fafdcd668e3743c1bb461111dcafc2a4</td>\n",
       "      <td>NaN</td>\n",
       "      <td>NaN</td>\n",
       "      <td>[web, email, mobile, social]</td>\n",
       "      <td>10.0</td>\n",
       "      <td>10.0</td>\n",
       "      <td>discount</td>\n",
       "      <td>2.0</td>\n",
       "      <td>discount_10_10</td>\n",
       "      <td>25.25</td>\n",
       "      <td>54</td>\n",
       "      <td>2018-05-23</td>\n",
       "      <td>M</td>\n",
       "      <td>39000.0</td>\n",
       "    </tr>\n",
       "    <tr>\n",
       "      <th>274654</th>\n",
       "      <td>transaction</td>\n",
       "      <td>24115a61df25473e84a8a03f3c98de1a</td>\n",
       "      <td>606</td>\n",
       "      <td>NaN</td>\n",
       "      <td>14.49</td>\n",
       "      <td>NaN</td>\n",
       "      <td>NaN</td>\n",
       "      <td>NaN</td>\n",
       "      <td>NaN</td>\n",
       "      <td>NaN</td>\n",
       "      <td>NaN</td>\n",
       "      <td>NaN</td>\n",
       "      <td>25.25</td>\n",
       "      <td>54</td>\n",
       "      <td>2018-05-23</td>\n",
       "      <td>M</td>\n",
       "      <td>39000.0</td>\n",
       "    </tr>\n",
       "    <tr>\n",
       "      <th>274655</th>\n",
       "      <td>offer completed</td>\n",
       "      <td>24115a61df25473e84a8a03f3c98de1a</td>\n",
       "      <td>606</td>\n",
       "      <td>ae264e3637204a6fb9bb56bc8210ddfd</td>\n",
       "      <td>NaN</td>\n",
       "      <td>10.0</td>\n",
       "      <td>[email, mobile, social]</td>\n",
       "      <td>10.0</td>\n",
       "      <td>7.0</td>\n",
       "      <td>bogo</td>\n",
       "      <td>10.0</td>\n",
       "      <td>bogo_7_10</td>\n",
       "      <td>25.25</td>\n",
       "      <td>54</td>\n",
       "      <td>2018-05-23</td>\n",
       "      <td>M</td>\n",
       "      <td>39000.0</td>\n",
       "    </tr>\n",
       "    <tr>\n",
       "      <th>274656</th>\n",
       "      <td>offer completed</td>\n",
       "      <td>24115a61df25473e84a8a03f3c98de1a</td>\n",
       "      <td>606</td>\n",
       "      <td>fafdcd668e3743c1bb461111dcafc2a4</td>\n",
       "      <td>NaN</td>\n",
       "      <td>2.0</td>\n",
       "      <td>[web, email, mobile, social]</td>\n",
       "      <td>10.0</td>\n",
       "      <td>10.0</td>\n",
       "      <td>discount</td>\n",
       "      <td>2.0</td>\n",
       "      <td>discount_10_10</td>\n",
       "      <td>25.25</td>\n",
       "      <td>54</td>\n",
       "      <td>2018-05-23</td>\n",
       "      <td>M</td>\n",
       "      <td>39000.0</td>\n",
       "    </tr>\n",
       "    <tr>\n",
       "      <th>284056</th>\n",
       "      <td>transaction</td>\n",
       "      <td>24115a61df25473e84a8a03f3c98de1a</td>\n",
       "      <td>630</td>\n",
       "      <td>NaN</td>\n",
       "      <td>6.77</td>\n",
       "      <td>NaN</td>\n",
       "      <td>NaN</td>\n",
       "      <td>NaN</td>\n",
       "      <td>NaN</td>\n",
       "      <td>NaN</td>\n",
       "      <td>NaN</td>\n",
       "      <td>NaN</td>\n",
       "      <td>26.25</td>\n",
       "      <td>54</td>\n",
       "      <td>2018-05-23</td>\n",
       "      <td>M</td>\n",
       "      <td>39000.0</td>\n",
       "    </tr>\n",
       "    <tr>\n",
       "      <th>301979</th>\n",
       "      <td>transaction</td>\n",
       "      <td>24115a61df25473e84a8a03f3c98de1a</td>\n",
       "      <td>696</td>\n",
       "      <td>NaN</td>\n",
       "      <td>11.74</td>\n",
       "      <td>NaN</td>\n",
       "      <td>NaN</td>\n",
       "      <td>NaN</td>\n",
       "      <td>NaN</td>\n",
       "      <td>NaN</td>\n",
       "      <td>NaN</td>\n",
       "      <td>NaN</td>\n",
       "      <td>29.00</td>\n",
       "      <td>54</td>\n",
       "      <td>2018-05-23</td>\n",
       "      <td>M</td>\n",
       "      <td>39000.0</td>\n",
       "    </tr>\n",
       "  </tbody>\n",
       "</table>\n",
       "</div>"
      ],
      "text/plain": [
       "                  event                            person  time  \\\n",
       "207877   offer received  24115a61df25473e84a8a03f3c98de1a   504   \n",
       "243312     offer viewed  24115a61df25473e84a8a03f3c98de1a   570   \n",
       "251425   offer received  24115a61df25473e84a8a03f3c98de1a   576   \n",
       "265770      transaction  24115a61df25473e84a8a03f3c98de1a   588   \n",
       "274653     offer viewed  24115a61df25473e84a8a03f3c98de1a   606   \n",
       "274654      transaction  24115a61df25473e84a8a03f3c98de1a   606   \n",
       "274655  offer completed  24115a61df25473e84a8a03f3c98de1a   606   \n",
       "274656  offer completed  24115a61df25473e84a8a03f3c98de1a   606   \n",
       "284056      transaction  24115a61df25473e84a8a03f3c98de1a   630   \n",
       "301979      transaction  24115a61df25473e84a8a03f3c98de1a   696   \n",
       "\n",
       "                                offer_id  amount  reward_received  \\\n",
       "207877  ae264e3637204a6fb9bb56bc8210ddfd     NaN              NaN   \n",
       "243312  ae264e3637204a6fb9bb56bc8210ddfd     NaN              NaN   \n",
       "251425  fafdcd668e3743c1bb461111dcafc2a4     NaN              NaN   \n",
       "265770                               NaN    8.92              NaN   \n",
       "274653  fafdcd668e3743c1bb461111dcafc2a4     NaN              NaN   \n",
       "274654                               NaN   14.49              NaN   \n",
       "274655  ae264e3637204a6fb9bb56bc8210ddfd     NaN             10.0   \n",
       "274656  fafdcd668e3743c1bb461111dcafc2a4     NaN              2.0   \n",
       "284056                               NaN    6.77              NaN   \n",
       "301979                               NaN   11.74              NaN   \n",
       "\n",
       "                            channels  difficulty  duration offer_type  reward  \\\n",
       "207877       [email, mobile, social]        10.0       7.0       bogo    10.0   \n",
       "243312       [email, mobile, social]        10.0       7.0       bogo    10.0   \n",
       "251425  [web, email, mobile, social]        10.0      10.0   discount     2.0   \n",
       "265770                           NaN         NaN       NaN        NaN     NaN   \n",
       "274653  [web, email, mobile, social]        10.0      10.0   discount     2.0   \n",
       "274654                           NaN         NaN       NaN        NaN     NaN   \n",
       "274655       [email, mobile, social]        10.0       7.0       bogo    10.0   \n",
       "274656  [web, email, mobile, social]        10.0      10.0   discount     2.0   \n",
       "284056                           NaN         NaN       NaN        NaN     NaN   \n",
       "301979                           NaN         NaN       NaN        NaN     NaN   \n",
       "\n",
       "               subtype  time_days  age became_member_on gender   income  \n",
       "207877       bogo_7_10      21.00   54       2018-05-23      M  39000.0  \n",
       "243312       bogo_7_10      23.75   54       2018-05-23      M  39000.0  \n",
       "251425  discount_10_10      24.00   54       2018-05-23      M  39000.0  \n",
       "265770             NaN      24.50   54       2018-05-23      M  39000.0  \n",
       "274653  discount_10_10      25.25   54       2018-05-23      M  39000.0  \n",
       "274654             NaN      25.25   54       2018-05-23      M  39000.0  \n",
       "274655       bogo_7_10      25.25   54       2018-05-23      M  39000.0  \n",
       "274656  discount_10_10      25.25   54       2018-05-23      M  39000.0  \n",
       "284056             NaN      26.25   54       2018-05-23      M  39000.0  \n",
       "301979             NaN      29.00   54       2018-05-23      M  39000.0  "
      ]
     },
     "execution_count": 178,
     "metadata": {},
     "output_type": "execute_result"
    }
   ],
   "source": [
    "#Example of such case \n",
    "df [df ['person'] == '24115a61df25473e84a8a03f3c98de1a'].tail (n=10)"
   ]
  },
  {
   "cell_type": "markdown",
   "metadata": {},
   "source": [
    "****\n",
    "Function takes about an hour to complete running through all the viewed offers. Uncomment below to run it"
   ]
  },
  {
   "cell_type": "code",
   "execution_count": 179,
   "metadata": {},
   "outputs": [],
   "source": [
    "#trans_affected = trans_affected_func (df)\n",
    "#trans_affected.to_csv ('trans_aff.csv')"
   ]
  },
  {
   "cell_type": "code",
   "execution_count": 180,
   "metadata": {},
   "outputs": [],
   "source": [
    "trans_affect = pd.read_csv ('trans_aff.csv')\n",
    "trans_affect.set_index (keys = 'Unnamed: 0', drop = True, inplace = True)"
   ]
  },
  {
   "cell_type": "markdown",
   "metadata": {},
   "source": [
    "## перенести отсюда вниз\n",
    "Investigating **special group of customers marked as 'S'** gender above."
   ]
  },
  {
   "cell_type": "code",
   "execution_count": 181,
   "metadata": {},
   "outputs": [
    {
     "data": {
      "image/png": "[encoded data removed]",
      "text/plain": [
       "<Figure size 720x288 with 2 Axes>"
      ]
     },
     "metadata": {},
     "output_type": "display_data"
    }
   ],
   "source": [
    "#plotting offer distribution \n",
    "fig, axes = plt.subplots(nrows=1, ncols=2, figsize = (10,4))\n",
    "ax1=axes[0]\n",
    "ax2=axes[1]\n",
    "df [df ['event'] =='offer received'].offer_type.value_counts().plot(kind='bar', ax=ax1)\n",
    "ax1.set_xticklabels(ax1.get_xticklabels(), rotation=0)\n",
    "ax1.set_title('Number of offer types received by all customers')\n",
    "ax1.set_ylabel('Count')\n",
    "\n",
    "df [(df ['event'] =='offer received')&(df ['gender'] =='S')].offer_type.value_counts().plot(kind='bar', ax=ax2)\n",
    "ax2.set_xticklabels(ax2.get_xticklabels(), rotation=0)\n",
    "ax2.set_title('Number of offer types received by special group of customers')\n",
    "ax2.set_ylabel('Count')\n",
    "\n",
    "plt.show ()"
   ]
  },
  {
   "cell_type": "markdown",
   "metadata": {},
   "source": [
    "The proportions are looking similar. It means that that the algorithm sends offers without distinguishing this group."
   ]
  },
  {
   "cell_type": "code",
   "execution_count": 182,
   "metadata": {},
   "outputs": [
    {
     "data": {
      "image/png": "[encoded data removed]",
      "text/plain": [
       "<Figure size 864x288 with 2 Axes>"
      ]
     },
     "metadata": {},
     "output_type": "display_data"
    }
   ],
   "source": [
    "#let's visualize distribution of offer types that affected transactions\n",
    "\n",
    "#plotting offer distribution \n",
    "fig, axes = plt.subplots(nrows=1, ncols=2, figsize = (12,4))\n",
    "ax1=axes[0]\n",
    "ax2=axes[1]\n",
    "trans_affect.offer_type.value_counts().plot(kind='bar', ax=ax1)\n",
    "ax1.set_xticklabels(ax1.get_xticklabels(), rotation=0)\n",
    "ax1.set_title('Offer types within affected transactions - all customers')\n",
    "ax1.set_ylabel('Count')\n",
    "\n",
    "trans_affect [trans_affect ['gender']=='S'].offer_type.value_counts().plot(kind='bar', ax=ax2)\n",
    "ax2.set_xticklabels(ax2.get_xticklabels(), rotation=0)\n",
    "ax2.set_title('Offer types within affected transactions for special group')\n",
    "ax2.set_ylabel('Count')\n",
    "\n",
    "plt.show ()\n"
   ]
  },
  {
   "cell_type": "markdown",
   "metadata": {},
   "source": [
    "When it comes to the transactions, it appears that special group is more affected by informational offers rather than bogo comparing to the overall population. Discount offers on the first place for both of them."
   ]
  },
  {
   "cell_type": "code",
   "execution_count": 183,
   "metadata": {},
   "outputs": [
    {
     "data": {
      "image/png": "[encoded data removed]",
      "text/plain": [
       "<Figure size 864x288 with 2 Axes>"
      ]
     },
     "metadata": {},
     "output_type": "display_data"
    }
   ],
   "source": [
    "#let's verify amount spent by consumers within each offer type. \n",
    "\n",
    "fig, axes = plt.subplots(nrows=1, ncols=2, figsize = (12,4))\n",
    "ax1=axes[0]\n",
    "ax2=axes[1]\n",
    "\n",
    "trans_affect.groupby('offer_type')['amount'].sum().plot(kind='bar', ax=ax1)\n",
    "ax1.set_xticklabels(ax1.get_xticklabels(), rotation=0)\n",
    "ax1.set_title('Overall amount spent by all customers')\n",
    "ax1.set_ylabel('Count')\n",
    "\n",
    "trans_affect [trans_affect ['gender']=='S'].groupby('offer_type')['amount'].sum().plot(kind='bar', ax=ax2)\n",
    "ax2.set_xticklabels(ax2.get_xticklabels(), rotation=0)\n",
    "ax2.set_title('Overall amount spent by special group of customers')\n",
    "ax2.set_ylabel('Count')\n",
    "\n",
    "plt.show ()"
   ]
  },
  {
   "cell_type": "code",
   "execution_count": 184,
   "metadata": {},
   "outputs": [
    {
     "data": {
      "text/plain": [
       "offer_type\n",
       "bogo             236669.26\n",
       "discount         249679.39\n",
       "informational    125797.34\n",
       "Name: amount, dtype: float64"
      ]
     },
     "execution_count": 184,
     "metadata": {},
     "output_type": "execute_result"
    }
   ],
   "source": [
    "trans_affect.groupby('offer_type')['amount']. sum ()"
   ]
  },
  {
   "cell_type": "markdown",
   "metadata": {},
   "source": [
    "Amount spent is different for special group, this can be explained by the fact of bogo less popularity for S group, less number of transactions and less money spent. What is intresting here is that although number of transactions for bogo is noticeably lower than discount, the overall amount for bogo and discount are pretty close to each other. Details for amount consumed for each subtype within offers can be found below. "
   ]
  },
  {
   "cell_type": "markdown",
   "metadata": {},
   "source": [
    "#### Conclusion for special group. \n",
    "\n",
    "What we can see from above diagrams is that this special group differs in behavior from the general customers community. They are more instrested in discount and informational offers.  "
   ]
  },
  {
   "cell_type": "markdown",
   "metadata": {},
   "source": [
    "#### Now that we have transactions affected by offers marked - let's look deeper into the customer behavior patterns"
   ]
  },
  {
   "cell_type": "code",
   "execution_count": 185,
   "metadata": {},
   "outputs": [
    {
     "data": {
      "image/png": "[encoded data removed]",
      "text/plain": [
       "<Figure size 576x288 with 1 Axes>"
      ]
     },
     "metadata": {},
     "output_type": "display_data"
    }
   ],
   "source": [
    "#let's verify amount spent by consumers within each offer type adding 'no offer' for transactions done independently from promos. \n",
    "trans_affect_tmp = trans_affect.copy ()\n",
    "# replacing na values in offer type with No offer \n",
    "trans_affect_tmp[\"offer_type\"].fillna('No offer', inplace = True) \n",
    "\n",
    "fig, ax = plt.subplots(figsize = (8,4))\n",
    "trans_affect_tmp.groupby('offer_type')['amount']. sum ().plot(kind='bar', ax=ax)\n",
    "ax.set_xticklabels(ax.get_xticklabels(), rotation=0)\n",
    "ax.set_title('Overall picture of amount spent')\n",
    "ax.set_ylabel('Count')\n",
    "plt.show ()"
   ]
  },
  {
   "cell_type": "code",
   "execution_count": 186,
   "metadata": {},
   "outputs": [
    {
     "data": {
      "text/plain": [
       "offer_type\n",
       "No offer         1163305.98\n",
       "bogo              236669.26\n",
       "discount          249679.39\n",
       "informational     125797.34\n",
       "Name: amount, dtype: float64"
      ]
     },
     "execution_count": 186,
     "metadata": {},
     "output_type": "execute_result"
    }
   ],
   "source": [
    "trans_affect_tmp.groupby('offer_type')['amount']. sum ()"
   ]
  },
  {
   "cell_type": "code",
   "execution_count": 187,
   "metadata": {},
   "outputs": [
    {
     "data": {
      "text/plain": [
       "offer_type\n",
       "No offer         65.521681\n",
       "bogo             13.330085\n",
       "discount         14.062864\n",
       "informational     7.085370\n",
       "Name: amount, dtype: float64"
      ]
     },
     "execution_count": 187,
     "metadata": {},
     "output_type": "execute_result"
    }
   ],
   "source": [
    "trans_affect_tmp.groupby('offer_type')['amount']. sum ()/trans_affect_tmp['amount']. sum ()*100"
   ]
  },
  {
   "cell_type": "markdown",
   "metadata": {},
   "source": [
    "**65%** of purchase inflows generated by transactions **not** related to any offer. Bogo and discount are giving relatively similar figures: 13.33 and 14.06% respectively. Informational is at most 7.08%. \n"
   ]
  },
  {
   "cell_type": "code",
   "execution_count": 188,
   "metadata": {},
   "outputs": [
    {
     "data": {
      "application/vnd.plotly.v1+json": {
       "config": {
        "linkText": "Export to plot.ly",
        "plotlyServerURL": "https://plot.ly",
        "showLink": false
       },
       "data": [
        {
         "marker": {
          "color": "rgb(158,202,225)",
          "line": {
           "color": "rgb(8,48,107)",
           "width": 1.5
          }
         },
         "name": "Offer received",
         "opacity": 0.6,
         "orientation": "h",
         "text": [
          30499,
          30543,
          15235
         ],
         "textposition": "auto",
         "type": "bar",
         "uid": "0f727821-0e0f-4e17-8817-274ff556e889",
         "x": [
          30499,
          30543,
          15235
         ],
         "y": [
          "bogo",
          "discount",
          "informational"
         ]
        },
        {
         "marker": {
          "color": "rgb(0,100,0)",
          "line": {
           "color": "rgb(8,48,107)",
           "width": 1.5
          }
         },
         "name": "Offer viewed",
         "opacity": 0.6,
         "orientation": "h",
         "text": [
          25449,
          21445,
          10831
         ],
         "textposition": "auto",
         "type": "bar",
         "uid": "e3802378-ef7e-4235-a40b-cfbd5d3bb58b",
         "x": [
          25449,
          21445,
          10831
         ],
         "y": [
          "bogo",
          "discount",
          "informational"
         ]
        },
        {
         "marker": {
          "color": "rgb(255,215,0)",
          "line": {
           "color": "rgb(8,48,107)",
           "width": 1.5
          }
         },
         "name": "Offer completed",
         "opacity": 0.6,
         "orientation": "h",
         "text": [
          15669,
          17910
         ],
         "textposition": "auto",
         "type": "bar",
         "uid": "ac4ced72-0b6b-4cd2-bdf1-43ab46623226",
         "x": [
          15669,
          17910
         ],
         "y": [
          "bogo",
          "discount",
          "informational"
         ]
        },
        {
         "marker": {
          "color": "rgb(178, 0, 0)",
          "line": {
           "color": "rgb(8,48,107)",
           "width": 1.5
          }
         },
         "name": "Number of transactions affected by the offer",
         "opacity": 0.6,
         "orientation": "h",
         "text": [
          13192,
          19086,
          10038
         ],
         "textposition": "auto",
         "type": "bar",
         "uid": "24087849-486e-4ffc-adba-7477408e9e5a",
         "x": [
          13192,
          19086,
          10038
         ],
         "y": [
          "bogo",
          "discount",
          "informational"
         ]
        }
       ],
       "layout": {}
      },
      "text/html": [
       "<div id=\"7d2e8497-a259-49aa-8864-a6c320531ba9\" style=\"height: 525px; width: 100%;\" class=\"plotly-graph-div\"></div><script type=\"text/javascript\">require([\"plotly\"], function(Plotly) { window.PLOTLYENV=window.PLOTLYENV || {};window.PLOTLYENV.BASE_URL=\"https://plot.ly\";Plotly.newPlot(\"7d2e8497-a259-49aa-8864-a6c320531ba9\", [{\"marker\": {\"color\": \"rgb(158,202,225)\", \"line\": {\"color\": \"rgb(8,48,107)\", \"width\": 1.5}}, \"name\": \"Offer received\", \"opacity\": 0.6, \"orientation\": \"h\", \"text\": [30499.0, 30543.0, 15235.0], \"textposition\": \"auto\", \"x\": [30499, 30543, 15235], \"y\": [\"bogo\", \"discount\", \"informational\"], \"type\": \"bar\", \"uid\": \"fdd32d1a-7393-48ee-8db4-c0ef5080ba45\"}, {\"marker\": {\"color\": \"rgb(0,100,0)\", \"line\": {\"color\": \"rgb(8,48,107)\", \"width\": 1.5}}, \"name\": \"Offer viewed\", \"opacity\": 0.6, \"orientation\": \"h\", \"text\": [25449.0, 21445.0, 10831.0], \"textposition\": \"auto\", \"x\": [25449, 21445, 10831], \"y\": [\"bogo\", \"discount\", \"informational\"], \"type\": \"bar\", \"uid\": \"afb27901-ad5c-49cf-af24-d2b598af7017\"}, {\"marker\": {\"color\": \"rgb(255,215,0)\", \"line\": {\"color\": \"rgb(8,48,107)\", \"width\": 1.5}}, \"name\": \"Offer completed\", \"opacity\": 0.6, \"orientation\": \"h\", \"text\": [15669.0, 17910.0], \"textposition\": \"auto\", \"x\": [15669, 17910], \"y\": [\"bogo\", \"discount\", \"informational\"], \"type\": \"bar\", \"uid\": \"f5b821e4-9912-43d7-8e96-330ecec905a0\"}, {\"marker\": {\"color\": \"rgb(178, 0, 0)\", \"line\": {\"color\": \"rgb(8,48,107)\", \"width\": 1.5}}, \"name\": \"Number of transactions affected by the offer\", \"opacity\": 0.6, \"orientation\": \"h\", \"text\": [13192.0, 19086.0, 10038.0], \"textposition\": \"auto\", \"x\": [13192, 19086, 10038], \"y\": [\"bogo\", \"discount\", \"informational\"], \"type\": \"bar\", \"uid\": \"798c1021-989a-4e60-b67a-b6191b36f9fb\"}], {}, {\"showLink\": false, \"linkText\": \"Export to plot.ly\", \"plotlyServerURL\": \"https://plot.ly\"})});</script><script type=\"text/javascript\">window.addEventListener(\"resize\", function(){window._Plotly.Plots.resize(document.getElementById(\"7d2e8497-a259-49aa-8864-a6c320531ba9\"));});</script>"
      ],
      "text/vnd.plotly.v1+html": [
       "<div id=\"7d2e8497-a259-49aa-8864-a6c320531ba9\" style=\"height: 525px; width: 100%;\" class=\"plotly-graph-div\"></div><script type=\"text/javascript\">require([\"plotly\"], function(Plotly) { window.PLOTLYENV=window.PLOTLYENV || {};window.PLOTLYENV.BASE_URL=\"https://plot.ly\";Plotly.newPlot(\"7d2e8497-a259-49aa-8864-a6c320531ba9\", [{\"marker\": {\"color\": \"rgb(158,202,225)\", \"line\": {\"color\": \"rgb(8,48,107)\", \"width\": 1.5}}, \"name\": \"Offer received\", \"opacity\": 0.6, \"orientation\": \"h\", \"text\": [30499.0, 30543.0, 15235.0], \"textposition\": \"auto\", \"x\": [30499, 30543, 15235], \"y\": [\"bogo\", \"discount\", \"informational\"], \"type\": \"bar\", \"uid\": \"fdd32d1a-7393-48ee-8db4-c0ef5080ba45\"}, {\"marker\": {\"color\": \"rgb(0,100,0)\", \"line\": {\"color\": \"rgb(8,48,107)\", \"width\": 1.5}}, \"name\": \"Offer viewed\", \"opacity\": 0.6, \"orientation\": \"h\", \"text\": [25449.0, 21445.0, 10831.0], \"textposition\": \"auto\", \"x\": [25449, 21445, 10831], \"y\": [\"bogo\", \"discount\", \"informational\"], \"type\": \"bar\", \"uid\": \"afb27901-ad5c-49cf-af24-d2b598af7017\"}, {\"marker\": {\"color\": \"rgb(255,215,0)\", \"line\": {\"color\": \"rgb(8,48,107)\", \"width\": 1.5}}, \"name\": \"Offer completed\", \"opacity\": 0.6, \"orientation\": \"h\", \"text\": [15669.0, 17910.0], \"textposition\": \"auto\", \"x\": [15669, 17910], \"y\": [\"bogo\", \"discount\", \"informational\"], \"type\": \"bar\", \"uid\": \"f5b821e4-9912-43d7-8e96-330ecec905a0\"}, {\"marker\": {\"color\": \"rgb(178, 0, 0)\", \"line\": {\"color\": \"rgb(8,48,107)\", \"width\": 1.5}}, \"name\": \"Number of transactions affected by the offer\", \"opacity\": 0.6, \"orientation\": \"h\", \"text\": [13192.0, 19086.0, 10038.0], \"textposition\": \"auto\", \"x\": [13192, 19086, 10038], \"y\": [\"bogo\", \"discount\", \"informational\"], \"type\": \"bar\", \"uid\": \"798c1021-989a-4e60-b67a-b6191b36f9fb\"}], {}, {\"showLink\": false, \"linkText\": \"Export to plot.ly\", \"plotlyServerURL\": \"https://plot.ly\"})});</script><script type=\"text/javascript\">window.addEventListener(\"resize\", function(){window._Plotly.Plots.resize(document.getElementById(\"7d2e8497-a259-49aa-8864-a6c320531ba9\"));});</script>"
      ]
     },
     "metadata": {},
     "output_type": "display_data"
    }
   ],
   "source": [
    "#plotting distribution of offers and the affected transactions  \n",
    "y = df [df ['event'] =='offer received'].offer_type.value_counts().index.sort_values() #offer types\n",
    "\n",
    "x1 = df [df ['event'] =='offer received'].offer_type.value_counts().sort_index()\n",
    "x2= df [df ['event'] =='offer viewed'].offer_type.value_counts().sort_index()\n",
    "x3= df [df ['event'] =='offer completed'].offer_type.value_counts().sort_index()\n",
    "x4= trans_affect.offer_type.value_counts().sort_index()\n",
    "\n",
    "off_rec = go.Bar(\n",
    "    x=x1,\n",
    "    y=y,\n",
    "    text= x1,\n",
    "    name = 'Offer received',\n",
    "    textposition = 'auto',\n",
    "    marker=dict(\n",
    "        color='rgb(158,202,225)',\n",
    "        line=dict(\n",
    "            color='rgb(8,48,107)',\n",
    "            width=1.5),\n",
    "        ),\n",
    "    opacity=0.6, orientation = 'h'\n",
    ")\n",
    "off_view = go.Bar(\n",
    "    x=x2,\n",
    "    y=y,\n",
    "    text=x2,\n",
    "    name = 'Offer viewed',\n",
    "    textposition = 'auto',\n",
    "    marker=dict(\n",
    "        color='rgb(0,100,0)',\n",
    "        line=dict(\n",
    "            color='rgb(8,48,107)',\n",
    "            width=1.5),\n",
    "        ),\n",
    "    opacity=0.6, orientation = 'h'\n",
    ")\n",
    "off_compl = go.Bar(\n",
    "    x=x3,\n",
    "    y=y,\n",
    "    text=x3,\n",
    "    name = 'Offer completed',\n",
    "    textposition = 'auto',\n",
    "    marker=dict(\n",
    "        color='rgb(255,215,0)',\n",
    "        line=dict(\n",
    "            color='rgb(8,48,107)',\n",
    "            width=1.5),\n",
    "        ),\n",
    "    opacity=0.6, orientation = 'h'\n",
    ")\n",
    "trans = go.Bar(\n",
    "    x=x4,\n",
    "    y=y,\n",
    "    text=x4,\n",
    "    name = 'Number of transactions affected by the offer',\n",
    "    textposition = 'auto',\n",
    "    marker=dict(\n",
    "        color='rgb(178, 0, 0)',\n",
    "        line=dict(\n",
    "            color='rgb(8,48,107)',\n",
    "            width=1.5),\n",
    "        ),\n",
    "    opacity=0.6, orientation = 'h'\n",
    ")\n",
    "data = [off_rec, off_view, off_compl, trans]\n",
    "py.iplot(data, filename='grouped-bar-direct-labels')\n"
   ]
  },
  {
   "cell_type": "markdown",
   "metadata": {},
   "source": [
    "***What kind of offers really excite people?***"
   ]
  },
  {
   "cell_type": "code",
   "execution_count": 189,
   "metadata": {},
   "outputs": [],
   "source": [
    "#plotting distribution of offers and the affected transactions within offer subtype  \n",
    "\n",
    "#adding new column \n",
    "trans_affect ['offer_subtype'] = trans_affect ['offer_id'].apply (define_subtype)"
   ]
  },
  {
   "cell_type": "code",
   "execution_count": 190,
   "metadata": {
    "scrolled": false
   },
   "outputs": [
    {
     "data": {
      "application/vnd.plotly.v1+json": {
       "config": {
        "linkText": "Export to plot.ly",
        "plotlyServerURL": "https://plot.ly",
        "showLink": false
       },
       "data": [
        {
         "marker": {
          "color": "rgb(158,202,225)",
          "line": {
           "color": "rgb(8,48,107)",
           "width": 1.5
          }
         },
         "name": "Offer received",
         "opacity": 0.6,
         "orientation": "h",
         "text": [
          7593,
          7571,
          7658,
          7677,
          7597,
          7668,
          7632,
          7646,
          7618,
          7617
         ],
         "textposition": "auto",
         "type": "bar",
         "uid": "6a798714-2644-44af-a72a-abcbb9e901e2",
         "x": [
          7593,
          7571,
          7658,
          7677,
          7597,
          7668,
          7632,
          7646,
          7618,
          7617
         ],
         "y": [
          "bogo_5_10",
          "bogo_5_5",
          "bogo_7_10",
          "bogo_7_5",
          "discount_10_10",
          "discount_10_20",
          "discount_7_10",
          "discount_7_7",
          "informational_3_0",
          "informational_4_0"
         ]
        },
        {
         "marker": {
          "color": "rgb(0,100,0)",
          "line": {
           "color": "rgb(8,48,107)",
           "width": 1.5
          }
         },
         "name": "Offer viewed",
         "opacity": 0.6,
         "orientation": "h",
         "text": [
          7298,
          7264,
          6716,
          4171,
          7327,
          2663,
          4118,
          7337,
          6687,
          4144
         ],
         "textposition": "auto",
         "type": "bar",
         "uid": "9d9b5591-2a38-412d-a437-e116e553d660",
         "x": [
          7298,
          7264,
          6716,
          4171,
          7327,
          2663,
          4118,
          7337,
          6687,
          4144
         ],
         "y": [
          "bogo_5_10",
          "bogo_5_5",
          "bogo_7_10",
          "bogo_7_5",
          "discount_10_10",
          "discount_10_20",
          "discount_7_10",
          "discount_7_7",
          "informational_3_0",
          "informational_4_0"
         ]
        },
        {
         "marker": {
          "color": "rgb(255,215,0)",
          "line": {
           "color": "rgb(8,48,107)",
           "width": 1.5
          }
         },
         "name": "Offer completed",
         "opacity": 0.6,
         "orientation": "h",
         "text": [
          3331,
          4296,
          3688,
          4354,
          5317,
          3420,
          4017,
          5156
         ],
         "textposition": "auto",
         "type": "bar",
         "uid": "16876e94-7423-4a72-ab2a-6f6a62847501",
         "x": [
          3331,
          4296,
          3688,
          4354,
          5317,
          3420,
          4017,
          5156
         ],
         "y": [
          "bogo_5_10",
          "bogo_5_5",
          "bogo_7_10",
          "bogo_7_5",
          "discount_10_10",
          "discount_10_20",
          "discount_7_10",
          "discount_7_7",
          "informational_3_0",
          "informational_4_0"
         ]
        },
        {
         "marker": {
          "color": "rgb(178, 0, 0)",
          "line": {
           "color": "rgb(8,48,107)",
           "width": 1.5
          }
         },
         "name": "Number of transactions affected by the offer",
         "opacity": 0.6,
         "orientation": "h",
         "text": [
          3226,
          4213,
          3275,
          2478,
          7975,
          2013,
          2763,
          6335,
          6223,
          3815
         ],
         "textposition": "auto",
         "type": "bar",
         "uid": "7bd9b814-fffe-42d0-a9bb-81b29e7f6743",
         "x": [
          3226,
          4213,
          3275,
          2478,
          7975,
          2013,
          2763,
          6335,
          6223,
          3815
         ],
         "y": [
          "bogo_5_10",
          "bogo_5_5",
          "bogo_7_10",
          "bogo_7_5",
          "discount_10_10",
          "discount_10_20",
          "discount_7_10",
          "discount_7_7",
          "informational_3_0",
          "informational_4_0"
         ]
        }
       ],
       "layout": {
        "autosize": true,
        "yaxis": {
         "automargin": true
        }
       }
      },
      "text/html": [
       "<div id=\"76b2f1ae-b484-442a-be2d-268ee1212d35\" style=\"height: 525px; width: 100%;\" class=\"plotly-graph-div\"></div><script type=\"text/javascript\">require([\"plotly\"], function(Plotly) { window.PLOTLYENV=window.PLOTLYENV || {};window.PLOTLYENV.BASE_URL=\"https://plot.ly\";Plotly.newPlot(\"76b2f1ae-b484-442a-be2d-268ee1212d35\", [{\"marker\": {\"color\": \"rgb(158,202,225)\", \"line\": {\"color\": \"rgb(8,48,107)\", \"width\": 1.5}}, \"name\": \"Offer received\", \"opacity\": 0.6, \"orientation\": \"h\", \"text\": [7593.0, 7571.0, 7658.0, 7677.0, 7597.0, 7668.0, 7632.0, 7646.0, 7618.0, 7617.0], \"textposition\": \"auto\", \"x\": [7593, 7571, 7658, 7677, 7597, 7668, 7632, 7646, 7618, 7617], \"y\": [\"bogo_5_10\", \"bogo_5_5\", \"bogo_7_10\", \"bogo_7_5\", \"discount_10_10\", \"discount_10_20\", \"discount_7_10\", \"discount_7_7\", \"informational_3_0\", \"informational_4_0\"], \"type\": \"bar\", \"uid\": \"6a798714-2644-44af-a72a-abcbb9e901e2\"}, {\"marker\": {\"color\": \"rgb(0,100,0)\", \"line\": {\"color\": \"rgb(8,48,107)\", \"width\": 1.5}}, \"name\": \"Offer viewed\", \"opacity\": 0.6, \"orientation\": \"h\", \"text\": [7298.0, 7264.0, 6716.0, 4171.0, 7327.0, 2663.0, 4118.0, 7337.0, 6687.0, 4144.0], \"textposition\": \"auto\", \"x\": [7298, 7264, 6716, 4171, 7327, 2663, 4118, 7337, 6687, 4144], \"y\": [\"bogo_5_10\", \"bogo_5_5\", \"bogo_7_10\", \"bogo_7_5\", \"discount_10_10\", \"discount_10_20\", \"discount_7_10\", \"discount_7_7\", \"informational_3_0\", \"informational_4_0\"], \"type\": \"bar\", \"uid\": \"9d9b5591-2a38-412d-a437-e116e553d660\"}, {\"marker\": {\"color\": \"rgb(255,215,0)\", \"line\": {\"color\": \"rgb(8,48,107)\", \"width\": 1.5}}, \"name\": \"Offer completed\", \"opacity\": 0.6, \"orientation\": \"h\", \"text\": [3331.0, 4296.0, 3688.0, 4354.0, 5317.0, 3420.0, 4017.0, 5156.0], \"textposition\": \"auto\", \"x\": [3331, 4296, 3688, 4354, 5317, 3420, 4017, 5156], \"y\": [\"bogo_5_10\", \"bogo_5_5\", \"bogo_7_10\", \"bogo_7_5\", \"discount_10_10\", \"discount_10_20\", \"discount_7_10\", \"discount_7_7\", \"informational_3_0\", \"informational_4_0\"], \"type\": \"bar\", \"uid\": \"16876e94-7423-4a72-ab2a-6f6a62847501\"}, {\"marker\": {\"color\": \"rgb(178, 0, 0)\", \"line\": {\"color\": \"rgb(8,48,107)\", \"width\": 1.5}}, \"name\": \"Number of transactions affected by the offer\", \"opacity\": 0.6, \"orientation\": \"h\", \"text\": [3226.0, 4213.0, 3275.0, 2478.0, 7975.0, 2013.0, 2763.0, 6335.0, 6223.0, 3815.0], \"textposition\": \"auto\", \"x\": [3226, 4213, 3275, 2478, 7975, 2013, 2763, 6335, 6223, 3815], \"y\": [\"bogo_5_10\", \"bogo_5_5\", \"bogo_7_10\", \"bogo_7_5\", \"discount_10_10\", \"discount_10_20\", \"discount_7_10\", \"discount_7_7\", \"informational_3_0\", \"informational_4_0\"], \"type\": \"bar\", \"uid\": \"7bd9b814-fffe-42d0-a9bb-81b29e7f6743\"}], {\"autosize\": true, \"yaxis\": {\"automargin\": true}}, {\"showLink\": false, \"linkText\": \"Export to plot.ly\", \"plotlyServerURL\": \"https://plot.ly\"})});</script><script type=\"text/javascript\">window.addEventListener(\"resize\", function(){window._Plotly.Plots.resize(document.getElementById(\"76b2f1ae-b484-442a-be2d-268ee1212d35\"));});</script>"
      ],
      "text/vnd.plotly.v1+html": [
       "<div id=\"76b2f1ae-b484-442a-be2d-268ee1212d35\" style=\"height: 525px; width: 100%;\" class=\"plotly-graph-div\"></div><script type=\"text/javascript\">require([\"plotly\"], function(Plotly) { window.PLOTLYENV=window.PLOTLYENV || {};window.PLOTLYENV.BASE_URL=\"https://plot.ly\";Plotly.newPlot(\"76b2f1ae-b484-442a-be2d-268ee1212d35\", [{\"marker\": {\"color\": \"rgb(158,202,225)\", \"line\": {\"color\": \"rgb(8,48,107)\", \"width\": 1.5}}, \"name\": \"Offer received\", \"opacity\": 0.6, \"orientation\": \"h\", \"text\": [7593.0, 7571.0, 7658.0, 7677.0, 7597.0, 7668.0, 7632.0, 7646.0, 7618.0, 7617.0], \"textposition\": \"auto\", \"x\": [7593, 7571, 7658, 7677, 7597, 7668, 7632, 7646, 7618, 7617], \"y\": [\"bogo_5_10\", \"bogo_5_5\", \"bogo_7_10\", \"bogo_7_5\", \"discount_10_10\", \"discount_10_20\", \"discount_7_10\", \"discount_7_7\", \"informational_3_0\", \"informational_4_0\"], \"type\": \"bar\", \"uid\": \"6a798714-2644-44af-a72a-abcbb9e901e2\"}, {\"marker\": {\"color\": \"rgb(0,100,0)\", \"line\": {\"color\": \"rgb(8,48,107)\", \"width\": 1.5}}, \"name\": \"Offer viewed\", \"opacity\": 0.6, \"orientation\": \"h\", \"text\": [7298.0, 7264.0, 6716.0, 4171.0, 7327.0, 2663.0, 4118.0, 7337.0, 6687.0, 4144.0], \"textposition\": \"auto\", \"x\": [7298, 7264, 6716, 4171, 7327, 2663, 4118, 7337, 6687, 4144], \"y\": [\"bogo_5_10\", \"bogo_5_5\", \"bogo_7_10\", \"bogo_7_5\", \"discount_10_10\", \"discount_10_20\", \"discount_7_10\", \"discount_7_7\", \"informational_3_0\", \"informational_4_0\"], \"type\": \"bar\", \"uid\": \"9d9b5591-2a38-412d-a437-e116e553d660\"}, {\"marker\": {\"color\": \"rgb(255,215,0)\", \"line\": {\"color\": \"rgb(8,48,107)\", \"width\": 1.5}}, \"name\": \"Offer completed\", \"opacity\": 0.6, \"orientation\": \"h\", \"text\": [3331.0, 4296.0, 3688.0, 4354.0, 5317.0, 3420.0, 4017.0, 5156.0], \"textposition\": \"auto\", \"x\": [3331, 4296, 3688, 4354, 5317, 3420, 4017, 5156], \"y\": [\"bogo_5_10\", \"bogo_5_5\", \"bogo_7_10\", \"bogo_7_5\", \"discount_10_10\", \"discount_10_20\", \"discount_7_10\", \"discount_7_7\", \"informational_3_0\", \"informational_4_0\"], \"type\": \"bar\", \"uid\": \"16876e94-7423-4a72-ab2a-6f6a62847501\"}, {\"marker\": {\"color\": \"rgb(178, 0, 0)\", \"line\": {\"color\": \"rgb(8,48,107)\", \"width\": 1.5}}, \"name\": \"Number of transactions affected by the offer\", \"opacity\": 0.6, \"orientation\": \"h\", \"text\": [3226.0, 4213.0, 3275.0, 2478.0, 7975.0, 2013.0, 2763.0, 6335.0, 6223.0, 3815.0], \"textposition\": \"auto\", \"x\": [3226, 4213, 3275, 2478, 7975, 2013, 2763, 6335, 6223, 3815], \"y\": [\"bogo_5_10\", \"bogo_5_5\", \"bogo_7_10\", \"bogo_7_5\", \"discount_10_10\", \"discount_10_20\", \"discount_7_10\", \"discount_7_7\", \"informational_3_0\", \"informational_4_0\"], \"type\": \"bar\", \"uid\": \"7bd9b814-fffe-42d0-a9bb-81b29e7f6743\"}], {\"autosize\": true, \"yaxis\": {\"automargin\": true}}, {\"showLink\": false, \"linkText\": \"Export to plot.ly\", \"plotlyServerURL\": \"https://plot.ly\"})});</script><script type=\"text/javascript\">window.addEventListener(\"resize\", function(){window._Plotly.Plots.resize(document.getElementById(\"76b2f1ae-b484-442a-be2d-268ee1212d35\"));});</script>"
      ]
     },
     "metadata": {},
     "output_type": "display_data"
    }
   ],
   "source": [
    "#plotting distribution of offer subtypes and the number of affected transactions  \n",
    "y = df [df ['event'] =='offer received'].subtype.value_counts().index.sort_values()\n",
    "\n",
    "x1 = df [df ['event'] =='offer received'].subtype.value_counts().sort_index ()\n",
    "x2= df [df ['event'] =='offer viewed'].subtype.value_counts().sort_index ()\n",
    "x3= df [df ['event'] =='offer completed'].subtype.value_counts().sort_index ()\n",
    "x4= trans_affect.offer_subtype.value_counts().sort_index()\n",
    "\n",
    "off_rec = go.Bar(\n",
    "    x=x1,\n",
    "    y=y,\n",
    "    text= x1,\n",
    "    name = 'Offer received',\n",
    "    textposition = 'auto', \n",
    "    marker=dict(\n",
    "        color='rgb(158,202,225)',\n",
    "        line=dict(\n",
    "            color='rgb(8,48,107)',\n",
    "            width=1.5),\n",
    "        ),\n",
    "    opacity=0.6, orientation = 'h'\n",
    ")\n",
    "off_view = go.Bar(\n",
    "    x=x2,\n",
    "    y=y,\n",
    "    text=x2,\n",
    "    name = 'Offer viewed',\n",
    "    textposition = 'auto',\n",
    "    marker=dict(\n",
    "        color='rgb(0,100,0)',\n",
    "        line=dict(\n",
    "            color='rgb(8,48,107)',\n",
    "            width=1.5),\n",
    "        ),\n",
    "    opacity=0.6, orientation = 'h'\n",
    ")\n",
    "off_compl = go.Bar(\n",
    "    x=x3,\n",
    "    y=y,\n",
    "    text=x3,\n",
    "    name = 'Offer completed',\n",
    "    textposition = 'auto',\n",
    "    marker=dict(\n",
    "        color='rgb(255,215,0)',\n",
    "        line=dict(\n",
    "            color='rgb(8,48,107)',\n",
    "            width=1.5),\n",
    "        ),\n",
    "    opacity=0.6, orientation = 'h'\n",
    ")\n",
    "trans = go.Bar(\n",
    "    x=x4,\n",
    "    y=y,\n",
    "    text=x4,\n",
    "    name = 'Number of transactions affected by the offer',\n",
    "    textposition = 'auto',\n",
    "    marker=dict(\n",
    "        color='rgb(178, 0, 0)',\n",
    "        line=dict(\n",
    "            color='rgb(8,48,107)',\n",
    "            width=1.5),\n",
    "        ),\n",
    "    opacity=0.6, orientation = 'h'\n",
    ")\n",
    "data = [off_rec, off_view, off_compl, trans]\n",
    "layout = go.Layout(\n",
    "    autosize=True,\n",
    "    yaxis=go.layout.YAxis(\n",
    "        #title='Y-axis Title',\n",
    "        #ticktext=['Very long label','long label','3','label'],\n",
    "        #tickvals=[1, 2, 3, 4],\n",
    "        #tickmode='array',\n",
    "        automargin=True#,\n",
    "        #titlefont=dict(size=30),\n",
    "    )\n",
    "    #width=900,\n",
    "    #height=500,\n",
    "    )\n",
    "\n",
    "fig = go.Figure (data=data, layout=layout)\n",
    "py.iplot(fig, filename='grouped-bar-direct-labels')"
   ]
  },
  {
   "cell_type": "markdown",
   "metadata": {},
   "source": [
    "Diagrams reflect the fact that for some offers number of transactions greater than number of offer completed events, this happens since customers have to perform several transactions so to achieve offer completeness. For the case when number of transactions is less than number of completed offers this happens as customers may receive several offers at the same time and both of them might be completed by the same transactions, however only one offer will be marked as the one affected them.  \n",
    "So to verify that first option let's take a look to the mean and median values of amount spent within offer subtypes. "
   ]
  },
  {
   "cell_type": "code",
   "execution_count": 191,
   "metadata": {},
   "outputs": [
    {
     "data": {
      "text/plain": [
       "offer_subtype\n",
       "bogo_5_10            20.547182\n",
       "bogo_5_5             16.693620\n",
       "bogo_7_10            19.303056\n",
       "bogo_7_5             14.865343\n",
       "discount_10_10       11.370450\n",
       "discount_10_20       19.796339\n",
       "discount_7_10        15.543094\n",
       "discount_7_7         12.029116\n",
       "informational_3_0    11.377109\n",
       "informational_4_0    14.416144\n",
       "Name: amount, dtype: float64"
      ]
     },
     "execution_count": 191,
     "metadata": {},
     "output_type": "execute_result"
    }
   ],
   "source": [
    "trans_affect [trans_affect ['offer_type'] != 'No offer'].groupby ('offer_subtype') ['amount'].mean ()"
   ]
  },
  {
   "cell_type": "code",
   "execution_count": 192,
   "metadata": {},
   "outputs": [
    {
     "data": {
      "text/plain": [
       "offer_subtype\n",
       "bogo_5_10            16.440\n",
       "bogo_5_5             12.340\n",
       "bogo_7_10            15.160\n",
       "bogo_7_5             13.445\n",
       "discount_10_10        6.350\n",
       "discount_10_20       15.520\n",
       "discount_7_10        12.930\n",
       "discount_7_7          7.610\n",
       "informational_3_0     7.490\n",
       "informational_4_0    12.300\n",
       "Name: amount, dtype: float64"
      ]
     },
     "execution_count": 192,
     "metadata": {},
     "output_type": "execute_result"
    }
   ],
   "source": [
    "trans_affect [trans_affect ['offer_type'] != 'No offer'].groupby ('offer_subtype') ['amount'].median ()"
   ]
  },
  {
   "cell_type": "markdown",
   "metadata": {},
   "source": [
    "Discount_10_10 (valid for 10 days, difficulty 10) got the biggest number of transactions performed. If we look at mean value it is more than required (10) to complete the transaction, however meadian value (6.35) explains that half of operations for such offer done for an amount that is less than 10, accordingly persons will have to proceed with more transactuions to compelete offer. \n",
    "\n",
    "On the contrast if we look at discount_7_10 (valid for 7 days, difficulty 10) we can see that number of transactions less than completed which can be explained by higher value for median and mean figures. \n",
    "\n",
    "**Please note** that the correlation between completed offer and the exact trasanctions influenced by the offer is not 100% certain, so difference between number of transactions and the number of completed offers can be partially explained by this ambiguity.   "
   ]
  },
  {
   "cell_type": "markdown",
   "metadata": {},
   "source": [
    "\n",
    "**Verifying amount spent within each offer subtype**"
   ]
  },
  {
   "cell_type": "code",
   "execution_count": 193,
   "metadata": {},
   "outputs": [
    {
     "data": {
      "image/png": "[encoded data removed]",
      "text/plain": [
       "<Figure size 1152x360 with 1 Axes>"
      ]
     },
     "metadata": {},
     "output_type": "display_data"
    }
   ],
   "source": [
    "fig, ax = plt.subplots(figsize = (16,5))\n",
    "trans_affect.groupby('offer_subtype')['amount']. sum ().plot(kind='bar', ax=ax)\n",
    "ax.set_xticklabels(ax.get_xticklabels(), rotation=0)\n",
    "ax.set_title('Overall amount spent within each subtype')\n",
    "ax.set_ylabel('Count')\n",
    "plt.show ()"
   ]
  },
  {
   "cell_type": "code",
   "execution_count": 194,
   "metadata": {},
   "outputs": [
    {
     "data": {
      "image/png": "[encoded data removed]",
      "text/plain": [
       "<Figure size 1152x360 with 1 Axes>"
      ]
     },
     "metadata": {},
     "output_type": "display_data"
    }
   ],
   "source": [
    "fig, ax = plt.subplots(figsize = (16,5))\n",
    "trans_affect.groupby('offer_subtype')['amount']. mean ().plot(kind='bar', ax=ax)\n",
    "ax.set_xticklabels(ax.get_xticklabels(), rotation=0)\n",
    "ax.set_title('Mean amount spent within each subtype')\n",
    "ax.set_ylabel('Count')\n",
    "plt.show ()"
   ]
  },
  {
   "cell_type": "code",
   "execution_count": 195,
   "metadata": {},
   "outputs": [
    {
     "data": {
      "image/png": "[encoded data removed]",
      "text/plain": [
       "<Figure size 1152x360 with 1 Axes>"
      ]
     },
     "metadata": {},
     "output_type": "display_data"
    }
   ],
   "source": [
    "fig, ax = plt.subplots(figsize = (16,5))\n",
    "trans_affect.groupby('offer_subtype')['amount']. median ().plot(kind='bar', ax=ax)\n",
    "ax.set_xticklabels(ax.get_xticklabels(), rotation=0)\n",
    "ax.set_title('Median value of amount spent within each subtype')\n",
    "ax.set_ylabel('Count')\n",
    "plt.show ()"
   ]
  },
  {
   "cell_type": "markdown",
   "metadata": {},
   "source": [
    "если мы говорим, что вот этот оффер он самый популярный, то не потому ли он популярен что чаще его рассылают? \n",
    "\n",
    "и среди тех юзеров что его получили какой коэффициент отклика? "
   ]
  },
  {
   "cell_type": "markdown",
   "metadata": {},
   "source": [
    "***Number of customers never affected by provided offers***"
   ]
  },
  {
   "cell_type": "code",
   "execution_count": 196,
   "metadata": {},
   "outputs": [
    {
     "name": "stdout",
     "output_type": "stream",
     "text": [
      "Number of persons that received an offer at least once:  16994\n",
      "Number of persons among clients that never received any offer:  6\n",
      "Number of persons that viewed an offer at least once:  16834\n",
      "Number of persons that completed an offer at least once:  12774\n",
      "Overall number of unique customers that made transactions:  16578\n",
      "Number of unique customers that are not influenced by offers:  3602\n",
      "Percentage of customers that were influenced by received offers:  71.80209801158604\n"
     ]
    }
   ],
   "source": [
    "completed_offers_ids = df [df ['event'] == 'offer completed']\n",
    "received_offers_ids = df [df ['event'] == 'offer received']\n",
    "viewed_offers_ids = df [df ['event'] == 'offer viewed']\n",
    "persons_not_influenced= trans_affect ['person'].nunique () - trans_affect_tmp [trans_affect_tmp [\"offer_type\"] !='No offer'] ['person'].nunique ()\n",
    "\n",
    "print ('Number of persons that received an offer at least once: ', received_offers_ids['person'].nunique ())\n",
    "print ('Number of persons among clients that never received any offer: ', df ['person'].nunique()- received_offers_ids['person'].nunique ())\n",
    "print ('Number of persons that viewed an offer at least once: ', viewed_offers_ids['person'].nunique ())\n",
    "print ('Number of persons that completed an offer at least once: ', completed_offers_ids['person'].nunique ())\n",
    "print ('Overall number of unique customers that made transactions: ', trans_affect ['person'].nunique ())\n",
    "print ('Number of unique customers that are not influenced by offers: ', persons_not_influenced)\n",
    "print ('Percentage of customers that were influenced by received offers: ', (completed_offers_ids['person'].nunique () -persons_not_influenced)/completed_offers_ids['person'].nunique ()*100)"
   ]
  },
  {
   "cell_type": "markdown",
   "metadata": {},
   "source": [
    "We can say that almost **72%** of customer that received offers positively reacted to them, from the other hand about **28%** were not affected although recieved offers. "
   ]
  },
  {
   "cell_type": "markdown",
   "metadata": {},
   "source": [
    "#### Closer look at the consumers never affected by the offers"
   ]
  },
  {
   "cell_type": "code",
   "execution_count": 197,
   "metadata": {},
   "outputs": [],
   "source": [
    "#let's find a list of persons that never were affected by any offer although have done transactions\n",
    "person_no_offer= np.array (trans_affect_tmp [trans_affect_tmp [\"offer_type\"] =='No offer'] ['person'].unique ())\n",
    "person_with_offer = np.array (trans_affect_tmp [trans_affect_tmp [\"offer_type\"] !='No offer'] ['person'].unique ())\n",
    "\n",
    "person_no_offer = np.setdiff1d (person_no_offer,person_with_offer)"
   ]
  },
  {
   "cell_type": "code",
   "execution_count": 198,
   "metadata": {},
   "outputs": [],
   "source": [
    "#list of customers using and not using offers\n",
    "customers_using_offers = profile [~profile ['id'].isin (person_no_offer)]\n",
    "customers_not_using_offers = profile [profile ['id'].isin (person_no_offer)]\n",
    "\n",
    "customers_using_offers_inc = profile_income [~profile_income ['id'].isin (person_no_offer)]\n",
    "customers_not_using_offers_inc = profile_income [profile_income ['id'].isin (person_no_offer)]"
   ]
  },
  {
   "cell_type": "code",
   "execution_count": 199,
   "metadata": {},
   "outputs": [
    {
     "name": "stderr",
     "output_type": "stream",
     "text": [
      "D:\\Users\\Kusainov\\AppData\\Local\\Continuum\\anaconda3\\lib\\site-packages\\ipykernel_launcher.py:435: UserWarning:\n",
      "\n",
      "Matplotlib is currently using module://ipykernel.pylab.backend_inline, which is a non-GUI backend, so cannot show the figure.\n",
      "\n"
     ]
    },
    {
     "data": {
      "image/png": "[encoded data removed]",
      "text/plain": [
       "<Figure size 432x288 with 2 Axes>"
      ]
     },
     "metadata": {},
     "output_type": "display_data"
    }
   ],
   "source": [
    "comparison_func (customers_not_using_offers, customers_using_offers, 'gender')\n"
   ]
  },
  {
   "cell_type": "code",
   "execution_count": 200,
   "metadata": {},
   "outputs": [
    {
     "data": {
      "text/plain": [
       "count     3602\n",
       "unique       4\n",
       "top          M\n",
       "freq      1794\n",
       "Name: gender, dtype: object"
      ]
     },
     "execution_count": 200,
     "metadata": {},
     "output_type": "execute_result"
    }
   ],
   "source": [
    "customers_not_using_offers ['gender'].describe()"
   ]
  },
  {
   "cell_type": "code",
   "execution_count": 201,
   "metadata": {},
   "outputs": [
    {
     "data": {
      "text/plain": [
       "count     13398\n",
       "unique        4\n",
       "top           M\n",
       "freq       6690\n",
       "Name: gender, dtype: object"
      ]
     },
     "execution_count": 201,
     "metadata": {},
     "output_type": "execute_result"
    }
   ],
   "source": [
    "customers_using_offers ['gender'].describe()"
   ]
  },
  {
   "cell_type": "markdown",
   "metadata": {},
   "source": [
    "It appears that special group is presented in both datasets almost equally about 1000 persons, however within customers that do not use offers proportion of special group is around 28% while in second dataset the proportion is about 8%. "
   ]
  },
  {
   "cell_type": "code",
   "execution_count": 202,
   "metadata": {},
   "outputs": [
    {
     "data": {
      "text/plain": [
       "<matplotlib.axes._subplots.AxesSubplot at 0x1448ebe0>"
      ]
     },
     "execution_count": 202,
     "metadata": {},
     "output_type": "execute_result"
    },
    {
     "data": {
      "image/png": "[encoded data removed]",
      "text/plain": [
       "<Figure size 864x432 with 2 Axes>"
      ]
     },
     "metadata": {},
     "output_type": "display_data"
    }
   ],
   "source": [
    "#plotting customers distribution by age\n",
    "fig, axes = plt.subplots (nrows=1, ncols=2, figsize = (12,6))\n",
    "\n",
    "customers_not_using_offers ['age'].plot (kind = 'hist',\n",
    "                    title = 'Clients not using offers (age)',\n",
    "                    #figsize = (6, 4.8),\n",
    "                    ax = axes [0]\n",
    "                      )\n",
    "customers_using_offers ['age'].plot (kind = 'hist',\n",
    "                    title = 'Clients using offers (age)',\n",
    "                    #figsize = (6, 4.8), \n",
    "                    ax = axes [1]\n",
    "                    )\n",
    "#plt.subplots_adjust(wspace= 0.5)"
   ]
  },
  {
   "cell_type": "code",
   "execution_count": 203,
   "metadata": {},
   "outputs": [
    {
     "name": "stdout",
     "output_type": "stream",
     "text": [
      "Mean of age for customers not using offers 70.08967240421988\n",
      "Median of age for customers not using offers 62.0\n",
      "Mean of age for customers using offers 60.49940289595462\n",
      "Median of age for customers using offers 58.0\n"
     ]
    }
   ],
   "source": [
    "print ('Mean of age for customers not using offers',customers_not_using_offers ['age'].mean ())\n",
    "print ('Median of age for customers not using offers',customers_not_using_offers ['age'].median ())\n",
    "print ('Mean of age for customers using offers',customers_using_offers ['age'].mean ())\n",
    "print ('Median of age for customers using offers',customers_using_offers ['age'].median ())"
   ]
  },
  {
   "cell_type": "code",
   "execution_count": 204,
   "metadata": {},
   "outputs": [
    {
     "data": {
      "text/plain": [
       "<matplotlib.axes._subplots.AxesSubplot at 0x1445e390>"
      ]
     },
     "execution_count": 204,
     "metadata": {},
     "output_type": "execute_result"
    },
    {
     "data": {
      "image/png": "[encoded data removed]",
      "text/plain": [
       "<Figure size 864x432 with 2 Axes>"
      ]
     },
     "metadata": {},
     "output_type": "display_data"
    }
   ],
   "source": [
    "fig, axes = plt.subplots (nrows=1, ncols=2, figsize= (12,6))\n",
    "\n",
    "#since income for special group is uncertain I have eliminated them from diagrams\n",
    "customers_not_using_offers_inc ['income'].plot (kind = 'hist',\n",
    "                    title = 'Clients not using offers (income)',\n",
    "                    ax=axes [0]\n",
    "                      )\n",
    "\n",
    "customers_using_offers_inc ['income'].plot (kind = 'hist',\n",
    "                    title = 'Clients using offers (income)',\n",
    "                    ax=axes [1]\n",
    "                      )\n"
   ]
  },
  {
   "cell_type": "code",
   "execution_count": 205,
   "metadata": {},
   "outputs": [
    {
     "name": "stdout",
     "output_type": "stream",
     "text": [
      "Mean of income for customers not using offers 41617.43475846752\n",
      "Median of income for customers not using offers 45000.0\n",
      "Mean of income for customers using offers 61182.48992386924\n",
      "Median of income for customers using offers 62000.0\n"
     ]
    }
   ],
   "source": [
    "print ('Mean of income for customers not using offers',customers_not_using_offers ['income'].mean ())\n",
    "print ('Median of income for customers not using offers',customers_not_using_offers ['income'].median ())\n",
    "print ('Mean of income for customers using offers',customers_using_offers ['income'].mean ())\n",
    "print ('Median of income for customers using offers',customers_using_offers ['income'].median ())"
   ]
  },
  {
   "cell_type": "code",
   "execution_count": 206,
   "metadata": {},
   "outputs": [
    {
     "data": {
      "image/png": "[encoded data removed]",
      "text/plain": [
       "<Figure size 432x288 with 1 Axes>"
      ]
     },
     "metadata": {},
     "output_type": "display_data"
    }
   ],
   "source": [
    "#plotting customers distribution by age\n",
    "customers_not_using_offers ['became_member_on'].hist();"
   ]
  },
  {
   "cell_type": "code",
   "execution_count": 207,
   "metadata": {},
   "outputs": [
    {
     "data": {
      "image/png": "[encoded data removed]",
      "text/plain": [
       "<Figure size 432x288 with 1 Axes>"
      ]
     },
     "metadata": {},
     "output_type": "display_data"
    }
   ],
   "source": [
    "#plotting customers distribution by age\n",
    "customers_using_offers ['became_member_on'].hist();"
   ]
  },
  {
   "cell_type": "markdown",
   "metadata": {},
   "source": [
    "*****\n",
    "Sum of money consumed by clients who do not respond completely to the offers and by those who respond"
   ]
  },
  {
   "cell_type": "code",
   "execution_count": 216,
   "metadata": {},
   "outputs": [
    {
     "name": "stdout",
     "output_type": "stream",
     "text": [
      "Mean value of amount spent for people who do not respond to offers 5.81228928373128\n",
      "Median value of amount spent for people who do not respond to offers 2.63\n",
      "Mean value of amount spent for people who respond to offers 13.814546025813666\n",
      "Median value of amount spent for people who respond to offers 10.56\n"
     ]
    }
   ],
   "source": [
    "print ('Mean value of amount spent for people who do not respond to offers', trans_affect [trans_affect ['person'].isin (person_no_offer)]['amount'].mean ())\n",
    "print ('Median value of amount spent for people who do not respond to offers', trans_affect [trans_affect ['person'].isin (person_no_offer)]['amount'].median ())\n",
    "print ('Mean value of amount spent for people who respond to offers', trans_affect [~trans_affect ['person'].isin (person_no_offer)]['amount'].mean ())\n",
    "print ('Median value of amount spent for people who respond to offers', trans_affect [~trans_affect ['person'].isin (person_no_offer)]['amount'].median ())"
   ]
  },
  {
   "cell_type": "markdown",
   "metadata": {},
   "source": [
    "**Summary for the section**\n",
    "Within group of people that do not respond to offers Special group plays significant role. It occupies second place with 28% for gender distribution while in the overall client base it is presented within 8% only. Similarly they are significantly presented within age distribution comparing to the general community. From the above I can conclude that this special group is overpresented among \"not responding\" people. \n",
    "\n",
    "As for the general observations concerning 'not responding' people, we can say that men ignoring offers more frequently than women, clients using offers generally younger and the income is higher. Majority of 'not responsive' customers registered in 2018 the responsive people tend to purchase for bigger amounts.    "
   ]
  },
  {
   "cell_type": "markdown",
   "metadata": {},
   "source": [
    "#### Building base for FunkSVD"
   ]
  },
  {
   "cell_type": "code",
   "execution_count": 217,
   "metadata": {},
   "outputs": [
    {
     "data": {
      "text/html": [
       "<div>\n",
       "<style scoped>\n",
       "    .dataframe tbody tr th:only-of-type {\n",
       "        vertical-align: middle;\n",
       "    }\n",
       "\n",
       "    .dataframe tbody tr th {\n",
       "        vertical-align: top;\n",
       "    }\n",
       "\n",
       "    .dataframe thead th {\n",
       "        text-align: right;\n",
       "    }\n",
       "</style>\n",
       "<table border=\"1\" class=\"dataframe\">\n",
       "  <thead>\n",
       "    <tr style=\"text-align: right;\">\n",
       "      <th></th>\n",
       "      <th>user_id</th>\n",
       "      <th>rate</th>\n",
       "      <th>off_subtype_id</th>\n",
       "    </tr>\n",
       "  </thead>\n",
       "  <tbody>\n",
       "    <tr>\n",
       "      <th>0</th>\n",
       "      <td>4</td>\n",
       "      <td>0</td>\n",
       "      <td>1</td>\n",
       "    </tr>\n",
       "    <tr>\n",
       "      <th>1</th>\n",
       "      <td>5</td>\n",
       "      <td>0</td>\n",
       "      <td>1</td>\n",
       "    </tr>\n",
       "    <tr>\n",
       "      <th>2</th>\n",
       "      <td>9</td>\n",
       "      <td>1</td>\n",
       "      <td>1</td>\n",
       "    </tr>\n",
       "    <tr>\n",
       "      <th>3</th>\n",
       "      <td>11</td>\n",
       "      <td>0</td>\n",
       "      <td>1</td>\n",
       "    </tr>\n",
       "    <tr>\n",
       "      <th>4</th>\n",
       "      <td>14</td>\n",
       "      <td>0</td>\n",
       "      <td>1</td>\n",
       "    </tr>\n",
       "  </tbody>\n",
       "</table>\n",
       "</div>"
      ],
      "text/plain": [
       "  user_id rate off_subtype_id\n",
       "0       4    0              1\n",
       "1       5    0              1\n",
       "2       9    1              1\n",
       "3      11    0              1\n",
       "4      14    0              1"
      ]
     },
     "execution_count": 217,
     "metadata": {},
     "output_type": "execute_result"
    }
   ],
   "source": [
    "#using more convinient user_id for df. userid_dict contains mapping between original user values and new ids\n",
    "userid_encoded, userid_dict = userid_mapper()\n",
    "del df['person']\n",
    "df['user_id'] = userid_encoded\n",
    "\n",
    "#creating dictionary for all subtypes\n",
    "subtype_dict = {'bogo_5_10':1, 'bogo_5_5':2, 'bogo_7_10':3, 'bogo_7_5':4, 'discount_10_10':5,\n",
    "                 'discount_10_20':6, 'discount_7_10':7, 'discount_7_7':8, 'informational_3_0':9, \n",
    "                 'informational_4_0':10}\n",
    "subt_dict_bogo_disc = {'bogo_5_10':1, 'bogo_5_5':2, 'bogo_7_10':3, 'bogo_7_5':4, 'discount_10_10':5,\n",
    "                       'discount_10_20':6, 'discount_7_10':7, 'discount_7_7':8}\n",
    "subt_dict_inform = {'informational_3_0':9, \n",
    "                    'informational_4_0':10}\n",
    "\n",
    "#preparing ratings for all offers except informational. \n",
    "df_rate = offer_rate ()\n",
    "\n",
    "#preparing rating for informational offers\n",
    "df_rate_inform = offer_inform_rate ()\n",
    "\n",
    "#concatenate all the dataframes\n",
    "df_rate_joint = pd.concat ([df_rate, df_rate_inform], ignore_index = True)\n",
    "\n",
    "# show header\n",
    "df_rate_joint.head (n=5)"
   ]
  },
  {
   "cell_type": "code",
   "execution_count": 218,
   "metadata": {},
   "outputs": [
    {
     "data": {
      "text/html": [
       "<div>\n",
       "<style scoped>\n",
       "    .dataframe tbody tr th:only-of-type {\n",
       "        vertical-align: middle;\n",
       "    }\n",
       "\n",
       "    .dataframe tbody tr th {\n",
       "        vertical-align: top;\n",
       "    }\n",
       "\n",
       "    .dataframe thead th {\n",
       "        text-align: right;\n",
       "    }\n",
       "</style>\n",
       "<table border=\"1\" class=\"dataframe\">\n",
       "  <thead>\n",
       "    <tr style=\"text-align: right;\">\n",
       "      <th>off_subtype_id</th>\n",
       "      <th>1</th>\n",
       "      <th>2</th>\n",
       "      <th>3</th>\n",
       "      <th>4</th>\n",
       "      <th>5</th>\n",
       "      <th>6</th>\n",
       "      <th>7</th>\n",
       "      <th>8</th>\n",
       "      <th>9</th>\n",
       "      <th>10</th>\n",
       "    </tr>\n",
       "    <tr>\n",
       "      <th>user_id</th>\n",
       "      <th></th>\n",
       "      <th></th>\n",
       "      <th></th>\n",
       "      <th></th>\n",
       "      <th></th>\n",
       "      <th></th>\n",
       "      <th></th>\n",
       "      <th></th>\n",
       "      <th></th>\n",
       "      <th></th>\n",
       "    </tr>\n",
       "  </thead>\n",
       "  <tbody>\n",
       "    <tr>\n",
       "      <th>1</th>\n",
       "      <td>NaN</td>\n",
       "      <td>1.0</td>\n",
       "      <td>1.0</td>\n",
       "      <td>1.0</td>\n",
       "      <td>NaN</td>\n",
       "      <td>NaN</td>\n",
       "      <td>NaN</td>\n",
       "      <td>NaN</td>\n",
       "      <td>1.0</td>\n",
       "      <td>NaN</td>\n",
       "    </tr>\n",
       "    <tr>\n",
       "      <th>2</th>\n",
       "      <td>NaN</td>\n",
       "      <td>NaN</td>\n",
       "      <td>NaN</td>\n",
       "      <td>NaN</td>\n",
       "      <td>NaN</td>\n",
       "      <td>0.0</td>\n",
       "      <td>NaN</td>\n",
       "      <td>NaN</td>\n",
       "      <td>0.0</td>\n",
       "      <td>0.0</td>\n",
       "    </tr>\n",
       "    <tr>\n",
       "      <th>3</th>\n",
       "      <td>NaN</td>\n",
       "      <td>NaN</td>\n",
       "      <td>NaN</td>\n",
       "      <td>1.0</td>\n",
       "      <td>1.0</td>\n",
       "      <td>NaN</td>\n",
       "      <td>0.0</td>\n",
       "      <td>NaN</td>\n",
       "      <td>NaN</td>\n",
       "      <td>0.0</td>\n",
       "    </tr>\n",
       "    <tr>\n",
       "      <th>4</th>\n",
       "      <td>0.0</td>\n",
       "      <td>NaN</td>\n",
       "      <td>NaN</td>\n",
       "      <td>NaN</td>\n",
       "      <td>0.0</td>\n",
       "      <td>NaN</td>\n",
       "      <td>0.0</td>\n",
       "      <td>NaN</td>\n",
       "      <td>NaN</td>\n",
       "      <td>0.0</td>\n",
       "    </tr>\n",
       "    <tr>\n",
       "      <th>5</th>\n",
       "      <td>0.0</td>\n",
       "      <td>NaN</td>\n",
       "      <td>0.0</td>\n",
       "      <td>0.0</td>\n",
       "      <td>NaN</td>\n",
       "      <td>NaN</td>\n",
       "      <td>0.0</td>\n",
       "      <td>0.0</td>\n",
       "      <td>NaN</td>\n",
       "      <td>NaN</td>\n",
       "    </tr>\n",
       "  </tbody>\n",
       "</table>\n",
       "</div>"
      ],
      "text/plain": [
       "off_subtype_id   1    2    3    4    5    6    7    8    9    10\n",
       "user_id                                                         \n",
       "1               NaN  1.0  1.0  1.0  NaN  NaN  NaN  NaN  1.0  NaN\n",
       "2               NaN  NaN  NaN  NaN  NaN  0.0  NaN  NaN  0.0  0.0\n",
       "3               NaN  NaN  NaN  1.0  1.0  NaN  0.0  NaN  NaN  0.0\n",
       "4               0.0  NaN  NaN  NaN  0.0  NaN  0.0  NaN  NaN  0.0\n",
       "5               0.0  NaN  0.0  0.0  NaN  NaN  0.0  0.0  NaN  NaN"
      ]
     },
     "execution_count": 218,
     "metadata": {},
     "output_type": "execute_result"
    }
   ],
   "source": [
    "#let's take a look to user_item_matrix\n",
    "user_item_matrix = df_rate_joint.groupby(['user_id', 'off_subtype_id'])['rate'].sum ().unstack()\n",
    "user_item_matrix.head (n=5)"
   ]
  },
  {
   "cell_type": "code",
   "execution_count": 219,
   "metadata": {
    "scrolled": false
   },
   "outputs": [
    {
     "data": {
      "text/plain": [
       "off_subtype_id\n",
       "1     0.627516\n",
       "2     0.631517\n",
       "3     0.624926\n",
       "4     0.626044\n",
       "5     0.627398\n",
       "6     0.624926\n",
       "7     0.630164\n",
       "8     0.627810\n",
       "9     0.628104\n",
       "10    0.627457\n",
       "dtype: float64"
      ]
     },
     "execution_count": 219,
     "metadata": {},
     "output_type": "execute_result"
    }
   ],
   "source": [
    "#proportion of missing values\n",
    "user_item_matrix.isnull ().sum()/user_item_matrix.shape[0]"
   ]
  },
  {
   "cell_type": "markdown",
   "metadata": {},
   "source": [
    "We can see that each offer subtype contains around 63% missing values."
   ]
  },
  {
   "cell_type": "code",
   "execution_count": 230,
   "metadata": {},
   "outputs": [
    {
     "name": "stdout",
     "output_type": "stream",
     "text": [
      "0.0    54.423381\n",
      "1.0    45.576619\n",
      "Name: 1, dtype: float64\n",
      "1.0    59.741297\n",
      "0.0    40.258703\n",
      "Name: 2, dtype: float64\n",
      "0.0    50.156887\n",
      "1.0    49.843113\n",
      "Name: 3, dtype: float64\n",
      "1.0    59.543666\n",
      "0.0    40.456334\n",
      "Name: 4, dtype: float64\n",
      "1.0    71.541377\n",
      "0.0    28.458623\n",
      "Name: 5, dtype: float64\n",
      "0.0    53.278946\n",
      "1.0    46.721054\n",
      "Name: 6, dtype: float64\n",
      "1.0    55.369928\n",
      "0.0    44.630072\n",
      "Name: 7, dtype: float64\n",
      "1.0    69.897233\n",
      "0.0    30.102767\n",
      "Name: 8, dtype: float64\n",
      "1.0    50.332278\n",
      "0.0    49.667722\n",
      "Name: 9, dtype: float64\n",
      "0.0    68.425209\n",
      "1.0    31.574791\n",
      "Name: 10, dtype: float64\n"
     ]
    }
   ],
   "source": [
    "#Number of zeroes and ones in the matrix\n",
    "for col in user_item_matrix.columns:\n",
    "    print (user_item_matrix [col].value_counts()/user_item_matrix [col].notnull ().sum()*100)"
   ]
  },
  {
   "cell_type": "markdown",
   "metadata": {},
   "source": [
    "From the above we can see that only for 3 offer subtypes proportion is about 70% to 30% while for the majority it is from 40/60 to 50/50. The classes are not imbalanced. "
   ]
  },
  {
   "cell_type": "code",
   "execution_count": 220,
   "metadata": {},
   "outputs": [
    {
     "name": "stdout",
     "output_type": "stream",
     "text": [
      "Optimizaiton Statistics\n",
      "Iterations | Mean Squared Error \n",
      "1 \t\t 0.345431\n",
      "2 \t\t 0.248962\n",
      "3 \t\t 0.245725\n",
      "4 \t\t 0.245110\n",
      "5 \t\t 0.244820\n",
      "6 \t\t 0.244571\n",
      "7 \t\t 0.244328\n",
      "8 \t\t 0.244086\n",
      "9 \t\t 0.243844\n",
      "10 \t\t 0.243603\n",
      "11 \t\t 0.243361\n",
      "12 \t\t 0.243120\n",
      "13 \t\t 0.242879\n",
      "14 \t\t 0.242639\n",
      "15 \t\t 0.242398\n",
      "16 \t\t 0.242158\n",
      "17 \t\t 0.241918\n",
      "18 \t\t 0.241678\n",
      "19 \t\t 0.241439\n",
      "20 \t\t 0.241199\n",
      "21 \t\t 0.240960\n",
      "22 \t\t 0.240721\n",
      "23 \t\t 0.240482\n",
      "24 \t\t 0.240244\n",
      "25 \t\t 0.240005\n",
      "26 \t\t 0.239767\n",
      "27 \t\t 0.239529\n",
      "28 \t\t 0.239291\n",
      "29 \t\t 0.239053\n",
      "30 \t\t 0.238816\n",
      "31 \t\t 0.238579\n",
      "32 \t\t 0.238342\n",
      "33 \t\t 0.238105\n",
      "34 \t\t 0.237868\n",
      "35 \t\t 0.237631\n",
      "36 \t\t 0.237395\n",
      "37 \t\t 0.237159\n",
      "38 \t\t 0.236923\n",
      "39 \t\t 0.236687\n",
      "40 \t\t 0.236452\n",
      "41 \t\t 0.236216\n",
      "42 \t\t 0.235981\n",
      "43 \t\t 0.235746\n",
      "44 \t\t 0.235511\n",
      "45 \t\t 0.235276\n",
      "46 \t\t 0.235042\n",
      "47 \t\t 0.234807\n",
      "48 \t\t 0.234573\n",
      "49 \t\t 0.234339\n",
      "50 \t\t 0.234105\n"
     ]
    }
   ],
   "source": [
    "#apply funkSVD on the whole dataset\n",
    "user_mat, offer_mat = FunkSVD (np.matrix (user_item_matrix), latent_features=10, learning_rate=0.001, iters=50)"
   ]
  },
  {
   "cell_type": "code",
   "execution_count": 222,
   "metadata": {},
   "outputs": [
    {
     "name": "stdout",
     "output_type": "stream",
     "text": [
      "[[0. 1. 0. ... 1. 1. 0.]\n",
      " [1. 1. 1. ... 1. 1. 0.]\n",
      " [0. 1. 0. ... 1. 0. 0.]\n",
      " ...\n",
      " [0. 1. 0. ... 1. 0. 0.]\n",
      " [1. 1. 1. ... 1. 1. 0.]\n",
      " [0. 0. 0. ... 1. 1. 0.]]\n"
     ]
    },
    {
     "data": {
      "text/plain": [
       "matrix([[nan,  1.,  1., ..., nan,  1., nan],\n",
       "        [nan, nan, nan, ..., nan,  0.,  0.],\n",
       "        [nan, nan, nan, ..., nan, nan,  0.],\n",
       "        ...,\n",
       "        [nan, nan, nan, ..., nan, nan, nan],\n",
       "        [ 0., nan, nan, ..., nan, nan, nan],\n",
       "        [ 0., nan, nan, ..., nan, nan, nan]])"
      ]
     },
     "execution_count": 222,
     "metadata": {},
     "output_type": "execute_result"
    }
   ],
   "source": [
    "#looking at prediction and original matrix\n",
    "print (np.abs (np.round (np.dot(user_mat, offer_mat))))\n",
    "np.matrix (user_item_matrix)"
   ]
  },
  {
   "cell_type": "markdown",
   "metadata": {},
   "source": [
    "**But how are we doing? Is the prediction good enough?**  \n",
    "So to validate results we can split rates into train and test sets. Train model on the train set and verify how well it is doing on the test set, comparing to a naive predictor. We can assume naively that all offers will be completed/used by all customers. It should be kept in mind that we can verify predictions only for customers and offer subtypes that presented in both datasets."
   ]
  },
  {
   "cell_type": "code",
   "execution_count": 223,
   "metadata": {},
   "outputs": [
    {
     "name": "stdout",
     "output_type": "stream",
     "text": [
      "Number of common customers in both train and test sets: 5456\n",
      "Number of common offer subtypes in both train and test sets: 10\n",
      "Number of customers for whom we are not able to make predictions due to cold start problem:  45\n"
     ]
    }
   ],
   "source": [
    "#preparing train and test user_item_matrix\n",
    "train_matrix, test_matrix = user_item_train_test_split (df_rate_joint) \n",
    "print ('Number of common customers in both train and test sets: {}'. format (len (train_matrix.index.intersection (test_matrix.index))))\n",
    "print ('Number of common offer subtypes in both train and test sets: {}'. format (len (train_matrix.columns.intersection (test_matrix.columns))))\n",
    "print (\"Number of customers for whom we are not able to make predictions due to cold start problem: \", len (test_matrix.index) - len (train_matrix.index.intersection (test_matrix.index)))"
   ]
  },
  {
   "cell_type": "code",
   "execution_count": 224,
   "metadata": {},
   "outputs": [
    {
     "data": {
      "text/html": [
       "<div>\n",
       "<style scoped>\n",
       "    .dataframe tbody tr th:only-of-type {\n",
       "        vertical-align: middle;\n",
       "    }\n",
       "\n",
       "    .dataframe tbody tr th {\n",
       "        vertical-align: top;\n",
       "    }\n",
       "\n",
       "    .dataframe thead th {\n",
       "        text-align: right;\n",
       "    }\n",
       "</style>\n",
       "<table border=\"1\" class=\"dataframe\">\n",
       "  <thead>\n",
       "    <tr style=\"text-align: right;\">\n",
       "      <th>off_subtype_id</th>\n",
       "      <th>1</th>\n",
       "      <th>2</th>\n",
       "      <th>3</th>\n",
       "      <th>4</th>\n",
       "      <th>5</th>\n",
       "      <th>6</th>\n",
       "      <th>7</th>\n",
       "      <th>8</th>\n",
       "      <th>9</th>\n",
       "      <th>10</th>\n",
       "    </tr>\n",
       "    <tr>\n",
       "      <th>user_id</th>\n",
       "      <th></th>\n",
       "      <th></th>\n",
       "      <th></th>\n",
       "      <th></th>\n",
       "      <th></th>\n",
       "      <th></th>\n",
       "      <th></th>\n",
       "      <th></th>\n",
       "      <th></th>\n",
       "      <th></th>\n",
       "    </tr>\n",
       "  </thead>\n",
       "  <tbody>\n",
       "    <tr>\n",
       "      <th>1</th>\n",
       "      <td>NaN</td>\n",
       "      <td>1.0</td>\n",
       "      <td>1.0</td>\n",
       "      <td>1.0</td>\n",
       "      <td>NaN</td>\n",
       "      <td>NaN</td>\n",
       "      <td>NaN</td>\n",
       "      <td>NaN</td>\n",
       "      <td>1.0</td>\n",
       "      <td>NaN</td>\n",
       "    </tr>\n",
       "    <tr>\n",
       "      <th>2</th>\n",
       "      <td>NaN</td>\n",
       "      <td>NaN</td>\n",
       "      <td>NaN</td>\n",
       "      <td>NaN</td>\n",
       "      <td>NaN</td>\n",
       "      <td>NaN</td>\n",
       "      <td>NaN</td>\n",
       "      <td>NaN</td>\n",
       "      <td>0.0</td>\n",
       "      <td>0.0</td>\n",
       "    </tr>\n",
       "    <tr>\n",
       "      <th>3</th>\n",
       "      <td>NaN</td>\n",
       "      <td>NaN</td>\n",
       "      <td>NaN</td>\n",
       "      <td>1.0</td>\n",
       "      <td>1.0</td>\n",
       "      <td>NaN</td>\n",
       "      <td>0.0</td>\n",
       "      <td>NaN</td>\n",
       "      <td>NaN</td>\n",
       "      <td>0.0</td>\n",
       "    </tr>\n",
       "    <tr>\n",
       "      <th>4</th>\n",
       "      <td>0.0</td>\n",
       "      <td>NaN</td>\n",
       "      <td>NaN</td>\n",
       "      <td>NaN</td>\n",
       "      <td>0.0</td>\n",
       "      <td>NaN</td>\n",
       "      <td>0.0</td>\n",
       "      <td>NaN</td>\n",
       "      <td>NaN</td>\n",
       "      <td>NaN</td>\n",
       "    </tr>\n",
       "    <tr>\n",
       "      <th>5</th>\n",
       "      <td>0.0</td>\n",
       "      <td>NaN</td>\n",
       "      <td>0.0</td>\n",
       "      <td>0.0</td>\n",
       "      <td>NaN</td>\n",
       "      <td>NaN</td>\n",
       "      <td>NaN</td>\n",
       "      <td>0.0</td>\n",
       "      <td>NaN</td>\n",
       "      <td>NaN</td>\n",
       "    </tr>\n",
       "    <tr>\n",
       "      <th>6</th>\n",
       "      <td>NaN</td>\n",
       "      <td>1.0</td>\n",
       "      <td>NaN</td>\n",
       "      <td>1.0</td>\n",
       "      <td>1.0</td>\n",
       "      <td>NaN</td>\n",
       "      <td>1.0</td>\n",
       "      <td>NaN</td>\n",
       "      <td>NaN</td>\n",
       "      <td>NaN</td>\n",
       "    </tr>\n",
       "    <tr>\n",
       "      <th>7</th>\n",
       "      <td>NaN</td>\n",
       "      <td>NaN</td>\n",
       "      <td>1.0</td>\n",
       "      <td>NaN</td>\n",
       "      <td>NaN</td>\n",
       "      <td>NaN</td>\n",
       "      <td>NaN</td>\n",
       "      <td>0.0</td>\n",
       "      <td>NaN</td>\n",
       "      <td>NaN</td>\n",
       "    </tr>\n",
       "    <tr>\n",
       "      <th>8</th>\n",
       "      <td>NaN</td>\n",
       "      <td>NaN</td>\n",
       "      <td>NaN</td>\n",
       "      <td>NaN</td>\n",
       "      <td>1.0</td>\n",
       "      <td>NaN</td>\n",
       "      <td>NaN</td>\n",
       "      <td>0.0</td>\n",
       "      <td>NaN</td>\n",
       "      <td>0.0</td>\n",
       "    </tr>\n",
       "    <tr>\n",
       "      <th>9</th>\n",
       "      <td>1.0</td>\n",
       "      <td>NaN</td>\n",
       "      <td>1.0</td>\n",
       "      <td>NaN</td>\n",
       "      <td>NaN</td>\n",
       "      <td>0.0</td>\n",
       "      <td>NaN</td>\n",
       "      <td>NaN</td>\n",
       "      <td>0.0</td>\n",
       "      <td>NaN</td>\n",
       "    </tr>\n",
       "    <tr>\n",
       "      <th>10</th>\n",
       "      <td>NaN</td>\n",
       "      <td>NaN</td>\n",
       "      <td>NaN</td>\n",
       "      <td>NaN</td>\n",
       "      <td>1.0</td>\n",
       "      <td>0.0</td>\n",
       "      <td>NaN</td>\n",
       "      <td>1.0</td>\n",
       "      <td>NaN</td>\n",
       "      <td>NaN</td>\n",
       "    </tr>\n",
       "  </tbody>\n",
       "</table>\n",
       "</div>"
      ],
      "text/plain": [
       "off_subtype_id   1    2    3    4    5    6    7    8    9    10\n",
       "user_id                                                         \n",
       "1               NaN  1.0  1.0  1.0  NaN  NaN  NaN  NaN  1.0  NaN\n",
       "2               NaN  NaN  NaN  NaN  NaN  NaN  NaN  NaN  0.0  0.0\n",
       "3               NaN  NaN  NaN  1.0  1.0  NaN  0.0  NaN  NaN  0.0\n",
       "4               0.0  NaN  NaN  NaN  0.0  NaN  0.0  NaN  NaN  NaN\n",
       "5               0.0  NaN  0.0  0.0  NaN  NaN  NaN  0.0  NaN  NaN\n",
       "6               NaN  1.0  NaN  1.0  1.0  NaN  1.0  NaN  NaN  NaN\n",
       "7               NaN  NaN  1.0  NaN  NaN  NaN  NaN  0.0  NaN  NaN\n",
       "8               NaN  NaN  NaN  NaN  1.0  NaN  NaN  0.0  NaN  0.0\n",
       "9               1.0  NaN  1.0  NaN  NaN  0.0  NaN  NaN  0.0  NaN\n",
       "10              NaN  NaN  NaN  NaN  1.0  0.0  NaN  1.0  NaN  NaN"
      ]
     },
     "metadata": {},
     "output_type": "display_data"
    },
    {
     "data": {
      "text/html": [
       "<div>\n",
       "<style scoped>\n",
       "    .dataframe tbody tr th:only-of-type {\n",
       "        vertical-align: middle;\n",
       "    }\n",
       "\n",
       "    .dataframe tbody tr th {\n",
       "        vertical-align: top;\n",
       "    }\n",
       "\n",
       "    .dataframe thead th {\n",
       "        text-align: right;\n",
       "    }\n",
       "</style>\n",
       "<table border=\"1\" class=\"dataframe\">\n",
       "  <thead>\n",
       "    <tr style=\"text-align: right;\">\n",
       "      <th>off_subtype_id</th>\n",
       "      <th>1</th>\n",
       "      <th>2</th>\n",
       "      <th>3</th>\n",
       "      <th>4</th>\n",
       "      <th>5</th>\n",
       "      <th>6</th>\n",
       "      <th>7</th>\n",
       "      <th>8</th>\n",
       "      <th>9</th>\n",
       "      <th>10</th>\n",
       "    </tr>\n",
       "    <tr>\n",
       "      <th>user_id</th>\n",
       "      <th></th>\n",
       "      <th></th>\n",
       "      <th></th>\n",
       "      <th></th>\n",
       "      <th></th>\n",
       "      <th></th>\n",
       "      <th></th>\n",
       "      <th></th>\n",
       "      <th></th>\n",
       "      <th></th>\n",
       "    </tr>\n",
       "  </thead>\n",
       "  <tbody>\n",
       "    <tr>\n",
       "      <th>2</th>\n",
       "      <td>NaN</td>\n",
       "      <td>NaN</td>\n",
       "      <td>NaN</td>\n",
       "      <td>NaN</td>\n",
       "      <td>NaN</td>\n",
       "      <td>0.0</td>\n",
       "      <td>NaN</td>\n",
       "      <td>NaN</td>\n",
       "      <td>NaN</td>\n",
       "      <td>NaN</td>\n",
       "    </tr>\n",
       "    <tr>\n",
       "      <th>4</th>\n",
       "      <td>NaN</td>\n",
       "      <td>NaN</td>\n",
       "      <td>NaN</td>\n",
       "      <td>NaN</td>\n",
       "      <td>NaN</td>\n",
       "      <td>NaN</td>\n",
       "      <td>NaN</td>\n",
       "      <td>NaN</td>\n",
       "      <td>NaN</td>\n",
       "      <td>0.0</td>\n",
       "    </tr>\n",
       "    <tr>\n",
       "      <th>5</th>\n",
       "      <td>NaN</td>\n",
       "      <td>NaN</td>\n",
       "      <td>NaN</td>\n",
       "      <td>NaN</td>\n",
       "      <td>NaN</td>\n",
       "      <td>NaN</td>\n",
       "      <td>0.0</td>\n",
       "      <td>NaN</td>\n",
       "      <td>NaN</td>\n",
       "      <td>NaN</td>\n",
       "    </tr>\n",
       "    <tr>\n",
       "      <th>9</th>\n",
       "      <td>NaN</td>\n",
       "      <td>1.0</td>\n",
       "      <td>NaN</td>\n",
       "      <td>NaN</td>\n",
       "      <td>NaN</td>\n",
       "      <td>NaN</td>\n",
       "      <td>NaN</td>\n",
       "      <td>NaN</td>\n",
       "      <td>NaN</td>\n",
       "      <td>NaN</td>\n",
       "    </tr>\n",
       "    <tr>\n",
       "      <th>13</th>\n",
       "      <td>NaN</td>\n",
       "      <td>NaN</td>\n",
       "      <td>1.0</td>\n",
       "      <td>NaN</td>\n",
       "      <td>NaN</td>\n",
       "      <td>NaN</td>\n",
       "      <td>NaN</td>\n",
       "      <td>NaN</td>\n",
       "      <td>NaN</td>\n",
       "      <td>NaN</td>\n",
       "    </tr>\n",
       "    <tr>\n",
       "      <th>14</th>\n",
       "      <td>NaN</td>\n",
       "      <td>NaN</td>\n",
       "      <td>NaN</td>\n",
       "      <td>NaN</td>\n",
       "      <td>1.0</td>\n",
       "      <td>NaN</td>\n",
       "      <td>NaN</td>\n",
       "      <td>NaN</td>\n",
       "      <td>NaN</td>\n",
       "      <td>NaN</td>\n",
       "    </tr>\n",
       "    <tr>\n",
       "      <th>16</th>\n",
       "      <td>NaN</td>\n",
       "      <td>NaN</td>\n",
       "      <td>NaN</td>\n",
       "      <td>NaN</td>\n",
       "      <td>NaN</td>\n",
       "      <td>NaN</td>\n",
       "      <td>NaN</td>\n",
       "      <td>NaN</td>\n",
       "      <td>NaN</td>\n",
       "      <td>1.0</td>\n",
       "    </tr>\n",
       "    <tr>\n",
       "      <th>19</th>\n",
       "      <td>NaN</td>\n",
       "      <td>NaN</td>\n",
       "      <td>NaN</td>\n",
       "      <td>NaN</td>\n",
       "      <td>1.0</td>\n",
       "      <td>NaN</td>\n",
       "      <td>NaN</td>\n",
       "      <td>NaN</td>\n",
       "      <td>NaN</td>\n",
       "      <td>NaN</td>\n",
       "    </tr>\n",
       "    <tr>\n",
       "      <th>20</th>\n",
       "      <td>1.0</td>\n",
       "      <td>NaN</td>\n",
       "      <td>NaN</td>\n",
       "      <td>NaN</td>\n",
       "      <td>NaN</td>\n",
       "      <td>NaN</td>\n",
       "      <td>NaN</td>\n",
       "      <td>NaN</td>\n",
       "      <td>NaN</td>\n",
       "      <td>NaN</td>\n",
       "    </tr>\n",
       "    <tr>\n",
       "      <th>22</th>\n",
       "      <td>NaN</td>\n",
       "      <td>NaN</td>\n",
       "      <td>NaN</td>\n",
       "      <td>NaN</td>\n",
       "      <td>NaN</td>\n",
       "      <td>NaN</td>\n",
       "      <td>NaN</td>\n",
       "      <td>NaN</td>\n",
       "      <td>0.0</td>\n",
       "      <td>NaN</td>\n",
       "    </tr>\n",
       "  </tbody>\n",
       "</table>\n",
       "</div>"
      ],
      "text/plain": [
       "off_subtype_id   1    2    3   4    5    6    7   8    9    10\n",
       "user_id                                                       \n",
       "2               NaN  NaN  NaN NaN  NaN  0.0  NaN NaN  NaN  NaN\n",
       "4               NaN  NaN  NaN NaN  NaN  NaN  NaN NaN  NaN  0.0\n",
       "5               NaN  NaN  NaN NaN  NaN  NaN  0.0 NaN  NaN  NaN\n",
       "9               NaN  1.0  NaN NaN  NaN  NaN  NaN NaN  NaN  NaN\n",
       "13              NaN  NaN  1.0 NaN  NaN  NaN  NaN NaN  NaN  NaN\n",
       "14              NaN  NaN  NaN NaN  1.0  NaN  NaN NaN  NaN  NaN\n",
       "16              NaN  NaN  NaN NaN  NaN  NaN  NaN NaN  NaN  1.0\n",
       "19              NaN  NaN  NaN NaN  1.0  NaN  NaN NaN  NaN  NaN\n",
       "20              1.0  NaN  NaN NaN  NaN  NaN  NaN NaN  NaN  NaN\n",
       "22              NaN  NaN  NaN NaN  NaN  NaN  NaN NaN  0.0  NaN"
      ]
     },
     "metadata": {},
     "output_type": "display_data"
    }
   ],
   "source": [
    "#take a look to the result\n",
    "display (train_matrix.head (n=10))\n",
    "display (test_matrix.head (n=10))"
   ]
  },
  {
   "cell_type": "code",
   "execution_count": null,
   "metadata": {},
   "outputs": [],
   "source": [
    "#checking proportion of missing values in both sets\n",
    "print (train_matrix.isnull().sum()/train_matrix.shape[0])\n",
    "print (test_matrix.isnull().sum()/test_matrix.shape[0])\n"
   ]
  },
  {
   "cell_type": "markdown",
   "metadata": {},
   "source": [
    "We can see that number of missing values for each subtype increased from 63% to 66% for train set and to 88% for test set. "
   ]
  },
  {
   "cell_type": "markdown",
   "metadata": {},
   "source": [
    "#### Fitting model to the train dataset"
   ]
  },
  {
   "cell_type": "code",
   "execution_count": null,
   "metadata": {
    "scrolled": false
   },
   "outputs": [],
   "source": [
    "#fit to train \n",
    "user_mat_train, offer_mat_train = FunkSVD (np.matrix (train_matrix), latent_features=5, learning_rate=0.001, iters=20)\n",
    "train_predict_np= np.abs(np.round (np.dot(user_mat_train, offer_mat_train)))\n",
    "\n",
    "#checking predicted values in each column, it should be filled only with zeroes and ones\n",
    "predict_train_matrix = pd.DataFrame (train_predict_np, index = train_matrix.index, columns = train_matrix.columns)\n",
    "for j in predict_train_matrix.columns:\n",
    "    print (predict_train_matrix[j].value_counts())\n",
    "\n",
    "#validation results on train and test sets    \n",
    "validation_func (train_matrix, predict_train_matrix, is_train=True)\n",
    "validation_func (test_matrix, predict_train_matrix)"
   ]
  },
  {
   "cell_type": "markdown",
   "metadata": {},
   "source": [
    "Now let's compare above results with the Naive predictor."
   ]
  },
  {
   "cell_type": "code",
   "execution_count": null,
   "metadata": {},
   "outputs": [],
   "source": [
    "#Comparing to naive predictor model\n",
    "base_predict = predict_train_matrix.copy ()\n",
    "\n",
    "#we consider that all offers would be used by customers\n",
    "for j in base_predict.columns:\n",
    "    base_predict[j] = 1.0\n",
    "    \n",
    "#accuraccy and MSE, RMSE for naive predictor model\n",
    "print ('Naive model prediction metric:')\n",
    "validation_func (test_matrix, base_predict)"
   ]
  },
  {
   "cell_type": "markdown",
   "metadata": {},
   "source": [
    "*****\n",
    "As it can be seen our FunkSVD model is not doing very well as the accuracy difference on the test set between the model and Naive predictor is only 3%.  \n",
    "\n",
    "**Can this result be improved?**  \n",
    "We can use custom gridsearch_funkSVD function that will verify how well the model doing with all possible parameters."
   ]
  },
  {
   "cell_type": "code",
   "execution_count": null,
   "metadata": {},
   "outputs": [],
   "source": [
    "#now let's fine-tune model using different number of latent features, learning rate and number of iterations.\n",
    "params = {\"latent_feat\": [5, 10, 15],\n",
    "          \"num_iter\": [50, 100, 150],\n",
    "          \"learning_rate\": [0.001, 0.005, 0.01]\n",
    "          }\n",
    "gridsearch_funkSVD (params)"
   ]
  },
  {
   "cell_type": "markdown",
   "metadata": {},
   "source": [
    "#### Observations: \n",
    "We can see that the more number of latent features, iterations and the larger learning we use then accordingly the more chance for the model to overfit on the train set and and on contrary lower number of iterations, latent features and learning rate makes performance of the model poorer on the test set.  \n",
    "So there should a trade off between parameters and performance. \n",
    "\n",
    "From the above table the best parameters are:number of latent features =5, learning rate=0.005, number of iterations=100.  \n",
    "These parameters are giving optimized model.\n",
    "\n",
    "|     Metric     | Naive Model       |Unoptimized Model  | Optimized Model | \n",
    "| :------------: | :---------------: | :-------------:   | :-------------: | \n",
    "| Accuracy Score | 0.5378            |0.5659             | 0.7093          | \n",
    "| MSE            | 0.4621            |0.4340             | 0.2907          | "
   ]
  },
  {
   "cell_type": "markdown",
   "metadata": {},
   "source": [
    "Now that we have understanding about the best parameters, let's apply FunkSVD using them on the whole dataset "
   ]
  },
  {
   "cell_type": "code",
   "execution_count": null,
   "metadata": {},
   "outputs": [],
   "source": [
    "#apply model using best parameters\n",
    "user_mat, offer_mat = FunkSVD (np.matrix (user_item_matrix), latent_features=5, learning_rate=0.005, iters=100, verbose=False)\n",
    "\n",
    "prediction= np.abs(np.round (np.dot(user_mat, offer_mat)))\n",
    "predict_matrix = pd.DataFrame (prediction, index = user_item_matrix.index, columns = user_item_matrix.columns)\n",
    "\n",
    "#inspect some user_id / offer comparing to the actual values. \n",
    "display (user_item_matrix.head (n=10))\n",
    "display (predict_matrix.head (n=10))"
   ]
  },
  {
   "cell_type": "markdown",
   "metadata": {},
   "source": [
    "Verify whether the model is overfitting."
   ]
  },
  {
   "cell_type": "code",
   "execution_count": null,
   "metadata": {},
   "outputs": [],
   "source": [
    "#verify if any overfitting presented in the predicted matrix\n",
    "k=False\n",
    "for j in predict_matrix.columns:\n",
    "    if predict_matrix[j].nunique()>2:\n",
    "        k=True\n",
    "        print ('Model is overfitting')\n",
    "        break\n",
    "if k==False:\n",
    "    print ('Model is NOT overfitting')\n"
   ]
  },
  {
   "cell_type": "markdown",
   "metadata": {},
   "source": [
    "*****\n",
    "Another kind of inspection we can perform comparing proportion of posivite and negative reactions to the offer subtypes in the original dataset and the predicted. Presumably the algorithms that produced the dataset are designed to keep similar proportion of positive and negative reactions for all customers and offers. If this is true then we should expect the model to keep the proportions for all customers within offer subtypes similar to original dataset. Let's verify if our model is doing that. "
   ]
  },
  {
   "cell_type": "code",
   "execution_count": null,
   "metadata": {
    "scrolled": false
   },
   "outputs": [],
   "source": [
    "#comparing proportion of positive and negative reaction to the offers in original dataset and predicted\n",
    "fig, axes = plt.subplots (nrows=10, ncols=2, figsize = (12,40))\n",
    "\n",
    "for i,j in subtype_dict.items():\n",
    "    user_item_matrix [j].plot (kind = 'hist',\n",
    "                    title = 'Original set of '+str(i),\n",
    "                    ax = axes [j-1,0]\n",
    "                      )\n",
    "    predict_matrix [j].plot (kind = 'hist',\n",
    "                    title = 'Predicted set of '+str(i),\n",
    "                    ax = axes [j-1,1]\n",
    "                    )\n",
    "    \n",
    "plt.show()"
   ]
  },
  {
   "cell_type": "markdown",
   "metadata": {},
   "source": [
    "From the above we can see that for the majority of offer subtypes the proportions are similar except for informational_3_0, discount_10_20. The ground truth can be found only when we observe simulation of the algorithms for the all customers, so that we have user_item_matrix without missing values. "
   ]
  },
  {
   "cell_type": "markdown",
   "metadata": {},
   "source": [
    "**Conclusion**\n",
    "\n"
   ]
  },
  {
   "cell_type": "code",
   "execution_count": null,
   "metadata": {},
   "outputs": [],
   "source": []
  },
  {
   "cell_type": "code",
   "execution_count": null,
   "metadata": {},
   "outputs": [],
   "source": []
  }
 ],
 "metadata": {
  "kernelspec": {
   "display_name": "Python 3",
   "language": "python",
   "name": "python3"
  },
  "language_info": {
   "codemirror_mode": {
    "name": "ipython",
    "version": 3
   },
   "file_extension": ".py",
   "mimetype": "text/x-python",
   "name": "python",
   "nbconvert_exporter": "python",
   "pygments_lexer": "ipython3",
   "version": "3.6.5"
  }
 },
 "nbformat": 4,
 "nbformat_minor": 2
}
